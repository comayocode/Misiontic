{
 "cells": [
  {
   "cell_type": "markdown",
   "metadata": {},
   "source": [
    "# Lenguaje java\n",
    "\n",
    "Temas que se vieron en la introducción a JAVA:\n",
    "\n",
    "- Historia: Un poco del origen y como se usaban años atrás\n",
    "\n",
    "- Versiones: Se mostró una tabla con las versiones, su fecha de lanzamiento y fecha de finalización de soporte.\n",
    "\n",
    "- Entornos o tipos de aplicaciones que se pueden crear con Java\n",
    "\n",
    "- Explicación de JVM, JRE y JDK\n",
    "\n",
    "- Lenguajes compilados e interpretados\n",
    "\n",
    "- Entornos de desarrollo con los cuales se puede programar en Java\n",
    "\n",
    "- Instalación de las herramientas necesarias para el ciclo\n",
    "\n",
    "- Recorrido o primer contacto con el lenguaje"
   ]
  },
  {
   "cell_type": "markdown",
   "metadata": {},
   "source": [
    "## Instalaciones\n",
    "\n",
    "\n",
    "- Visual Studio Code - https://code.visualstudio.com/download\n",
    "- JDK - https://www.oracle.com/java/technologies/downloads/\n",
    "- Git - https://git-scm.com/downloads\n",
    "- Maven - https://maven.apache.org/download.cgi\n",
    "- SQLite - https://www.sqlite.org/download.html\n",
    "- DBeaver Community - https://dbeaver.io/download/\n",
    "- StartUML - Herramienta Case - https://staruml.io/download\n",
    "- PlantUML - Diagramas como Código - https://plantuml.com/es/\n",
    "- Diagrams.Net - Online Diagram - https://app.diagrams.net/\n"
   ]
  },
  {
   "cell_type": "markdown",
   "metadata": {},
   "source": [
    "# Recorrido por el lenguaje"
   ]
  },
  {
   "cell_type": "markdown",
   "metadata": {},
   "source": [
    "## Comentarios\n",
    "\n",
    "- Comentario en una línea: //\n",
    "\n",
    "- Comentario de varias lineas: /* */\n",
    "\n",
    "- Comentario de documentación: /** * * */"
   ]
  },
  {
   "cell_type": "code",
   "execution_count": 1,
   "metadata": {},
   "outputs": [
    {
     "ename": "SyntaxError",
     "evalue": "invalid syntax (959784903.py, line 1)",
     "output_type": "error",
     "traceback": [
      "\u001b[1;36m  Input \u001b[1;32mIn [1]\u001b[1;36m\u001b[0m\n\u001b[1;33m    public class App {\u001b[0m\n\u001b[1;37m           ^\u001b[0m\n\u001b[1;31mSyntaxError\u001b[0m\u001b[1;31m:\u001b[0m invalid syntax\n"
     ]
    }
   ],
   "source": [
    "\n"
   ]
  },
  {
   "cell_type": "markdown",
   "metadata": {},
   "source": []
  }
 ],
 "metadata": {
  "kernelspec": {
   "display_name": "Python 3.8.10 64-bit",
   "language": "python",
   "name": "python3"
  },
  "language_info": {
   "codemirror_mode": {
    "name": "ipython",
    "version": 3
   },
   "file_extension": ".py",
   "mimetype": "text/x-python",
   "name": "python",
   "nbconvert_exporter": "python",
   "pygments_lexer": "ipython3",
   "version": "3.8.10"
  },
  "orig_nbformat": 4,
  "vscode": {
   "interpreter": {
    "hash": "7a96227b8776e9e8b92184c6bd2959aa06e1e0881b6901ba05538acbe1b6a7a4"
   }
  }
 },
 "nbformat": 4,
 "nbformat_minor": 2
}
