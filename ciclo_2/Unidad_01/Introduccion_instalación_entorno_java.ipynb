{
 "cells": [
  {
   "cell_type": "markdown",
   "metadata": {},
   "source": [
    "# Lenguaje java\n",
    "\n",
    "Temas que se vieron en la introducción a JAVA:\n",
    "\n",
    "- Historia: Un poco del origen y como se usaban años atrás\n",
    "\n",
    "- Versiones: Se mostró una tabla con las versiones, su fecha de lanzamiento y fecha de finalización de soporte.\n",
    "\n",
    "- Entornos o tipos de aplicaciones que se pueden crear con Java\n",
    "\n",
    "- Explicación de JVM, JRE y JDK\n",
    "\n",
    "- Lenguajes compilados e interpretados\n",
    "\n",
    "- Entornos de desarrollo con los cuales se puede programar en Java\n",
    "\n",
    "- Instalación de las herramientas necesarias para el ciclo\n",
    "\n",
    "- Recorrido o primer contacto con el lenguaje"
   ]
  },
  {
   "cell_type": "markdown",
   "metadata": {},
   "source": [
    "## Instalaciones\n",
    "\n",
    "\n",
    "- Visual Studio Code - https://code.visualstudio.com/download\n",
    "- JDK - https://www.oracle.com/java/technologies/downloads/\n",
    "- Git - https://git-scm.com/downloads\n",
    "- Maven - https://maven.apache.org/download.cgi\n",
    "- SQLite - https://www.sqlite.org/download.html\n",
    "- DBeaver Community - https://dbeaver.io/download/\n",
    "- StartUML - Herramienta Case - https://staruml.io/download\n",
    "- PlantUML - Diagramas como Código - https://plantuml.com/es/\n",
    "- Diagrams.Net - Online Diagram - https://app.diagrams.net/\n"
   ]
  },
  {
   "cell_type": "markdown",
   "metadata": {},
   "source": []
  }
 ],
 "metadata": {
  "language_info": {
   "name": "python"
  },
  "orig_nbformat": 4
 },
 "nbformat": 4,
 "nbformat_minor": 2
}
