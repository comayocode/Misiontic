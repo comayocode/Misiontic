{
 "cells": [
  {
   "cell_type": "markdown",
   "metadata": {},
   "source": [
    "# Estructuras cíclicas\n",
    "\n",
    "Son estructuras que tienen como función iterar X cantidad de veces X elemento a partir de una condición."
   ]
  },
  {
   "cell_type": "markdown",
   "metadata": {},
   "source": [
    "# Actualización de variables\n",
    "\n",
    "Antes de querer acutalizar una variable hay que inicializrla:"
   ]
  },
  {
   "cell_type": "code",
   "execution_count": 58,
   "metadata": {},
   "outputs": [],
   "source": [
    "x = 0"
   ]
  },
  {
   "cell_type": "markdown",
   "metadata": {},
   "source": [
    "Se pone la variable que se quiere actualizar (x), se pasa la misma variable y se le añade un nuevo valor:"
   ]
  },
  {
   "cell_type": "code",
   "execution_count": 59,
   "metadata": {},
   "outputs": [
    {
     "name": "stdout",
     "output_type": "stream",
     "text": [
      "1\n"
     ]
    }
   ],
   "source": [
    "x = x + 1\n",
    "print(x)"
   ]
  },
  {
   "cell_type": "markdown",
   "metadata": {},
   "source": [
    "Actualizar una varibale añadiendo 1 se le llama incremento, restandole 1 se llama decremento:"
   ]
  },
  {
   "cell_type": "code",
   "execution_count": 60,
   "metadata": {},
   "outputs": [
    {
     "name": "stdout",
     "output_type": "stream",
     "text": [
      "0\n"
     ]
    }
   ],
   "source": [
    "y = 0\n",
    "y = y + 1\n",
    "y = y - 1\n",
    "print(y)"
   ]
  },
  {
   "cell_type": "markdown",
   "metadata": {},
   "source": [
    "Podemos simplificar lo anterior de la siguiente manera:"
   ]
  },
  {
   "cell_type": "code",
   "execution_count": 61,
   "metadata": {},
   "outputs": [],
   "source": [
    "x += 1"
   ]
  },
  {
   "cell_type": "markdown",
   "metadata": {},
   "source": [
    "# Ciclo While\n",
    "\n",
    "Este ciclo ejecuta una instrucción mientras una condición sea válida, mientras X sea válido ejecute Y:"
   ]
  },
  {
   "cell_type": "code",
   "execution_count": 62,
   "metadata": {},
   "outputs": [
    {
     "name": "stdout",
     "output_type": "stream",
     "text": [
      "5\n",
      "4\n",
      "3\n",
      "2\n",
      "1\n",
      "Despegue!\n"
     ]
    }
   ],
   "source": [
    "n = 5\n",
    "while n > 0:\n",
    "    print(n)\n",
    "    n = n - 1\n",
    "print('Despegue!')"
   ]
  },
  {
   "cell_type": "markdown",
   "metadata": {},
   "source": [
    "En el ejemplo anterior primero se incializa una variable `n = 5` y se usa el while para hacer un conteo regresivo, mientras la variable `n` sea mayor a 0 se resta en 1 la variable, es decir cada vez se actualiza la variable en 1 unidad, cuando la variable llegue a 0 se imprime el mensaje"
   ]
  },
  {
   "cell_type": "markdown",
   "metadata": {},
   "source": [
    "## While con else\n",
    "\n",
    "En este caso la sentencia else se aplicará cada vez que el while sea False"
   ]
  },
  {
   "cell_type": "code",
   "execution_count": 63,
   "metadata": {},
   "outputs": [
    {
     "ename": "ValueError",
     "evalue": "invalid literal for int() with base 10: ''",
     "output_type": "error",
     "traceback": [
      "\u001b[1;31m---------------------------------------------------------------------------\u001b[0m",
      "\u001b[1;31mValueError\u001b[0m                                Traceback (most recent call last)",
      "\u001b[1;32mc:\\Users\\ronal\\Desktop\\Misiontic2022\\ciclo_1\\Unidad_03\\notas_Unidad_03.ipynb Cell 14'\u001b[0m in \u001b[0;36m<cell line: 4>\u001b[1;34m()\u001b[0m\n\u001b[0;32m      <a href='vscode-notebook-cell:/c%3A/Users/ronal/Desktop/Misiontic2022/ciclo_1/Unidad_03/notas_Unidad_03.ipynb#ch0000013?line=0'>1</a>\u001b[0m promedio, total, contar \u001b[39m=\u001b[39m \u001b[39m0.0\u001b[39m, \u001b[39m0\u001b[39m, \u001b[39m0\u001b[39m\n\u001b[0;32m      <a href='vscode-notebook-cell:/c%3A/Users/ronal/Desktop/Misiontic2022/ciclo_1/Unidad_03/notas_Unidad_03.ipynb#ch0000013?line=1'>2</a>\u001b[0m mensaje \u001b[39m=\u001b[39m \u001b[39m\"\u001b[39m\u001b[39mIntroduzca la nota de un estudiante (-1 para salir): \u001b[39m\u001b[39m\"\u001b[39m\n\u001b[1;32m----> <a href='vscode-notebook-cell:/c%3A/Users/ronal/Desktop/Misiontic2022/ciclo_1/Unidad_03/notas_Unidad_03.ipynb#ch0000013?line=3'>4</a>\u001b[0m grado \u001b[39m=\u001b[39m \u001b[39mint\u001b[39;49m(\u001b[39minput\u001b[39;49m(mensaje))\n\u001b[0;32m      <a href='vscode-notebook-cell:/c%3A/Users/ronal/Desktop/Misiontic2022/ciclo_1/Unidad_03/notas_Unidad_03.ipynb#ch0000013?line=4'>5</a>\u001b[0m \u001b[39mwhile\u001b[39;00m grado \u001b[39m!=\u001b[39m \u001b[39m-\u001b[39m\u001b[39m1\u001b[39m:\n\u001b[0;32m      <a href='vscode-notebook-cell:/c%3A/Users/ronal/Desktop/Misiontic2022/ciclo_1/Unidad_03/notas_Unidad_03.ipynb#ch0000013?line=5'>6</a>\u001b[0m     total \u001b[39m=\u001b[39m total \u001b[39m+\u001b[39m grado\n",
      "\u001b[1;31mValueError\u001b[0m: invalid literal for int() with base 10: ''"
     ]
    }
   ],
   "source": [
    "promedio, total, contar = 0.0, 0, 0\n",
    "mensaje = \"Introduzca la nota de un estudiante (-1 para salir): \"\n",
    "\n",
    "grado = int(input(mensaje))\n",
    "while grado != -1:\n",
    "    total = total + grado\n",
    "    contar += 1\n",
    "    grado = int(input(mensaje))\n",
    "else:\n",
    "    promedio = total / contar\n",
    "    print(\"Promedio de notas del grado escolar: \" + str(promedio))"
   ]
  },
  {
   "cell_type": "markdown",
   "metadata": {},
   "source": [
    "En cuanto grado = -1 se ejecuta la sentencia else"
   ]
  },
  {
   "cell_type": "markdown",
   "metadata": {},
   "source": [
    "# Break\n",
    "\n",
    "Detiene la ejecución de una instucción aunque la condición en un ciclo sea TRUE."
   ]
  },
  {
   "cell_type": "code",
   "execution_count": null,
   "metadata": {},
   "outputs": [],
   "source": [
    "variable = 10\n",
    "\n",
    "while variable > 0:\n",
    "    print('Actual valor de variable:', variable)\n",
    "    variable = variable -1\n",
    "    if variable == 5:\n",
    "        break"
   ]
  },
  {
   "cell_type": "markdown",
   "metadata": {},
   "source": [
    "# Continue\n",
    "\n",
    "Saltará una instrucción en una condición, pero seguirá con la iteración."
   ]
  },
  {
   "cell_type": "code",
   "execution_count": null,
   "metadata": {},
   "outputs": [],
   "source": [
    "variable = 5\n",
    "\n",
    "while variable > 0:\n",
    "    variable = variable -1\n",
    "    if variable == 3:\n",
    "        continue\n",
    "    print('Actual valor de variable:', variable) # no imprime el 5"
   ]
  },
  {
   "cell_type": "markdown",
   "metadata": {},
   "source": [
    "# Ciclo for\n",
    "\n",
    "Este ciclo es diferente que en otros lenguajes, el ciclo for en python itera sobre los items o elementos de una lista o string."
   ]
  },
  {
   "cell_type": "code",
   "execution_count": null,
   "metadata": {},
   "outputs": [],
   "source": [
    "for x in range(0, 3):\n",
    "    print(\"Estamos en la iteración \" + str(x))"
   ]
  },
  {
   "cell_type": "markdown",
   "metadata": {},
   "source": [
    "Se crea una variable y se le pasa la lista iterable"
   ]
  },
  {
   "cell_type": "code",
   "execution_count": null,
   "metadata": {},
   "outputs": [],
   "source": [
    "lista = [10,20,30]\n",
    "\n",
    "for x in lista:\n",
    "    print(x)"
   ]
  },
  {
   "cell_type": "code",
   "execution_count": null,
   "metadata": {},
   "outputs": [],
   "source": [
    "oracion = 'Mary entiende muy bien Python'\n",
    "frases = oracion.split() # convierte a una lista cada palabra\n",
    "print(\"La oración analizada es:\", oracion, \".\\n\")\n",
    "\n",
    "for palabra in range(len(frases)):\n",
    "    print(\"Palabra: {}, en la frase su posición es: {}\".format(\n",
    "        frases[palabra], palabra))"
   ]
  },
  {
   "cell_type": "markdown",
   "metadata": {},
   "source": [
    "## Ciclo for con diccionarios\n",
    "\n",
    "Aquí se presentan algunos ejemplos de bucles for con diccionarios:\n"
   ]
  },
  {
   "cell_type": "code",
   "execution_count": null,
   "metadata": {},
   "outputs": [],
   "source": [
    "datos_basicos = {\n",
    "    \"nombres\":\"Leonardo Jose\",\n",
    "    \"apellidos\":\"Caballero Garcia\",\n",
    "    \"cedula\":\"26938401\",\n",
    "    \"fecha_nacimiento\":\"03/12/1980\",\n",
    "    \"lugar_nacimiento\":\"Maracaibo, Zulia, Venezuela\",\n",
    "    \"nacionalidad\":\"Venezolana\",\n",
    "    \"estado_civil\":\"Soltero\"\n",
    "}"
   ]
  },
  {
   "cell_type": "code",
   "execution_count": null,
   "metadata": {},
   "outputs": [],
   "source": [
    "clave = datos_basicos.keys()\n",
    "valor = datos_basicos.values()\n",
    "\n",
    "cantidad_datos = datos_basicos.items()\n",
    "\n",
    "for clave, valor in cantidad_datos:\n",
    "    print(clave + \": \" + valor)"
   ]
  },
  {
   "cell_type": "code",
   "execution_count": null,
   "metadata": {},
   "outputs": [],
   "source": [
    "frutas = {'Fresa':'roja', 'Limon':'verde', 'Papaya':'naranja', 'Manzana':'amarilla', 'Guayaba':'rosa'}\n",
    "for nombre, color in frutas.items():\n",
    "    print(nombre, \"es de color\", color)"
   ]
  },
  {
   "cell_type": "markdown",
   "metadata": {},
   "source": [
    "# Anidación de listas"
   ]
  },
  {
   "cell_type": "markdown",
   "metadata": {},
   "source": [
    "## Listas paralelas\n",
    "\n",
    "Son listas que un item está \"enlazado\" con otro item de otra lista:\n",
    "\n",
    "<img src=\"img/Screenshot_1.png\">"
   ]
  },
  {
   "cell_type": "markdown",
   "metadata": {},
   "source": [
    "## Ejemplo:\n",
    "\n",
    "- Cargar x cantidad de nombres de personas y sus edades\n",
    "\n",
    "- Después imprimir en consla los nombres de las personas que son mayores de edad"
   ]
  },
  {
   "cell_type": "code",
   "execution_count": null,
   "metadata": {},
   "outputs": [],
   "source": [
    "nombres = []\n",
    "edades = []\n",
    "\n",
    "for x in range(2):\n",
    "    nom = input(\"Ingrese el nombre de la persona: \")\n",
    "    nombres.append(nom)\n",
    "    ed=int(input(\"ingerese la edad de la persona: \"))\n",
    "    edades.append(ed)\n",
    "\n",
    "print(\"Nombre de las personas mayores de edad\")\n",
    "\n",
    "for x in range(2):\n",
    "    if edades[x]>=18:\n",
    "        print(nombres[x])"
   ]
  },
  {
   "cell_type": "markdown",
   "metadata": {},
   "source": [
    "## Listas compuestas\n",
    "\n",
    "Es el mismo concepto o equivalente a las matrices."
   ]
  },
  {
   "cell_type": "code",
   "execution_count": null,
   "metadata": {},
   "outputs": [
    {
     "name": "stdout",
     "output_type": "stream",
     "text": [
      "[[10, 20, 30], [1, 2, 3]]\n"
     ]
    }
   ],
   "source": [
    "hijo_1 = [10,20,30]\n",
    "hijo_2 = [1,2,3]\n",
    "padre = [hijo_1, hijo_2]\n",
    "print(padre)"
   ]
  },
  {
   "cell_type": "markdown",
   "metadata": {},
   "source": [
    "Para mostrar el primero elemento de la lista compuesta:"
   ]
  },
  {
   "cell_type": "code",
   "execution_count": null,
   "metadata": {},
   "outputs": [
    {
     "name": "stdout",
     "output_type": "stream",
     "text": [
      "[10, 20, 30]\n"
     ]
    }
   ],
   "source": [
    "print(padre[0])"
   ]
  },
  {
   "cell_type": "markdown",
   "metadata": {},
   "source": [
    "Acceder al primer item del primer elemento de la lsita compuesta:"
   ]
  },
  {
   "cell_type": "code",
   "execution_count": null,
   "metadata": {},
   "outputs": [
    {
     "name": "stdout",
     "output_type": "stream",
     "text": [
      "10\n"
     ]
    }
   ],
   "source": [
    "print(padre[0][0])"
   ]
  },
  {
   "cell_type": "markdown",
   "metadata": {},
   "source": [
    "Acceder a todos los elementos del primer componente de una lista compuesta por listas:"
   ]
  },
  {
   "cell_type": "code",
   "execution_count": null,
   "metadata": {},
   "outputs": [],
   "source": [
    "for x in range(len(padre[0])):\n",
    "    print(padre[0][x])"
   ]
  },
  {
   "cell_type": "markdown",
   "metadata": {},
   "source": [
    "Acceder a todos los elementos de cada lista de listas:"
   ]
  },
  {
   "cell_type": "code",
   "execution_count": null,
   "metadata": {},
   "outputs": [],
   "source": [
    "for x in range(len(padre)):\n",
    "    for y in range(len(padre[x])):\n",
    "        print(padre[x][y])"
   ]
  },
  {
   "cell_type": "markdown",
   "metadata": {},
   "source": [
    "# Contenedores\n",
    "\n",
    "Estructuras de datos que pueden ser mutables o inmutables. Vamos a clasificarlos por su función, secuenciles y no secuenciales\n",
    "\n",
    "<img src=\"img/Screenshot_2.png\">"
   ]
  },
  {
   "cell_type": "markdown",
   "metadata": {},
   "source": [
    "## Secuanciales (ordenados)\n",
    "\n",
    "Los elementos deben seguir un orden o secuencia, para ello se usan listas, cadenas o tuplas."
   ]
  },
  {
   "cell_type": "markdown",
   "metadata": {},
   "source": [
    "### Strings (cadenas)"
   ]
  },
  {
   "cell_type": "code",
   "execution_count": null,
   "metadata": {},
   "outputs": [],
   "source": [
    "cadena = \"Este es un atributo\"\n",
    "nueva_cadena = cadena + \" nuevo\"\n",
    "print(\"Flujo: \", nueva_cadena)\n",
    "print(nueva_cadena[0:4]) #Imprime los caracteres desde 0:4"
   ]
  },
  {
   "cell_type": "markdown",
   "metadata": {},
   "source": [
    "### Tuplas"
   ]
  },
  {
   "cell_type": "markdown",
   "metadata": {},
   "source": [
    "Es una lista de elementos que no pueden ser modificados, una tupla la separamos por comas. A continuación se ven las diferentes maneras de crear una tupla."
   ]
  },
  {
   "cell_type": "code",
   "execution_count": null,
   "metadata": {},
   "outputs": [],
   "source": [
    "t = \"1\", \"a\", \"si\"\n",
    "print(type(t))"
   ]
  },
  {
   "cell_type": "code",
   "execution_count": null,
   "metadata": {},
   "outputs": [
    {
     "name": "stdout",
     "output_type": "stream",
     "text": [
      "1\n"
     ]
    }
   ],
   "source": [
    "t = (\"1\", \"a\", \"si\")\n",
    "print(t[0]) #Imprime a"
   ]
  },
  {
   "cell_type": "markdown",
   "metadata": {},
   "source": [
    "Crear tupla con un solo elemento:"
   ]
  },
  {
   "cell_type": "code",
   "execution_count": null,
   "metadata": {},
   "outputs": [
    {
     "name": "stdout",
     "output_type": "stream",
     "text": [
      "<class 'tuple'>\n"
     ]
    }
   ],
   "source": [
    "t1 = ('a',) # sin la 'coma' es un str con la 'coma' es una tupla\n",
    "print(type(t1))"
   ]
  },
  {
   "cell_type": "markdown",
   "metadata": {},
   "source": [
    "Si se quiere crear la tupla con un solo elemento se debe llevar una coma al final de la tupla, ya que si no se pone se tomará como un string."
   ]
  },
  {
   "cell_type": "code",
   "execution_count": 64,
   "metadata": {},
   "outputs": [
    {
     "name": "stdout",
     "output_type": "stream",
     "text": [
      "<class 'str'>\n"
     ]
    }
   ],
   "source": [
    "t2 = ('a') # sin la 'coma' es un str con la 'coma' es una tupla\n",
    "print(type(t2))"
   ]
  },
  {
   "cell_type": "markdown",
   "metadata": {},
   "source": [
    "Crear una tupla vacía:"
   ]
  },
  {
   "cell_type": "code",
   "execution_count": null,
   "metadata": {},
   "outputs": [],
   "source": [
    "t = tuple()\n",
    "print(type(t))"
   ]
  },
  {
   "cell_type": "markdown",
   "metadata": {},
   "source": [
    "### Listas\n",
    "\n",
    "Conjunto de elementos que pueden ser modificados, puede ser conformado por elementos de varios tipos (str, int, listas, tuplas etc...)"
   ]
  },
  {
   "cell_type": "markdown",
   "metadata": {},
   "source": [
    "Para crear una lista se usa los corchetes [] y adentro cada elemento es separado por una coma."
   ]
  },
  {
   "cell_type": "code",
   "execution_count": null,
   "metadata": {},
   "outputs": [],
   "source": [
    "lista = [\"Pepito\", 10, [4,6], 2.7]\n",
    "\n",
    "print(lista[0]) # Pepito\n",
    "print(lista[1]) # 10\n",
    "print(lista[2]) # [4,6]\n",
    "print(lista[3]) # 2.7\n",
    "print('Hicimos este cambio ->',lista[1:4]) # [10, [4, 6], 2.7]"
   ]
  }
 ],
 "metadata": {
  "kernelspec": {
   "display_name": "Python 3.8.10 64-bit",
   "language": "python",
   "name": "python3"
  },
  "language_info": {
   "codemirror_mode": {
    "name": "ipython",
    "version": 3
   },
   "file_extension": ".py",
   "mimetype": "text/x-python",
   "name": "python",
   "nbconvert_exporter": "python",
   "pygments_lexer": "ipython3",
   "version": "3.8.10"
  },
  "orig_nbformat": 4,
  "vscode": {
   "interpreter": {
    "hash": "7a96227b8776e9e8b92184c6bd2959aa06e1e0881b6901ba05538acbe1b6a7a4"
   }
  }
 },
 "nbformat": 4,
 "nbformat_minor": 2
}
