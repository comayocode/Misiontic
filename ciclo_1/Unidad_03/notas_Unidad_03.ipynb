{
 "cells": [
  {
   "cell_type": "markdown",
   "metadata": {},
   "source": [
    "# Estructuras cíclicas\n",
    "\n",
    "Son estructuras que tienen como función iterar X cantidad de veces X elemento a partir de una condición."
   ]
  },
  {
   "cell_type": "markdown",
   "metadata": {},
   "source": [
    "# Actualización de variables\n",
    "\n",
    "Antes de querer acutalizar una variable hay que inicializrla:"
   ]
  },
  {
   "cell_type": "code",
   "execution_count": 6,
   "metadata": {},
   "outputs": [],
   "source": [
    "x = 0"
   ]
  },
  {
   "cell_type": "markdown",
   "metadata": {},
   "source": [
    "Se pone la variable que se quiere actualizar (x), se pasa la misma variable y se le añade un nuevo valor:"
   ]
  },
  {
   "cell_type": "code",
   "execution_count": null,
   "metadata": {},
   "outputs": [],
   "source": [
    "x = x + 1\n",
    "print(x)"
   ]
  },
  {
   "cell_type": "markdown",
   "metadata": {},
   "source": [
    "Actualizar una varibale añadiendo 1 se le llama incremento, restandole 1 se llama decremento:"
   ]
  },
  {
   "cell_type": "code",
   "execution_count": null,
   "metadata": {},
   "outputs": [],
   "source": [
    "y = 0\n",
    "y = y + 1\n",
    "y = y - 1\n",
    "print(y)"
   ]
  },
  {
   "cell_type": "markdown",
   "metadata": {},
   "source": [
    "Podemos simplificar lo anterior de la siguiente manera:"
   ]
  },
  {
   "cell_type": "code",
   "execution_count": 9,
   "metadata": {},
   "outputs": [],
   "source": [
    "x += 1"
   ]
  },
  {
   "cell_type": "markdown",
   "metadata": {},
   "source": [
    "# Ciclo While\n",
    "\n",
    "Este ciclo ejecuta una instrucción mientras una condición sea válida, mientras X sea válido ejecute Y:"
   ]
  },
  {
   "cell_type": "code",
   "execution_count": null,
   "metadata": {},
   "outputs": [],
   "source": [
    "n = 5\n",
    "while n > 0:\n",
    "    print(n)\n",
    "    n = n - 1\n",
    "print('Despegue!')"
   ]
  },
  {
   "cell_type": "markdown",
   "metadata": {},
   "source": [
    "En el ejemplo anterior primero se incializa una variable `n = 5` y se usa el while para hacer un conteo regresivo, mientras la variable `n` sea mayor a 0 se resta en 1 la variable, es decir cada vez se actualiza la variable en 1 unidad, cuando la variable llegue a 0 se imprime el mensaje"
   ]
  },
  {
   "cell_type": "markdown",
   "metadata": {},
   "source": [
    "## While con else\n",
    "\n",
    "En este caso la sentencia else se aplicará cada vez que el while sea False"
   ]
  },
  {
   "cell_type": "code",
   "execution_count": 11,
   "metadata": {},
   "outputs": [
    {
     "name": "stdout",
     "output_type": "stream",
     "text": [
      "Promedio de notas del grado escolar: 4.0\n"
     ]
    }
   ],
   "source": [
    "promedio, total, contar = 0.0, 0, 0\n",
    "mensaje = \"Introduzca la nota de un estudiante (-1 para salir): \"\n",
    "\n",
    "grado = int(input(mensaje))\n",
    "while grado != -1:\n",
    "    total = total + grado\n",
    "    contar += 1\n",
    "    grado = int(input(mensaje))\n",
    "else:\n",
    "    promedio = total / contar\n",
    "    print(\"Promedio de notas del grado escolar: \" + str(promedio))"
   ]
  },
  {
   "cell_type": "markdown",
   "metadata": {},
   "source": [
    "En cuanto grado = -1 se ejecuta la sentencia else"
   ]
  },
  {
   "cell_type": "markdown",
   "metadata": {},
   "source": [
    "# Break\n",
    "\n",
    "Detiene la ejecución de una instucción aunque la condición en un ciclo sea TRUE."
   ]
  },
  {
   "cell_type": "code",
   "execution_count": null,
   "metadata": {},
   "outputs": [],
   "source": [
    "variable = 10\n",
    "\n",
    "while variable > 0:\n",
    "    print('Actual valor de variable:', variable)\n",
    "    variable = variable -1\n",
    "    if variable == 5:\n",
    "        break"
   ]
  },
  {
   "cell_type": "markdown",
   "metadata": {},
   "source": [
    "# Continue\n",
    "\n",
    "Saltará una instrucción en una condición, pero seguirá con la iteración."
   ]
  },
  {
   "cell_type": "code",
   "execution_count": null,
   "metadata": {},
   "outputs": [],
   "source": [
    "variable = 5\n",
    "\n",
    "while variable > 0:\n",
    "    variable = variable -1\n",
    "    if variable == 3:\n",
    "        continue\n",
    "    print('Actual valor de variable:', variable) # no imprime el 5"
   ]
  },
  {
   "cell_type": "markdown",
   "metadata": {},
   "source": [
    "# Ciclo for\n",
    "\n",
    "Este ciclo es diferente que en otros lenguajes, el ciclo for en python itera sobre los items o elementos de una lista o string."
   ]
  },
  {
   "cell_type": "code",
   "execution_count": null,
   "metadata": {},
   "outputs": [],
   "source": [
    "for x in range(0, 3):\n",
    "    print(\"Estamos en la iteración \" + str(x))"
   ]
  },
  {
   "cell_type": "markdown",
   "metadata": {},
   "source": [
    "Se crea una variable y se le pasa la lista iterable"
   ]
  },
  {
   "cell_type": "code",
   "execution_count": null,
   "metadata": {},
   "outputs": [],
   "source": [
    "lista = [10,20,30]\n",
    "\n",
    "for x in lista:\n",
    "    print(x)"
   ]
  },
  {
   "cell_type": "code",
   "execution_count": null,
   "metadata": {},
   "outputs": [],
   "source": [
    "oracion = 'Mary entiende muy bien Python'\n",
    "frases = oracion.split() # convierte a una lista cada palabra\n",
    "print(\"La oración analizada es:\", oracion, \".\\n\")\n",
    "\n",
    "for palabra in range(len(frases)):\n",
    "    print(\"Palabra: {}, en la frase su posición es: {}\".format(\n",
    "        frases[palabra], palabra))"
   ]
  },
  {
   "cell_type": "markdown",
   "metadata": {},
   "source": [
    "## Ciclo for con diccionarios\n",
    "\n",
    "Aquí se presentan algunos ejemplos de bucles for con diccionarios:\n"
   ]
  },
  {
   "cell_type": "code",
   "execution_count": 21,
   "metadata": {},
   "outputs": [],
   "source": [
    "datos_basicos = {\n",
    "    \"nombres\":\"Leonardo Jose\",\n",
    "    \"apellidos\":\"Caballero Garcia\",\n",
    "    \"cedula\":\"26938401\",\n",
    "    \"fecha_nacimiento\":\"03/12/1980\",\n",
    "    \"lugar_nacimiento\":\"Maracaibo, Zulia, Venezuela\",\n",
    "    \"nacionalidad\":\"Venezolana\",\n",
    "    \"estado_civil\":\"Soltero\"\n",
    "}"
   ]
  },
  {
   "cell_type": "code",
   "execution_count": null,
   "metadata": {},
   "outputs": [],
   "source": [
    "clave = datos_basicos.keys()\n",
    "valor = datos_basicos.values()\n",
    "\n",
    "cantidad_datos = datos_basicos.items()\n",
    "\n",
    "for clave, valor in cantidad_datos:\n",
    "    print(clave + \": \" + valor)"
   ]
  },
  {
   "cell_type": "code",
   "execution_count": 23,
   "metadata": {},
   "outputs": [
    {
     "name": "stdout",
     "output_type": "stream",
     "text": [
      "Fresa es de color roja\n",
      "Limon es de color verde\n",
      "Papaya es de color naranja\n",
      "Manzana es de color amarilla\n",
      "Guayaba es de color rosa\n"
     ]
    }
   ],
   "source": [
    "frutas = {'Fresa':'roja', 'Limon':'verde', 'Papaya':'naranja', 'Manzana':'amarilla', 'Guayaba':'rosa'}\n",
    "for nombre, color in frutas.items():\n",
    "    print(nombre, \"es de color\", color)"
   ]
  }
 ],
 "metadata": {
  "kernelspec": {
   "display_name": "Python 3.8.10 64-bit",
   "language": "python",
   "name": "python3"
  },
  "language_info": {
   "codemirror_mode": {
    "name": "ipython",
    "version": 3
   },
   "file_extension": ".py",
   "mimetype": "text/x-python",
   "name": "python",
   "nbconvert_exporter": "python",
   "pygments_lexer": "ipython3",
   "version": "3.8.10"
  },
  "orig_nbformat": 4,
  "vscode": {
   "interpreter": {
    "hash": "7a96227b8776e9e8b92184c6bd2959aa06e1e0881b6901ba05538acbe1b6a7a4"
   }
  }
 },
 "nbformat": 4,
 "nbformat_minor": 2
}
