{
 "cells": [
  {
   "cell_type": "markdown",
   "metadata": {},
   "source": [
    "# Estructuras cíclicas\n",
    "\n",
    "Son estructuras que tienen como función iterar X cantidad de veces X elemento a partir de una condición."
   ]
  },
  {
   "cell_type": "markdown",
   "metadata": {},
   "source": [
    "# Actualización de variables\n",
    "\n",
    "Antes de querer acutalizar una variable hay que inicializrla:"
   ]
  },
  {
   "cell_type": "code",
   "execution_count": 6,
   "metadata": {},
   "outputs": [],
   "source": [
    "x = 0"
   ]
  },
  {
   "cell_type": "markdown",
   "metadata": {},
   "source": [
    "Se pone la variable que se quiere actualizar (x), se pasa la misma variable y se le añade un nuevo valor:"
   ]
  },
  {
   "cell_type": "code",
   "execution_count": null,
   "metadata": {},
   "outputs": [],
   "source": [
    "x = x + 1\n",
    "print(x)"
   ]
  },
  {
   "cell_type": "markdown",
   "metadata": {},
   "source": [
    "Actualizar una varibale añadiendo 1 se le llama incremento, restandole 1 se llama decremento:"
   ]
  },
  {
   "cell_type": "code",
   "execution_count": null,
   "metadata": {},
   "outputs": [],
   "source": [
    "y = 0\n",
    "y = y + 1\n",
    "y = y - 1\n",
    "print(y)"
   ]
  },
  {
   "cell_type": "markdown",
   "metadata": {},
   "source": [
    "Podemos simplificar lo anterior de la siguiente manera:"
   ]
  },
  {
   "cell_type": "code",
   "execution_count": 9,
   "metadata": {},
   "outputs": [],
   "source": [
    "x += 1"
   ]
  },
  {
   "cell_type": "markdown",
   "metadata": {},
   "source": [
    "# Ciclo While\n",
    "\n",
    "Este ciclo ejecuta una instrucción mientras una condición sea válida, mientras X sea válido ejecute Y:"
   ]
  },
  {
   "cell_type": "code",
   "execution_count": null,
   "metadata": {},
   "outputs": [],
   "source": [
    "n = 5\n",
    "while n > 0:\n",
    "    print(n)\n",
    "    n = n - 1\n",
    "print('Despegue!')"
   ]
  },
  {
   "cell_type": "markdown",
   "metadata": {},
   "source": [
    "En el ejemplo anterior primero se incializa una variable `n = 5` y se usa el while para hacer un conteo regresivo, mientras la variable `n` sea mayor a 0 se resta en 1 la variable, es decir cada vez se actualiza la variable en 1 unidad, cuando la variable llegue a 0 se imprime el mensaje"
   ]
  },
  {
   "cell_type": "markdown",
   "metadata": {},
   "source": [
    "## While con else\n",
    "\n",
    "En este caso la sentencia else se aplicará cada vez que el while sea False"
   ]
  },
  {
   "cell_type": "code",
   "execution_count": 11,
   "metadata": {},
   "outputs": [
    {
     "name": "stdout",
     "output_type": "stream",
     "text": [
      "Promedio de notas del grado escolar: 4.0\n"
     ]
    }
   ],
   "source": [
    "promedio, total, contar = 0.0, 0, 0\n",
    "mensaje = \"Introduzca la nota de un estudiante (-1 para salir): \"\n",
    "\n",
    "grado = int(input(mensaje))\n",
    "while grado != -1:\n",
    "    total = total + grado\n",
    "    contar += 1\n",
    "    grado = int(input(mensaje))\n",
    "else:\n",
    "    promedio = total / contar\n",
    "    print(\"Promedio de notas del grado escolar: \" + str(promedio))"
   ]
  },
  {
   "cell_type": "markdown",
   "metadata": {},
   "source": [
    "En cuanto grado = -1 se ejecuta la sentencia else"
   ]
  }
 ],
 "metadata": {
  "kernelspec": {
   "display_name": "Python 3.8.10 64-bit",
   "language": "python",
   "name": "python3"
  },
  "language_info": {
   "codemirror_mode": {
    "name": "ipython",
    "version": 3
   },
   "file_extension": ".py",
   "mimetype": "text/x-python",
   "name": "python",
   "nbconvert_exporter": "python",
   "pygments_lexer": "ipython3",
   "version": "3.8.10"
  },
  "orig_nbformat": 4,
  "vscode": {
   "interpreter": {
    "hash": "7a96227b8776e9e8b92184c6bd2959aa06e1e0881b6901ba05538acbe1b6a7a4"
   }
  }
 },
 "nbformat": 4,
 "nbformat_minor": 2
}
