{
 "cells": [
  {
   "cell_type": "markdown",
   "metadata": {},
   "source": [
    "# Indtroducción a la programación"
   ]
  },
  {
   "cell_type": "markdown",
   "metadata": {},
   "source": [
    "Conjunto de instrucciones que se escriben para que una computadora las ejecute."
   ]
  },
  {
   "cell_type": "markdown",
   "metadata": {},
   "source": [
    "Decirle a la computadora que muestre un mensaje en consola:"
   ]
  },
  {
   "cell_type": "code",
   "execution_count": 9,
   "metadata": {},
   "outputs": [
    {
     "name": "stdout",
     "output_type": "stream",
     "text": [
      "Hola Mundo\n"
     ]
    }
   ],
   "source": [
    "print(\"Hola Mundo\")"
   ]
  },
  {
   "cell_type": "markdown",
   "metadata": {},
   "source": [
    "## Pensamiento algorítmico"
   ]
  },
  {
   "cell_type": "markdown",
   "metadata": {},
   "source": [
    "Hace referencia a las intrucciones o el camino que se debe seguir para la creación de una solución. Un ejemplo de un algoritmo sería la creación de una receta, esta debe seguir ciertos pasos para llegar a la creación del plato, así como ese plato puede tener varias recetas, de esa misma manera se comporta la creación a una solución computacional."
   ]
  },
  {
   "cell_type": "markdown",
   "metadata": {},
   "source": [
    "## Requierimientos para programar"
   ]
  },
  {
   "cell_type": "markdown",
   "metadata": {},
   "source": [
    "- Conocer algún lenguaje o un conjunto de lenguajes para poder escribir las instruccinoes para el computador\n",
    "\n",
    "- Ganas de aprender una tecnología y el auto.aprendizaje"
   ]
  },
  {
   "cell_type": "markdown",
   "metadata": {},
   "source": [
    "## Consejos o pasos para tener éxito en el proceso de formación:"
   ]
  },
  {
   "cell_type": "markdown",
   "metadata": {},
   "source": [
    "1. Leer con atención\n",
    "\n",
    "    Tener buena comprensión lectora para el análisis de los requerimiento o del problema planteado.\n",
    "\n",
    "    Nunca se debe empezar a programar sin antes entender el problema a solucionar.\n",
    "\n",
    "2. Práctica\n",
    "\n",
    "    Como se dice... la práctica ahcer al maestro y en programación no es la excepción.\n",
    "\n",
    "3. Lectura de código\n",
    "\n",
    "    Saber leer código es parte fundamental en la programación ya que en un entorno de trabajo en equipo hay código escrito por otras personas, entender el funcionamiento de cada linea es vital."
   ]
  },
  {
   "cell_type": "markdown",
   "metadata": {},
   "source": [
    "## Python"
   ]
  },
  {
   "cell_type": "markdown",
   "metadata": {},
   "source": [
    "En el ciclo 1 veremos el lenguaje python, es uno de los lenguajes más populares en la programación y ayuda bastante en muchas areas o ramas de la misma."
   ]
  },
  {
   "cell_type": "markdown",
   "metadata": {},
   "source": [
    "# Algoritmos"
   ]
  },
  {
   "cell_type": "markdown",
   "metadata": {},
   "source": [
    "## Lógica y Algoritmos"
   ]
  },
  {
   "cell_type": "markdown",
   "metadata": {},
   "source": [
    "### Lógica de programación|"
   ]
  },
  {
   "cell_type": "markdown",
   "metadata": {},
   "source": [
    "La lógica de programación se entiende como los conceptos que nos permite diseñar la solución a problemas. Es ese pensamiento racional y obvio que nos permite llegar a la solución o desarrollo de un problema computacional."
   ]
  },
  {
   "cell_type": "markdown",
   "metadata": {},
   "source": [
    "### Algoritmos "
   ]
  },
  {
   "cell_type": "markdown",
   "metadata": {},
   "source": [
    "Son una serie o secuencia de pasos detallados, secuenciales y ordenados que nos permiten llegar a la solución de un problema."
   ]
  },
  {
   "cell_type": "markdown",
   "metadata": {},
   "source": [
    "#### Metodo para solucionar un problema"
   ]
  },
  {
   "cell_type": "markdown",
   "metadata": {},
   "source": [
    "- Encontrar la solución\n",
    "\n",
    "- Trazar el camino estructural para resolver el problema\n",
    "\n",
    "- Se detallan los pasos para alcanzar la solución"
   ]
  },
  {
   "cell_type": "markdown",
   "metadata": {},
   "source": [
    "### Ejemplo de un algoritmo"
   ]
  },
  {
   "cell_type": "markdown",
   "metadata": {},
   "source": [
    "1. Objetivo\n",
    "\n",
    "    - Adquirir el libro \"El Coronel no tiene quien le escriba\"\n",
    "    >Si nos detallamos bien, nos dicen que sólo debemos adquirirlo, no hay que leerlo, resumirlo etc..\n",
    "\n",
    "2. Algoritmo\n",
    "\n",
    "    Salimos del lugar en donde estemos y nos dirigimos hacia una\n",
    "librería. En caso de que ya estemos en una pues sencillamente\n",
    "solicitamos si tienen el libro, si lo tienen lo adquirimos y si no lo\n",
    "tienen vamos a otra librería en donde repetimos el proceso.\n",
    "\n",
    "    Manera gráfica de ver el algoritmo:\n",
    "\n",
    "    <img src=\"img/Screenshot_1.png\">"
   ]
  },
  {
   "cell_type": "markdown",
   "metadata": {},
   "source": [
    "## Consideraciones algorítmicas"
   ]
  },
  {
   "cell_type": "markdown",
   "metadata": {},
   "source": [
    "Se consideran 3 estructuras básicas:"
   ]
  },
  {
   "cell_type": "markdown",
   "metadata": {},
   "source": [
    "### Secuencia"
   ]
  },
  {
   "cell_type": "markdown",
   "metadata": {},
   "source": [
    "Indica al código la ejecución de las instrucciones de inicio a fin desde la primera linea hasta la última."
   ]
  },
  {
   "cell_type": "markdown",
   "metadata": {},
   "source": [
    "### Decisión"
   ]
  },
  {
   "cell_type": "markdown",
   "metadata": {},
   "source": [
    "Inica que, según ciertas condiciones dadas se ejecute un conjunto de instrucciones."
   ]
  },
  {
   "cell_type": "markdown",
   "metadata": {},
   "source": [
    "Para tener más claro este concepto veamos un ejemplo en el que se debe limpiar platos:\n",
    "\n",
    "<img src=\"img/Screenshot_2.png\">"
   ]
  },
  {
   "cell_type": "markdown",
   "metadata": {},
   "source": [
    "### Iteración"
   ]
  },
  {
   "cell_type": "markdown",
   "metadata": {},
   "source": [
    "Indica que, según ciera condición, ciertas instucciones se ejecuten X veces."
   ]
  },
  {
   "cell_type": "markdown",
   "metadata": {},
   "source": [
    "# Variables"
   ]
  },
  {
   "cell_type": "markdown",
   "metadata": {},
   "source": [
    "Es un espacio en memoria que almacena datos, estos datos pueden ser reemplazados o cambiados."
   ]
  },
  {
   "cell_type": "markdown",
   "metadata": {},
   "source": [
    "## Asignación de varibles"
   ]
  },
  {
   "cell_type": "markdown",
   "metadata": {},
   "source": [
    "Idicamos que en la variable llamada `a` guarde el valor o dato `8`"
   ]
  },
  {
   "cell_type": "code",
   "execution_count": 10,
   "metadata": {},
   "outputs": [],
   "source": [
    "a = 8"
   ]
  },
  {
   "cell_type": "markdown",
   "metadata": {},
   "source": [
    "Idicar que en la variable `b` guarde el contenido de la variable `a`"
   ]
  },
  {
   "cell_type": "code",
   "execution_count": 11,
   "metadata": {},
   "outputs": [],
   "source": [
    "b = a"
   ]
  },
  {
   "cell_type": "markdown",
   "metadata": {},
   "source": [
    "Idicar que en la variable `c` guarde el resultado de la suma de la variable `a` + `b`"
   ]
  },
  {
   "cell_type": "code",
   "execution_count": 12,
   "metadata": {},
   "outputs": [],
   "source": [
    "c = a + b"
   ]
  },
  {
   "cell_type": "markdown",
   "metadata": {},
   "source": [
    "# Diagramas de flujo"
   ]
  },
  {
   "cell_type": "markdown",
   "metadata": {},
   "source": [
    "Es la representación gráfica de un algoritmo, este muestra gráficamente el paso a paso para la solución del mismo. Se basa en un conjunto de símbolos para representar ciertas operaciones."
   ]
  },
  {
   "cell_type": "markdown",
   "metadata": {},
   "source": [
    "Ejemplo digrama de flujo:\n",
    "\n",
    "<img src =\"img/Screenshot_3.png\">\n",
    "\n",
    "Simbolos en los diagramas de flujo:\n",
    "\n",
    "<img src =\"img/Screenshot_4.png\">\n",
    "\n",
    "Así sería un diagrama de flujo complejo: <a href=\"https://bit.ly/3PZxNYg\"> Clic aqui </a>"
   ]
  },
  {
   "cell_type": "markdown",
   "metadata": {},
   "source": []
  }
 ],
 "metadata": {
  "interpreter": {
   "hash": "dd5b2693a84d0c8290bdbefedc4c1333bd0ae1351e4e5e2274916304a4fbdf23"
  },
  "kernelspec": {
   "display_name": "Python 3.9.5 64-bit",
   "language": "python",
   "name": "python3"
  },
  "language_info": {
   "codemirror_mode": {
    "name": "ipython",
    "version": 3
   },
   "file_extension": ".py",
   "mimetype": "text/x-python",
   "name": "python",
   "nbconvert_exporter": "python",
   "pygments_lexer": "ipython3",
   "version": "3.9.5"
  },
  "orig_nbformat": 4
 },
 "nbformat": 4,
 "nbformat_minor": 2
}
