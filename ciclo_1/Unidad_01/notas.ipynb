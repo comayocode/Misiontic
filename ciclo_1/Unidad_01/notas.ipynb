{
 "cells": [
  {
   "cell_type": "markdown",
   "metadata": {},
   "source": [
    "# Indtroducción a la programación"
   ]
  },
  {
   "cell_type": "markdown",
   "metadata": {},
   "source": [
    "Conjunto de instrucciones que se escriben para que una computadora las ejecute."
   ]
  },
  {
   "cell_type": "markdown",
   "metadata": {},
   "source": [
    "Decirle a la computadora que muestre un mensaje en consola:"
   ]
  },
  {
   "cell_type": "code",
   "execution_count": 1,
   "metadata": {},
   "outputs": [
    {
     "name": "stdout",
     "output_type": "stream",
     "text": [
      "Hola Mundo\n"
     ]
    }
   ],
   "source": [
    "print(\"Hola Mundo\")"
   ]
  },
  {
   "cell_type": "markdown",
   "metadata": {},
   "source": [
    "## Pensamiento algorítmico"
   ]
  },
  {
   "cell_type": "markdown",
   "metadata": {},
   "source": [
    "Hace referencia a las intrucciones o el camino que se debe seguir para la creación de una solución. Un ejemplo de un algoritmo sería la creación de una receta, esta debe seguir ciertos pasos para llegar a la creación del plato, así como ese plato puede tener varias recetas, de esa misma manera se comporta la creación a una solución computacional."
   ]
  },
  {
   "cell_type": "markdown",
   "metadata": {},
   "source": [
    "## Requierimientos para programar"
   ]
  },
  {
   "cell_type": "markdown",
   "metadata": {},
   "source": [
    "- Conocer algún lenguaje o un conjunto de lenguajes para poder escribir las instruccinoes para el computador\n",
    "\n",
    "- Ganas de aprender una tecnología y el auto.aprendizaje"
   ]
  },
  {
   "cell_type": "markdown",
   "metadata": {},
   "source": [
    "## Consejos o pasos para tener éxito en el proceso de formación:"
   ]
  },
  {
   "cell_type": "markdown",
   "metadata": {},
   "source": [
    "1. Leer con atención\n",
    "\n",
    "    Tener buena comprensión lectora para el análisis de los requerimiento o del problema planteado.\n",
    "\n",
    "    Nunca se debe empezar a programar sin antes entender el problema a solucionar.\n",
    "\n",
    "2. Práctica\n",
    "\n",
    "    Como se dice... la práctica ahcer al maestro y en programación no es la excepción.\n",
    "\n",
    "3. Lectura de código\n",
    "\n",
    "    Saber leer código es parte fundamental en la programación ya que en un entorno de trabajo en equipo hay código escrito por otras personas, entender el funcionamiento de cada linea es vital."
   ]
  },
  {
   "cell_type": "markdown",
   "metadata": {},
   "source": [
    "## Python"
   ]
  },
  {
   "cell_type": "markdown",
   "metadata": {},
   "source": [
    "En el ciclo 1 veremos el lenguaje python, es uno de los lenguajes más populares en la programación y ayuda bastante en muchas areas o ramas de la misma."
   ]
  },
  {
   "cell_type": "markdown",
   "metadata": {},
   "source": [
    "# Algoritmos"
   ]
  },
  {
   "cell_type": "markdown",
   "metadata": {},
   "source": [
    "## Lógica y Algoritmos"
   ]
  },
  {
   "cell_type": "markdown",
   "metadata": {},
   "source": [
    "### Lógica de programación|"
   ]
  },
  {
   "cell_type": "markdown",
   "metadata": {},
   "source": [
    "La lógica de programación se entiende como los conceptos que nos permite diseñar la solución a problemas. Es ese pensamiento racional y obvio que nos permite llegar a la solución o desarrollo de un problema computacional."
   ]
  },
  {
   "cell_type": "markdown",
   "metadata": {},
   "source": [
    "### Algoritmos "
   ]
  },
  {
   "cell_type": "markdown",
   "metadata": {},
   "source": [
    "Son una serie o secuencia de pasos detallados, secuenciales y ordenados que nos permiten llegar a la solución de un problema."
   ]
  },
  {
   "cell_type": "markdown",
   "metadata": {},
   "source": [
    "#### Metodo para solucionar un problema"
   ]
  },
  {
   "cell_type": "markdown",
   "metadata": {},
   "source": [
    "- Encontrar la solución\n",
    "\n",
    "- Trazar el camino estructural para resolver el problema\n",
    "\n",
    "- Se detallan los pasos para alcanzar la solución"
   ]
  },
  {
   "cell_type": "markdown",
   "metadata": {},
   "source": [
    "### Ejemplo de un algoritmo"
   ]
  },
  {
   "cell_type": "markdown",
   "metadata": {},
   "source": [
    "1. Objetivo\n",
    "\n",
    "    - Adquirir el libro \"El Coronel no tiene quien le escriba\"\n",
    "    >Si nos detallamos bien, nos dicen que sólo debemos adquirirlo, no hay que leerlo, resumirlo etc..\n",
    "\n",
    "2. Algoritmo\n",
    "\n",
    "    Salimos del lugar en donde estemos y nos dirigimos hacia una\n",
    "librería. En caso de que ya estemos en una pues sencillamente\n",
    "solicitamos si tienen el libro, si lo tienen lo adquirimos y si no lo\n",
    "tienen vamos a otra librería en donde repetimos el proceso.\n",
    "\n",
    "    Manera gráfica de ver el algoritmo:\n",
    "\n",
    "    <img src=\"img/Screenshot_1.png\">"
   ]
  },
  {
   "cell_type": "markdown",
   "metadata": {},
   "source": [
    "## Consideraciones algorítmicas"
   ]
  },
  {
   "cell_type": "markdown",
   "metadata": {},
   "source": [
    "Se consideran 3 estructuras básicas:"
   ]
  },
  {
   "cell_type": "markdown",
   "metadata": {},
   "source": [
    "### Secuencia"
   ]
  },
  {
   "cell_type": "markdown",
   "metadata": {},
   "source": [
    "Indica al código la ejecución de las instrucciones de inicio a fin desde la primera linea hasta la última."
   ]
  },
  {
   "cell_type": "markdown",
   "metadata": {},
   "source": [
    "### Decisión"
   ]
  },
  {
   "cell_type": "markdown",
   "metadata": {},
   "source": [
    "Inica que, según ciertas condiciones dadas se ejecute un conjunto de instrucciones."
   ]
  },
  {
   "cell_type": "markdown",
   "metadata": {},
   "source": [
    "Para tener más claro este concepto veamos un ejemplo en el que se debe limpiar platos:\n",
    "\n",
    "<img src=\"img/Screenshot_2.png\">"
   ]
  },
  {
   "cell_type": "markdown",
   "metadata": {},
   "source": [
    "### Iteración"
   ]
  },
  {
   "cell_type": "markdown",
   "metadata": {},
   "source": [
    "Indica que, según ciera condición, ciertas instucciones se ejecuten X veces."
   ]
  },
  {
   "cell_type": "markdown",
   "metadata": {},
   "source": [
    "# Variables"
   ]
  },
  {
   "cell_type": "markdown",
   "metadata": {},
   "source": [
    "Es un espacio en memoria que almacena datos, estos datos pueden ser reemplazados o cambiados."
   ]
  },
  {
   "cell_type": "markdown",
   "metadata": {},
   "source": [
    "## Declaración de variables y asignación de valores en Python"
   ]
  },
  {
   "cell_type": "markdown",
   "metadata": {},
   "source": [
    "- Python declara automáticamente la variable, no tenemos que declararla explícitamente.\n",
    "\n",
    "- Se usa el operador `=` que asigna un valor a una variable"
   ]
  },
  {
   "cell_type": "markdown",
   "metadata": {},
   "source": [
    "## Errores al declarar una variable"
   ]
  },
  {
   "cell_type": "code",
   "execution_count": 2,
   "metadata": {},
   "outputs": [
    {
     "ename": "SyntaxError",
     "evalue": "invalid syntax (1340552385.py, line 1)",
     "output_type": "error",
     "traceback": [
      "\u001b[1;36m  Input \u001b[1;32mIn [2]\u001b[1;36m\u001b[0m\n\u001b[1;33m    var 1 = 120\u001b[0m\n\u001b[1;37m        ^\u001b[0m\n\u001b[1;31mSyntaxError\u001b[0m\u001b[1;31m:\u001b[0m invalid syntax\n"
     ]
    }
   ],
   "source": [
    "var 1 = 120\n",
    "@var1 = 120\n",
    "1var = 120\n",
    "var-1 = 120"
   ]
  },
  {
   "cell_type": "markdown",
   "metadata": {},
   "source": [
    "## Asignación múltiple"
   ]
  },
  {
   "cell_type": "markdown",
   "metadata": {},
   "source": [
    "Se puede asignar un valor a varias variables"
   ]
  },
  {
   "cell_type": "code",
   "execution_count": null,
   "metadata": {},
   "outputs": [],
   "source": [
    "a, b, c = 5"
   ]
  },
  {
   "cell_type": "markdown",
   "metadata": {},
   "source": [
    "Se pueden asignar multiples variables a multiples valores; estas se asignan en su orden correspondiente"
   ]
  },
  {
   "cell_type": "code",
   "execution_count": null,
   "metadata": {},
   "outputs": [],
   "source": [
    "a, b, c = 1, 2, 3"
   ]
  },
  {
   "cell_type": "markdown",
   "metadata": {},
   "source": [
    "## Tipos de datos que soportan las variables"
   ]
  },
  {
   "cell_type": "markdown",
   "metadata": {},
   "source": [
    "- Número (enteros, decimales)\n",
    "- Cadenas\n",
    "- Listas\n",
    "- Tuplas\n",
    "- Diccionarios"
   ]
  },
  {
   "cell_type": "markdown",
   "metadata": {},
   "source": []
  },
  {
   "cell_type": "markdown",
   "metadata": {},
   "source": [
    "## Asignación de varibles"
   ]
  },
  {
   "cell_type": "markdown",
   "metadata": {},
   "source": [
    "Idicamos que en la variable llamada `a` guarde el valor o dato `8`"
   ]
  },
  {
   "cell_type": "code",
   "execution_count": null,
   "metadata": {},
   "outputs": [],
   "source": [
    "a = 8"
   ]
  },
  {
   "cell_type": "markdown",
   "metadata": {},
   "source": [
    "Idicar que en la variable `b` guarde el contenido de la variable `a`"
   ]
  },
  {
   "cell_type": "code",
   "execution_count": null,
   "metadata": {},
   "outputs": [],
   "source": [
    "b = a"
   ]
  },
  {
   "cell_type": "markdown",
   "metadata": {},
   "source": [
    "Idicar que en la variable `c` guarde el resultado de la suma de la variable `a` + `b`"
   ]
  },
  {
   "cell_type": "code",
   "execution_count": null,
   "metadata": {},
   "outputs": [],
   "source": [
    "c = a + b"
   ]
  },
  {
   "cell_type": "markdown",
   "metadata": {},
   "source": [
    "# Diagramas de flujo"
   ]
  },
  {
   "cell_type": "markdown",
   "metadata": {},
   "source": [
    "Es la representación gráfica de un algoritmo, este muestra gráficamente el paso a paso para la solución del mismo. Se basa en un conjunto de símbolos para representar ciertas operaciones."
   ]
  },
  {
   "cell_type": "markdown",
   "metadata": {},
   "source": [
    "Ejemplo digrama de flujo:\n",
    "\n",
    "<img src =\"img/Screenshot_3.png\">\n",
    "\n",
    "Simbolos en los diagramas de flujo:\n",
    "\n",
    "<img src =\"img/Screenshot_4.png\">\n",
    "\n",
    "Así sería un diagrama de flujo complejo: <a href=\"https://bit.ly/3PZxNYg\"> Clic aqui </a>"
   ]
  },
  {
   "cell_type": "markdown",
   "metadata": {},
   "source": []
  },
  {
   "cell_type": "markdown",
   "metadata": {},
   "source": [
    "# Funciones"
   ]
  },
  {
   "cell_type": "markdown",
   "metadata": {},
   "source": [
    "Es un bloque de código que ejecuta un conjunto de operaciones o instrucciones, estas pueden ser llamadas en cualquier momento y en cualquier parte del código. Hacen parte de un paradigma de programación llamada estructurada"
   ]
  },
  {
   "cell_type": "markdown",
   "metadata": {},
   "source": [
    "## Ventajas"
   ]
  },
  {
   "cell_type": "markdown",
   "metadata": {},
   "source": [
    "- Modularización: Permite dividir un programa en varios segmentos o bloques, facilitando la programación y la depuración\n",
    "- Reutilización: Permite reciclar código y se puede usar una misma función en distintos programas"
   ]
  },
  {
   "cell_type": "markdown",
   "metadata": {},
   "source": [
    "## Creación"
   ]
  },
  {
   "cell_type": "markdown",
   "metadata": {},
   "source": [
    "Se define una función con `def` seguido del nombre de la función y los argumentos(si se requieren). Las funciones siempren retornan un valor o resultado de la/s operaciones realizadas `return valor`"
   ]
  },
  {
   "cell_type": "markdown",
   "metadata": {},
   "source": [
    "<img src =\"img/Screenshot_5.png\">"
   ]
  },
  {
   "cell_type": "markdown",
   "metadata": {},
   "source": [
    "### Ejemplo sencillo"
   ]
  },
  {
   "cell_type": "code",
   "execution_count": 3,
   "metadata": {},
   "outputs": [
    {
     "name": "stdout",
     "output_type": "stream",
     "text": [
      "3\n"
     ]
    }
   ],
   "source": [
    "def sumar_dos_numeros (num1, num2):\n",
    "    suma = num1 + num2\n",
    "    return suma\n",
    "\n",
    "print(sumar_dos_numeros(1, 2))"
   ]
  },
  {
   "cell_type": "markdown",
   "metadata": {},
   "source": [
    ">NOTA: En las funciones no hay restricción para poner código, se puede usar cualquier cosa"
   ]
  },
  {
   "cell_type": "markdown",
   "metadata": {},
   "source": [
    "## Llamado"
   ]
  },
  {
   "cell_type": "markdown",
   "metadata": {},
   "source": [
    "Se escribe el nombre de la función seguido de unos paréntesis. Un ejemplo claro de una función es `print()`"
   ]
  },
  {
   "cell_type": "code",
   "execution_count": null,
   "metadata": {},
   "outputs": [],
   "source": [
    "print(\"Hola Mundo\")"
   ]
  },
  {
   "cell_type": "markdown",
   "metadata": {},
   "source": [
    "## Funciones propias de python"
   ]
  },
  {
   "cell_type": "markdown",
   "metadata": {},
   "source": [
    "- `print()` = Imprime por consola\n",
    "- `int()` = define un valor entero\n",
    "- `type()` = imprime el tipo de valor\n",
    "- `round()` = redondea numero con decimal o establece numero máximo de decimales\n",
    "- `max()` = selecciona mayor valor de lista\n",
    "- `min()` = selecciona menor valor de lista\n",
    "- `help()` = ayuda sobre palabra reservada\n",
    "- `sum()` = suma un rango de valores\n",
    "- `range()` = establece un rango\n",
    "- `return()` = devuelve argumentos"
   ]
  },
  {
   "cell_type": "markdown",
   "metadata": {},
   "source": [
    "# Módulos y depuración"
   ]
  },
  {
   "cell_type": "markdown",
   "metadata": {},
   "source": [
    "## Módulos"
   ]
  },
  {
   "cell_type": "markdown",
   "metadata": {},
   "source": [
    "Son archivos con extensión `.py`, los cuales se pueden utilizar dentro de otro archivo. Cuando se tiene un proyecto con muchas lineas de código se debe modularizar el proyecto."
   ]
  },
  {
   "cell_type": "markdown",
   "metadata": {},
   "source": [
    "Vamos a usar un ejemplo de una calculadora. En un archivo (módulo) se van a guardar varias funciones con las operaciones de suma, resta, multiplicación y división, estas operaciones se llamarán desde otro archivo que se llamará `main.py`"
   ]
  },
  {
   "cell_type": "markdown",
   "metadata": {},
   "source": [
    "Creamos el archivo que se usará como módulo, lo nombraremos `calculadora.py`, este archivo tendrá las operaciones básicas y realizará las operaciones con 2 números:\n",
    "\n",
    "<img src=\"img/Screenshot_6.png\">"
   ]
  },
  {
   "cell_type": "markdown",
   "metadata": {},
   "source": [
    "Ahora vamos a usar la función `suma()` en `main.py`, la función suma se encuentra dentro de `calculadora.py` para ello  tenemos que importar el archivo `calculadora.py` dentro de `main.py`.\n",
    "\n",
    "<img src=\"img/Screenshot_7.png\">\n",
    "\n",
    "> NOTA: Para importar de la manera anterior, se debe revisar que el \"Módulo\" esté en la misma carpeta que el archivo que lo importará.\n",
    "\n",
    "Al ejecutar por primera vez la importación se creará una carpeta nueva, esta carpeta crea un archivo con el archivo(modulo) que creamos, el nuevo archivo que se creó dentro de la carpeta estára con extensión `.pyc` el cual induca que es un archivo compilado, esto sirve para que el programa se vuelva más rápido en ejecutar.\n"
   ]
  },
  {
   "cell_type": "markdown",
   "metadata": {},
   "source": [
    "## Depuración"
   ]
  },
  {
   "cell_type": "markdown",
   "metadata": {},
   "source": [
    "Para saber cómo depurar código en Python <a href=\"https://bit.ly/3t9J1Qo\">revisar aquí</a>"
   ]
  },
  {
   "cell_type": "markdown",
   "metadata": {},
   "source": [
    "# Git y Github"
   ]
  },
  {
   "cell_type": "markdown",
   "metadata": {},
   "source": [
    "## Git"
   ]
  },
  {
   "cell_type": "markdown",
   "metadata": {},
   "source": [
    "Es un sistema de control de versiones, el cual facilita el trabajo individual y colectivo, guarda los cambio realizados a un proyecto y también permite acceder a cambios o versiones anteriores."
   ]
  },
  {
   "cell_type": "markdown",
   "metadata": {},
   "source": [
    "## Github"
   ]
  },
  {
   "cell_type": "markdown",
   "metadata": {},
   "source": [
    "Es una página/servicio que ayuda a los desarrolladores alamcenar y administrar el código"
   ]
  },
  {
   "cell_type": "markdown",
   "metadata": {},
   "source": [
    "**REVISAR LA SIGUIENTE RUTA PARA VER LAS NOTAS QUE HE TOMADO DE LOS CURSOS DE GIT: `E:\\01 CURSOS\\10 GIT`**"
   ]
  }
 ],
 "metadata": {
  "interpreter": {
   "hash": "dd5b2693a84d0c8290bdbefedc4c1333bd0ae1351e4e5e2274916304a4fbdf23"
  },
  "kernelspec": {
   "display_name": "Python 3.9.5 64-bit",
   "language": "python",
   "name": "python3"
  },
  "language_info": {
   "codemirror_mode": {
    "name": "ipython",
    "version": 3
   },
   "file_extension": ".py",
   "mimetype": "text/x-python",
   "name": "python",
   "nbconvert_exporter": "python",
   "pygments_lexer": "ipython3",
   "version": "3.9.5"
  },
  "orig_nbformat": 4
 },
 "nbformat": 4,
 "nbformat_minor": 2
}
