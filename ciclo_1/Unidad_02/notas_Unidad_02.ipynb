{
 "cells": [
  {
   "cell_type": "markdown",
   "metadata": {},
   "source": [
    "# Condicionales"
   ]
  },
  {
   "cell_type": "markdown",
   "metadata": {},
   "source": [
    "Es una toma de decisión que se hace a raíz de una comparación, si la comparación se cumple se ejectua X instucción; si la conición no se cumple se ejecuta una diferente serie de instrucciones"
   ]
  },
  {
   "cell_type": "markdown",
   "metadata": {},
   "source": [
    "El condicional más popular o más conocido es el Si-Sino\n",
    "\n",
    "<img src=\"img/Screenshot_1.png\">"
   ]
  },
  {
   "cell_type": "markdown",
   "metadata": {},
   "source": [
    "Ejemplo sencillo en código"
   ]
  },
  {
   "cell_type": "code",
   "execution_count": 244,
   "metadata": {},
   "outputs": [
    {
     "name": "stdout",
     "output_type": "stream",
     "text": [
      "AM\n"
     ]
    }
   ],
   "source": [
    "horaDelDia = 5\n",
    "if horaDelDia >=12:\n",
    "    print(\"PM\")\n",
    "else:\n",
    "    print(\"AM\")"
   ]
  },
  {
   "cell_type": "markdown",
   "metadata": {},
   "source": [
    "## Condiciones anidadas"
   ]
  },
  {
   "cell_type": "markdown",
   "metadata": {},
   "source": [
    "Son condiciones anidadas cuando hay una condición dentro de otra condición:"
   ]
  },
  {
   "cell_type": "code",
   "execution_count": 245,
   "metadata": {},
   "outputs": [
    {
     "name": "stdout",
     "output_type": "stream",
     "text": [
      "La nota debe ser menor a 5\n"
     ]
    }
   ],
   "source": [
    "nota = 6\n",
    "if nota < 3:\n",
    "    print(\"Reprobado\")\n",
    "else:\n",
    "    if nota >= 3 and nota < 4:\n",
    "        print(\"Aprobado\")\n",
    "    else:\n",
    "        if nota >= 4 and nota < 5:\n",
    "            print(\"Buena nota\")\n",
    "        else:\n",
    "            print(\"La nota debe ser menor a 5\")"
   ]
  },
  {
   "cell_type": "markdown",
   "metadata": {},
   "source": [
    "En python existe el `elif` que es una combinación del `else` y el `if`, de esta manera también se puede hacer condiciones anidadas y es más legible el código."
   ]
  },
  {
   "cell_type": "code",
   "execution_count": 246,
   "metadata": {},
   "outputs": [
    {
     "name": "stdout",
     "output_type": "stream",
     "text": [
      "La nota debe ser menor a 5\n"
     ]
    }
   ],
   "source": [
    "nota2 = 12\n",
    "\n",
    "if nota2 < 3:\n",
    "    print(\"Reprobado\")\n",
    "elif nota2 >= 3 and nota2 < 4:\n",
    "    print(\"Aprobado\")\n",
    "elif nota2 >= 4 and nota2 < 5:\n",
    "    print(\"Buena nota\")\n",
    "else:\n",
    "    print(\"La nota debe ser menor a 5\")"
   ]
  },
  {
   "cell_type": "markdown",
   "metadata": {},
   "source": [
    "Ejemplo decisiones anidadas:\n",
    "Leer un número entero y determinar si es positivo o negativo, si es positivo determinar si tiene dos digitos y si es negativo determinar si tiene 3 digitos. Asumir que no puede entrar el numero cero."
   ]
  },
  {
   "cell_type": "code",
   "execution_count": 247,
   "metadata": {},
   "outputs": [
    {
     "name": "stdout",
     "output_type": "stream",
     "text": [
      "El numero 0 no es valido\n"
     ]
    }
   ],
   "source": [
    "#entero = input(\"Digite un numero entero: \")\n",
    "entero = 0\n",
    "\n",
    "if entero > 0:\n",
    "    if entero >= 10 and entero <=99:\n",
    "        print(\"El numero es positivo y tiene dos digitos\")\n",
    "    else:\n",
    "        print(\"El numero es positivo y tiene menos de 2 digitos\")\n",
    "elif entero < 0:\n",
    "    if entero >= -999 and entero <= -100:\n",
    "        print(\"El numero es negativo y tiene 3 digitos\")\n",
    "    else:\n",
    "        print(\"El numero es negativo y no tiene mas de 3 digitos\")\n",
    "else:\n",
    "    print(\"El numero 0 no es valido\")"
   ]
  },
  {
   "cell_type": "markdown",
   "metadata": {},
   "source": [
    "## switch"
   ]
  },
  {
   "cell_type": "markdown",
   "metadata": {},
   "source": [
    "Directamente no existe en python"
   ]
  },
  {
   "cell_type": "markdown",
   "metadata": {},
   "source": []
  },
  {
   "cell_type": "markdown",
   "metadata": {},
   "source": [
    "# Booleanos"
   ]
  },
  {
   "cell_type": "markdown",
   "metadata": {},
   "source": [
    "Indican el resultado de una expresión como `True` o `False`"
   ]
  },
  {
   "cell_type": "markdown",
   "metadata": {},
   "source": [
    "True = Verdadero\n",
    "\n",
    "False = Falso"
   ]
  },
  {
   "cell_type": "markdown",
   "metadata": {},
   "source": [
    "Ejemplo:\n",
    "Estoy estudiando en MinsionTic2022, esa sentencia daría como resultado True"
   ]
  },
  {
   "cell_type": "markdown",
   "metadata": {},
   "source": [
    "## Operaciones lógicas"
   ]
  },
  {
   "cell_type": "markdown",
   "metadata": {},
   "source": [
    "- and: Retorna un valor verdero cuando ambos operandos tienen valor verdadero\n",
    "\n",
    "- or: Retorna verdadero cuando una de los operandos da como valor verdadero\n",
    "\n",
    "- not: Toma el valor verdadero y lo convierte en en otro valor (falso). Es decir la negación de un valor verdadero es falso y la negacion de un valor falso es verdadero."
   ]
  },
  {
   "cell_type": "code",
   "execution_count": 248,
   "metadata": {},
   "outputs": [
    {
     "name": "stdout",
     "output_type": "stream",
     "text": [
      "True\n",
      "True\n",
      "True\n",
      "True\n"
     ]
    }
   ],
   "source": [
    "var = 1\n",
    "print(var > 0) #Mayor a\n",
    "print(not(var <=0)) #No sea menor o igual a 0\n",
    "\n",
    "print(var != 0) #Sea diferente de 0\n",
    "print(not(var == 0)) #No sea igual a 0"
   ]
  },
  {
   "cell_type": "markdown",
   "metadata": {},
   "source": [
    "## Tabla de la verdad"
   ]
  },
  {
   "cell_type": "markdown",
   "metadata": {},
   "source": [
    "<img src=\"img/Screenshot_3.png\">"
   ]
  },
  {
   "cell_type": "markdown",
   "metadata": {},
   "source": [
    "## Ejecución de condicionales"
   ]
  },
  {
   "cell_type": "code",
   "execution_count": 249,
   "metadata": {},
   "outputs": [
    {
     "name": "stdout",
     "output_type": "stream",
     "text": [
      "10 es positivo\n"
     ]
    }
   ],
   "source": [
    "x = 10\n",
    "if x > 0:\n",
    "    print(x, \"es positivo\")"
   ]
  },
  {
   "cell_type": "markdown",
   "metadata": {},
   "source": [
    "<img src=\"img/Screenshot_4.png\">"
   ]
  },
  {
   "cell_type": "markdown",
   "metadata": {},
   "source": [
    "Saber si un número es par o impar"
   ]
  },
  {
   "cell_type": "code",
   "execution_count": 250,
   "metadata": {},
   "outputs": [
    {
     "name": "stdout",
     "output_type": "stream",
     "text": [
      "es par\n"
     ]
    }
   ],
   "source": [
    "x = 10\n",
    "if x % 2 == 0:\n",
    "    print('es par')\n",
    "else:\n",
    "    print('es inpar')"
   ]
  },
  {
   "cell_type": "markdown",
   "metadata": {},
   "source": [
    ">% se refiere al residuo de una división, si el residuo de la división es == 0 se sabe que es par"
   ]
  },
  {
   "cell_type": "markdown",
   "metadata": {},
   "source": [
    "<img src=\"img/Screenshot_5.png\">\n"
   ]
  },
  {
   "cell_type": "markdown",
   "metadata": {},
   "source": [
    "# Try y Except"
   ]
  },
  {
   "cell_type": "markdown",
   "metadata": {},
   "source": [
    "Permite comprobar un blouque de código en busca de errores para posteriormente manejar dicho error"
   ]
  },
  {
   "cell_type": "markdown",
   "metadata": {},
   "source": [
    "- try: Comprueba errores\n",
    "- except: Maneja el error"
   ]
  },
  {
   "cell_type": "code",
   "execution_count": 251,
   "metadata": {},
   "outputs": [
    {
     "name": "stdout",
     "output_type": "stream",
     "text": [
      "No ingreso ningún número, gracias\n"
     ]
    }
   ],
   "source": [
    "temperatura_fahr = input('Introduzca una temperatura en Fahrenheit:')\n",
    "try:\n",
    "    fahr = float(temperatura_fahr)\n",
    "    cel = (fahr - 32.0) * 5.0 / 9.0\n",
    "    print(cel)\n",
    "except:\n",
    "    print('No ingreso ningún número, gracias')"
   ]
  },
  {
   "cell_type": "markdown",
   "metadata": {},
   "source": [
    "# String (Cadena de texto)"
   ]
  },
  {
   "cell_type": "markdown",
   "metadata": {},
   "source": [
    "Es una secuencia de caracteres."
   ]
  },
  {
   "cell_type": "markdown",
   "metadata": {},
   "source": [
    "## Obtener la longitud de un string usndo `len()`"
   ]
  },
  {
   "cell_type": "markdown",
   "metadata": {},
   "source": [
    "len( ) es una función que devuelve el número de caracteres de una cadena:"
   ]
  },
  {
   "cell_type": "code",
   "execution_count": 252,
   "metadata": {},
   "outputs": [
    {
     "data": {
      "text/plain": [
       "6"
      ]
     },
     "execution_count": 252,
     "metadata": {},
     "output_type": "execute_result"
    }
   ],
   "source": [
    "fruta = \"banana\"\n",
    "len(fruta)"
   ]
  },
  {
   "cell_type": "markdown",
   "metadata": {},
   "source": [
    "Si se quiere obtener la última letra de un string:"
   ]
  },
  {
   "cell_type": "code",
   "execution_count": 253,
   "metadata": {},
   "outputs": [
    {
     "name": "stdout",
     "output_type": "stream",
     "text": [
      "a\n"
     ]
    }
   ],
   "source": [
    "fruta = 'banana'\n",
    "longitud = len(fruta)\n",
    "ultimo = fruta[longitud - 1]\n",
    "print(ultimo)"
   ]
  },
  {
   "cell_type": "markdown",
   "metadata": {},
   "source": [
    "Se usan los indices negativos para recorrer desde el final hasta el inicio\n",
    "\n",
    "<img src=\"img/Screenshot_7.png\">"
   ]
  },
  {
   "cell_type": "markdown",
   "metadata": {},
   "source": [
    "## Rebanado de String"
   ]
  },
  {
   "cell_type": "markdown",
   "metadata": {},
   "source": [
    "Para acceder a un caracter se usa `[ ]` y adentro se pasa la posición  la que se quiere acceder."
   ]
  },
  {
   "cell_type": "code",
   "execution_count": 254,
   "metadata": {},
   "outputs": [
    {
     "name": "stdout",
     "output_type": "stream",
     "text": [
      "a\n"
     ]
    }
   ],
   "source": [
    "fruta = \"banana\"\n",
    "letra = fruta[1]\n",
    "print(letra)"
   ]
  },
  {
   "cell_type": "markdown",
   "metadata": {},
   "source": [
    "Como recordatorio los indices empiezan desde 0:\n",
    "\n",
    "<img src=\"img/Screenshot_6.png\">"
   ]
  },
  {
   "cell_type": "markdown",
   "metadata": {},
   "source": [
    "## Rebanado por rango"
   ]
  },
  {
   "cell_type": "markdown",
   "metadata": {},
   "source": [
    "Si se quiere rebanar en grupos se pasa el indice de inicio y el indice del final `[0:3]`"
   ]
  },
  {
   "cell_type": "code",
   "execution_count": 255,
   "metadata": {},
   "outputs": [
    {
     "name": "stdout",
     "output_type": "stream",
     "text": [
      "Monty\n",
      "Python\n",
      "ont\n"
     ]
    }
   ],
   "source": [
    "s = 'Monty Python'\n",
    "print(s[0:5])\n",
    "print(s[6:12])\n",
    "\n",
    "print(s[1:4])"
   ]
  },
  {
   "cell_type": "markdown",
   "metadata": {},
   "source": [
    "Si se quiere empezar con el rebanado desde el inicio (posición [0]) en adelante se usa: [:i]; si se quiere omitir un indice del inicio se usa: [3:], eso indica que se va a iniciar desde el indice 3 en adelante;si se quiere rebanar desde el final hasta el inicio se usa [-3:]"
   ]
  },
  {
   "cell_type": "code",
   "execution_count": 256,
   "metadata": {},
   "outputs": [
    {
     "name": "stdout",
     "output_type": "stream",
     "text": [
      "Man\n",
      "zana\n",
      "ana\n"
     ]
    }
   ],
   "source": [
    "fruta = \"Manzana\"\n",
    "print(fruta[:3]) #Inicio a fin\n",
    "print(fruta[3:]) # Inicio desde el indice hasta el final\n",
    "print(fruta[-3:]) #Fin a inicio"
   ]
  },
  {
   "cell_type": "markdown",
   "metadata": {},
   "source": [
    "Si el primer índice es mayor o igul al segundo se retornará un string vacío"
   ]
  },
  {
   "cell_type": "code",
   "execution_count": 257,
   "metadata": {},
   "outputs": [
    {
     "name": "stdout",
     "output_type": "stream",
     "text": [
      "\n"
     ]
    }
   ],
   "source": [
    "print(fruta[3:3])"
   ]
  },
  {
   "cell_type": "markdown",
   "metadata": {},
   "source": [
    "Si se usa [:] retornará el string completo"
   ]
  },
  {
   "cell_type": "code",
   "execution_count": 258,
   "metadata": {},
   "outputs": [
    {
     "name": "stdout",
     "output_type": "stream",
     "text": [
      "Manzana\n"
     ]
    }
   ],
   "source": [
    "print(fruta[:])"
   ]
  },
  {
   "cell_type": "markdown",
   "metadata": {},
   "source": [
    "## ¿Strings inmutables?"
   ]
  },
  {
   "cell_type": "markdown",
   "metadata": {},
   "source": [
    "Ahora intentemos cambiar el valor de un caracter en una posición en específico:"
   ]
  },
  {
   "cell_type": "code",
   "execution_count": 259,
   "metadata": {},
   "outputs": [
    {
     "ename": "TypeError",
     "evalue": "'str' object does not support item assignment",
     "output_type": "error",
     "traceback": [
      "\u001b[1;31m---------------------------------------------------------------------------\u001b[0m",
      "\u001b[1;31mTypeError\u001b[0m                                 Traceback (most recent call last)",
      "\u001b[1;32mc:\\Users\\ronal\\Desktop\\Misiontic2022\\ciclo_1\\Unidad_02\\notas_Unidad_02.ipynb Cell 59'\u001b[0m in \u001b[0;36m<cell line: 2>\u001b[1;34m()\u001b[0m\n\u001b[0;32m      <a href='vscode-notebook-cell:/c%3A/Users/ronal/Desktop/Misiontic2022/ciclo_1/Unidad_02/notas_Unidad_02.ipynb#ch0000069?line=0'>1</a>\u001b[0m saludo \u001b[39m=\u001b[39m\u001b[39m\"\u001b[39m\u001b[39mHola Mundo\u001b[39m\u001b[39m\"\u001b[39m\n\u001b[1;32m----> <a href='vscode-notebook-cell:/c%3A/Users/ronal/Desktop/Misiontic2022/ciclo_1/Unidad_02/notas_Unidad_02.ipynb#ch0000069?line=1'>2</a>\u001b[0m saludo[\u001b[39m0\u001b[39m] \u001b[39m=\u001b[39m \u001b[39m\"\u001b[39m\u001b[39mG\u001b[39m\u001b[39m\"\u001b[39m\n",
      "\u001b[1;31mTypeError\u001b[0m: 'str' object does not support item assignment"
     ]
    }
   ],
   "source": [
    "saludo =\"Hola Mundo\"\n",
    "saludo[0] = \"G\""
   ]
  },
  {
   "cell_type": "markdown",
   "metadata": {},
   "source": [
    "De esta manera da un error ya que las cadenas son inmutables, es decir, no se puede cambiar una cadena existente. Lo que se podía hacer es crear una nueva cadena con la pequeña variación \"reemplazo\" de la original:"
   ]
  },
  {
   "cell_type": "code",
   "execution_count": null,
   "metadata": {},
   "outputs": [
    {
     "name": "stdout",
     "output_type": "stream",
     "text": [
      "Gola Mundo\n",
      "Hola Mundo\n"
     ]
    }
   ],
   "source": [
    "saludo = \"Hola Mundo\"\n",
    "nuevo_saludo = \"G\" + saludo[1:]\n",
    "print(nuevo_saludo)\n",
    "print(saludo)"
   ]
  },
  {
   "cell_type": "markdown",
   "metadata": {},
   "source": [
    "De esta manera se concatena un nuevo caracter en la posición que se le indica, hay que tener encuenta que la cadena `saludo` no se toca ni se manipula"
   ]
  },
  {
   "cell_type": "markdown",
   "metadata": {},
   "source": [
    "## Operador `in`"
   ]
  },
  {
   "cell_type": "markdown",
   "metadata": {},
   "source": [
    "Es un operador booleano que toma dos cadenas y retorna True si la primera aparece en la segunda. Tomemos como ejemplo `b`como primer cadena y `banana` como segundo, en este caso a si se encuentra en la segunda cadena, entonces retorna True"
   ]
  },
  {
   "cell_type": "code",
   "execution_count": null,
   "metadata": {},
   "outputs": [
    {
     "name": "stdout",
     "output_type": "stream",
     "text": [
      "False\n",
      "False\n"
     ]
    }
   ],
   "source": [
    "# a si se encutra en banana\n",
    "var1 = 'a'\n",
    "var2 = 'banana'\n",
    "print(var1 in var2)\n",
    "\n",
    "# Ola no está o no coincide con banana\n",
    "var1 = 'ola'\n",
    "var2 = 'banana'\n",
    "print(var1 in var2)"
   ]
  },
  {
   "cell_type": "markdown",
   "metadata": {},
   "source": [
    "## Comparación de string"
   ]
  },
  {
   "cell_type": "markdown",
   "metadata": {},
   "source": [
    "Se usan los operadores de comparación en los Strings para ver si los dos son iguales:"
   ]
  },
  {
   "cell_type": "code",
   "execution_count": null,
   "metadata": {},
   "outputs": [
    {
     "name": "stdout",
     "output_type": "stream",
     "text": [
      "Está bien, bananas\n"
     ]
    }
   ],
   "source": [
    "palabra = 'banana'\n",
    "if palabra == 'banana':\n",
    "    print('Está bien, bananas')"
   ]
  },
  {
   "cell_type": "markdown",
   "metadata": {},
   "source": [
    "Para poner en orden alfabético se puede usar `<` y `>`"
   ]
  },
  {
   "cell_type": "code",
   "execution_count": null,
   "metadata": {},
   "outputs": [
    {
     "name": "stdout",
     "output_type": "stream",
     "text": [
      "Su palabra, bera, viene después de banana.\n"
     ]
    }
   ],
   "source": [
    "palabra = 'pera'\n",
    "if palabra < 'banana':\n",
    "    print('Tu palabra, ' + palabra + ', viene antes de banana')\n",
    "elif palabra > 'banana':\n",
    "    print('Su palabra, ' + palabra + ', viene después de banana.')\n",
    "else:\n",
    "    print('Está bien, su palabra es banana')"
   ]
  },
  {
   "cell_type": "markdown",
   "metadata": {},
   "source": [
    "Hay que tener en cuenta que python prioriza las mayúsculas, las mayusculas vienen antes que las minusculas, por ello si se tiene \"Piña\" y \"Banana\" se va a mostrar que \"Piña\" viene antes que \"banana\""
   ]
  },
  {
   "cell_type": "markdown",
   "metadata": {},
   "source": [
    "## Métodos de un string"
   ]
  },
  {
   "cell_type": "markdown",
   "metadata": {},
   "source": [
    "Se puede decir ue los strings son un ejemplo de los objetos en python. Un objeto consta de datos y de una función que se puede llamar en cualquier momento."
   ]
  },
  {
   "cell_type": "markdown",
   "metadata": {},
   "source": [
    "## Función dir()"
   ]
  },
  {
   "cell_type": "markdown",
   "metadata": {},
   "source": [
    "Enumera los métodos disponibles para un objeto y la función type muestra que tipo de dato es."
   ]
  },
  {
   "cell_type": "code",
   "execution_count": null,
   "metadata": {},
   "outputs": [],
   "source": [
    "cadena = \"Hola Mundo\"\n",
    "type(cadena)\n",
    "dir(cadena)"
   ]
  },
  {
   "cell_type": "markdown",
   "metadata": {},
   "source": [
    "Para saber que función cumple cada método se puede revisar la documentación oficial: https://docs.python.org/library/stdtypes.html#string-methods"
   ]
  },
  {
   "cell_type": "markdown",
   "metadata": {},
   "source": [
    "## Llamar un método"
   ]
  },
  {
   "cell_type": "markdown",
   "metadata": {},
   "source": [
    "## upper()"
   ]
  },
  {
   "cell_type": "markdown",
   "metadata": {},
   "source": [
    "Se toma el string y después con un punto (.) se llama el método: `palabra.upper()`."
   ]
  },
  {
   "cell_type": "code",
   "execution_count": null,
   "metadata": {},
   "outputs": [
    {
     "name": "stdout",
     "output_type": "stream",
     "text": [
      "BANANA\n"
     ]
    }
   ],
   "source": [
    "palabra = 'banana'\n",
    "palabra_nueva = palabra.upper()\n",
    "print(palabra_nueva)"
   ]
  },
  {
   "cell_type": "markdown",
   "metadata": {},
   "source": [
    "## find()"
   ]
  },
  {
   "cell_type": "markdown",
   "metadata": {},
   "source": [
    "Es un método de cadena que busca la posición de una cada dentro de otra. Invocamos find() sobre la palabra y se pasa como parámetro la letra o subcadena."
   ]
  },
  {
   "cell_type": "code",
   "execution_count": null,
   "metadata": {},
   "outputs": [
    {
     "name": "stdout",
     "output_type": "stream",
     "text": [
      "1\n",
      "2\n"
     ]
    }
   ],
   "source": [
    "palabra = 'banana'\n",
    "index1 = palabra.find('a') #Pasar caracter\n",
    "index2 = palabra.find('na') #Pasar subcadena\n",
    "print(index1)\n",
    "print(index2)"
   ]
  },
  {
   "cell_type": "markdown",
   "metadata": {},
   "source": [
    "Se puede tomar como segundo argumento el índice donde debe comenzar"
   ]
  },
  {
   "cell_type": "code",
   "execution_count": null,
   "metadata": {},
   "outputs": [
    {
     "name": "stdout",
     "output_type": "stream",
     "text": [
      "4\n"
     ]
    }
   ],
   "source": [
    "palabra = 'banana'\n",
    "print(palabra.find('na', 3))"
   ]
  },
  {
   "cell_type": "markdown",
   "metadata": {},
   "source": [
    "## strip()"
   ]
  },
  {
   "cell_type": "markdown",
   "metadata": {},
   "source": [
    "Elimina espaciados y tabulaciones del principio y fin de la cadena"
   ]
  },
  {
   "cell_type": "code",
   "execution_count": null,
   "metadata": {},
   "outputs": [
    {
     "name": "stdout",
     "output_type": "stream",
     "text": [
      "Aquí vamos\n"
     ]
    }
   ],
   "source": [
    "linea = ' Aquí vamos '\n",
    "print(linea.strip())"
   ]
  },
  {
   "cell_type": "markdown",
   "metadata": {},
   "source": [
    "## startswith()"
   ]
  },
  {
   "cell_type": "markdown",
   "metadata": {},
   "source": [
    "Retorna un booleano, si encuentra el argumento que se le pasó retorna True, de lo contrario False."
   ]
  },
  {
   "cell_type": "code",
   "execution_count": null,
   "metadata": {},
   "outputs": [
    {
     "name": "stdout",
     "output_type": "stream",
     "text": [
      "True\n",
      "False\n"
     ]
    }
   ],
   "source": [
    "linea = 'Que Tengas Un Buen Día'\n",
    "print(linea.startswith('Que'))\n",
    "print(linea.startswith('q'))\n"
   ]
  },
  {
   "cell_type": "markdown",
   "metadata": {},
   "source": [
    "Ahora combinaremos lowe() con startwitch(), mapeamos la linea a minusculas y pasamos el parametro a buscar"
   ]
  },
  {
   "cell_type": "code",
   "execution_count": null,
   "metadata": {},
   "outputs": [
    {
     "name": "stdout",
     "output_type": "stream",
     "text": [
      "False\n",
      "True\n"
     ]
    }
   ],
   "source": [
    "linea = 'Que Tengas Un Buen Día'\n",
    "print(linea.startswith('t'))\n",
    "print(linea.lower().startswith('q')) #Pasamos linea, la convertimos en minuscula y se pasa el parametro a buscar"
   ]
  },
  {
   "cell_type": "markdown",
   "metadata": {},
   "source": [
    "## Operador de formato"
   ]
  },
  {
   "cell_type": "markdown",
   "metadata": {},
   "source": [
    "Usamos `%` como operador de formato, en operaciones matemática sive como módulo para ver el residuo de una operación.\n",
    "\n",
    "- %s : se usa con cadenas\n",
    "- %d : se usa con numeros\n",
    "\n",
    "Uso: \"%d\" %variable"
   ]
  },
  {
   "cell_type": "code",
   "execution_count": null,
   "metadata": {},
   "outputs": [
    {
     "name": "stdout",
     "output_type": "stream",
     "text": [
      "42\n",
      "He visto 42 camellos\n",
      "Prueba de Hola mundo\n"
     ]
    }
   ],
   "source": [
    "camellos = 42\n",
    "print('%d' % camellos)\n",
    "\n",
    "camellos = 42\n",
    "print('He visto %d camellos' % camellos)\n",
    "\n",
    "hola = \"Hola mundo\"\n",
    "print(\"Prueba de %s\" %hola)"
   ]
  },
  {
   "cell_type": "markdown",
   "metadata": {},
   "source": [
    "## Caracteres especiales en el string"
   ]
  },
  {
   "cell_type": "markdown",
   "metadata": {},
   "source": [
    "- \"\\n\": Salto de línea"
   ]
  },
  {
   "cell_type": "code",
   "execution_count": null,
   "metadata": {},
   "outputs": [
    {
     "name": "stdout",
     "output_type": "stream",
     "text": [
      "Hola\n",
      "Mundo\n"
     ]
    }
   ],
   "source": [
    "variable = \"Hola\\nMundo\"\n",
    "print(variable)"
   ]
  },
  {
   "cell_type": "markdown",
   "metadata": {},
   "source": [
    "- \\t: Tab"
   ]
  },
  {
   "cell_type": "code",
   "execution_count": null,
   "metadata": {},
   "outputs": [
    {
     "name": "stdout",
     "output_type": "stream",
     "text": [
      "Hola\tMundo\n"
     ]
    }
   ],
   "source": [
    "variable = \"Hola\\tMundo\"\n",
    "print(variable)"
   ]
  },
  {
   "cell_type": "markdown",
   "metadata": {},
   "source": [
    "## Contar número de veces una subcadena en una cadena de texto: count()"
   ]
  },
  {
   "cell_type": "markdown",
   "metadata": {},
   "source": [
    "El metodo count() nos indica el número de veces que se repite una subcadena:"
   ]
  },
  {
   "cell_type": "code",
   "execution_count": null,
   "metadata": {},
   "outputs": [
    {
     "name": "stdout",
     "output_type": "stream",
     "text": [
      "4\n",
      "1\n",
      "3\n"
     ]
    }
   ],
   "source": [
    "cadena = \"un uno, un dos, un tres\"\n",
    "print (cadena.count(\"un\")) # Saca 4, hay 4 \"un\" en cadena.\n",
    "print (cadena.count(\"un\",10)) # Saca 1, hay 1 \"un\" a partir de la posición 10 de cadena.\n",
    "print (cadena.count(\"un\",0,10)) # Saca 3, hay 3 \"un\" entre la posición 0 y la 10"
   ]
  },
  {
   "cell_type": "markdown",
   "metadata": {},
   "source": [
    "El segundo parámetro que se le pasa indica desde que posición empieza el \"filtrado\""
   ]
  },
  {
   "cell_type": "markdown",
   "metadata": {},
   "source": [
    "## Reemplazar un substring: replace()"
   ]
  },
  {
   "cell_type": "markdown",
   "metadata": {},
   "source": [
    "Con este metodo se obtiene una copia de la cadena original y se reemplaza una subcadena por la que se le indique: replace(\"obtiene subcadena\", \"subcadena para reemplazar\", \"número de veces reemplazada\")"
   ]
  },
  {
   "cell_type": "code",
   "execution_count": null,
   "metadata": {},
   "outputs": [
    {
     "name": "stdout",
     "output_type": "stream",
     "text": [
      "XXX XXXo, XXX dos, XXX tres\n",
      "XXX XXXo, un dos, un tres\n"
     ]
    }
   ],
   "source": [
    "cadena = \"un uno, un dos, un tres\"\n",
    "# saca por pantalla \"XXX XXXo, XXX dos, XXX tres\"\n",
    "print (cadena.replace(\"un\", \"XXX\"))\n",
    "# Sólo reemplaza 2 \"un\", así que saca por pantalla \"XXX XXXo, un dos, un tres\n",
    "print (cadena.replace(\"un\", \"XXX\", 2))"
   ]
  },
  {
   "cell_type": "markdown",
   "metadata": {},
   "source": [
    "## Método format() de string"
   ]
  },
  {
   "cell_type": "markdown",
   "metadata": {},
   "source": [
    "Se usa `{ }` para poner los datos, y se usa .format() para pasar los datos a `{ }`\n",
    "\n",
    "Ejemplos:"
   ]
  },
  {
   "cell_type": "code",
   "execution_count": null,
   "metadata": {},
   "outputs": [
    {
     "name": "stdout",
     "output_type": "stream",
     "text": [
      "El valor es 12\n",
      "El primer valor es 10, el segundo valor es11, el tercer valor es 12\n"
     ]
    }
   ],
   "source": [
    "print(\"El valor es {}\".format(12)) #Format para un solo datos\n",
    "print(\"El primer valor es {}, el segundo valor es {}, el tercer valor es {}\".format(10,11,12)) #Varios valores"
   ]
  },
  {
   "cell_type": "markdown",
   "metadata": {},
   "source": [
    "Para pasar varios valores primero se debe indicar o definir los `{ }`, despues se usa .format() y se pasan los multiples valores, el valor en la posición 1 .format(`10`, 11, 12) se le asigna a la primera `{ }` de izquierda a derecha."
   ]
  },
  {
   "cell_type": "markdown",
   "metadata": {},
   "source": [
    "Otros ejemplos:"
   ]
  },
  {
   "cell_type": "code",
   "execution_count": null,
   "metadata": {},
   "outputs": [
    {
     "name": "stdout",
     "output_type": "stream",
     "text": [
      "El valor es 12.3456\n",
      "Los valores son 1, 2 y 3\n",
      "Los valores son 3, 2 y 1\n"
     ]
    }
   ],
   "source": [
    "# saca \"El valor es 12.3456\n",
    "print (\"El valor es {}\".format(12.3456))\n",
    "# Tres conjuntos {}, el primero para el primer parámetro de format(), el segundo para el segundo\n",
    "# y así sucesivamente.\n",
    "# saca \"Los valores son 1, 2 y 3\"\n",
    "print (\"Los valores son {}, {} y {}\".format(1,2,3))\n",
    "# Entre las llaves podemos poner la posición del parámetro. {2} es el tercer parámetro de format()\n",
    "# {0} es el primer parámetro de format.\n",
    "# saca \"Los valores son 3, 2 y 1\"\n",
    "print (\"Los valores son {2}, {1} y {0}\".format(1,2,3))"
   ]
  },
  {
   "cell_type": "markdown",
   "metadata": {},
   "source": [
    "Le podemos asignar nombres a los parámetros dentro de `.format()` y ese nombre pasarlo dentro de las llaves `{ }`"
   ]
  },
  {
   "cell_type": "code",
   "execution_count": null,
   "metadata": {},
   "outputs": [
    {
     "name": "stdout",
     "output_type": "stream",
     "text": [
      "2 y 1\n"
     ]
    }
   ],
   "source": [
    "# saca \"2 y 1\"\n",
    "print (\"{pepe} y {juan}\".format(juan=1, pepe=2))"
   ]
  },
  {
   "cell_type": "markdown",
   "metadata": {},
   "source": [
    "Otra manera de formatear la salida:"
   ]
  },
  {
   "cell_type": "code",
   "execution_count": null,
   "metadata": {},
   "outputs": [
    {
     "name": "stdout",
     "output_type": "stream",
     "text": [
      "Maria tiene 26 años y vive en Medellin\n"
     ]
    }
   ],
   "source": [
    "nombre=\"Maria\"\n",
    "edad=\"26\"\n",
    "ciudad=\"Medellin\"\n",
    "\n",
    "print (f\"{nombre} tiene {edad} años y vive en {ciudad}\")"
   ]
  },
  {
   "cell_type": "markdown",
   "metadata": {},
   "source": [
    "Documentación de .format(): https://docs.python.org/es/3/tutorial/inputoutput.html"
   ]
  },
  {
   "cell_type": "markdown",
   "metadata": {},
   "source": [
    "## Concatenar"
   ]
  },
  {
   "cell_type": "markdown",
   "metadata": {},
   "source": [
    "Cuando se usa el operador `+` con strings estos en vez de sumar se concatenan, es decir se unen:"
   ]
  },
  {
   "cell_type": "code",
   "execution_count": null,
   "metadata": {},
   "outputs": [
    {
     "name": "stdout",
     "output_type": "stream",
     "text": [
      "Hola Mundo\n"
     ]
    }
   ],
   "source": [
    "palabra1=\"Hola\"\n",
    "palabra2=\"Mundo\"\n",
    "print(palabra1 + \" \" + palabra2)"
   ]
  },
  {
   "cell_type": "markdown",
   "metadata": {},
   "source": [
    "## Multiplicar"
   ]
  },
  {
   "cell_type": "markdown",
   "metadata": {},
   "source": [
    "Se puede multiplicar un string añadiendo `*` seguido de las veces a multiplicarlo"
   ]
  },
  {
   "cell_type": "code",
   "execution_count": null,
   "metadata": {},
   "outputs": [
    {
     "name": "stdout",
     "output_type": "stream",
     "text": [
      "Hola Hola Hola Mundo\n"
     ]
    }
   ],
   "source": [
    "mensaje2a = 'Hola ' * 3\n",
    "mensaje2b = 'Mundo'\n",
    "print(mensaje2a + mensaje2b)"
   ]
  },
  {
   "cell_type": "markdown",
   "metadata": {},
   "source": [
    "## Añadir"
   ]
  },
  {
   "cell_type": "markdown",
   "metadata": {},
   "source": [
    "Si se quiere añadir un valor a una variable se puede hacer con `+=`"
   ]
  },
  {
   "cell_type": "code",
   "execution_count": null,
   "metadata": {},
   "outputs": [
    {
     "name": "stdout",
     "output_type": "stream",
     "text": [
      "Hola Mundo\n",
      "Hola Mundo\n"
     ]
    }
   ],
   "source": [
    "#Forma tradicional\n",
    "mensaje3 = 'Hola'\n",
    "mensaje3 = mensaje3 + ' '\n",
    "mensaje3 = mensaje3 + 'Mundo'\n",
    "print(mensaje3)\n",
    "\n",
    "#Forma abreviada\n",
    "mensaje3 = 'Hola'\n",
    "mensaje3 += ' '\n",
    "mensaje3 += 'Mundo'\n",
    "print(mensaje3)"
   ]
  },
  {
   "cell_type": "markdown",
   "metadata": {},
   "source": [
    "Las dos maneras son válidas"
   ]
  },
  {
   "cell_type": "markdown",
   "metadata": {},
   "source": [
    "# Diccionarios"
   ]
  },
  {
   "cell_type": "markdown",
   "metadata": {},
   "source": [
    "Permiten almacenar diferentes tipos de datos: String, int, tuplas, listas y otros diccionarios"
   ]
  },
  {
   "cell_type": "markdown",
   "metadata": {},
   "source": [
    "## Conceptos básicos"
   ]
  },
  {
   "cell_type": "markdown",
   "metadata": {},
   "source": [
    "### Definir un diccionario"
   ]
  },
  {
   "cell_type": "code",
   "execution_count": null,
   "metadata": {},
   "outputs": [],
   "source": [
    "# Definir un diccionario:\n",
    "diccionario = {} #Método #1\n",
    "diccionario = dict() #Método #2"
   ]
  },
  {
   "cell_type": "markdown",
   "metadata": {},
   "source": [
    "Los diccionarios tienen `llaves` y `valores`, cada llave debe tener un valor. En el siguiente ejemplo `\"total\"` es la llave y `55` es el valor"
   ]
  },
  {
   "cell_type": "code",
   "execution_count": null,
   "metadata": {},
   "outputs": [],
   "source": [
    "diccionario = {\"total\": 55}"
   ]
  },
  {
   "cell_type": "markdown",
   "metadata": {},
   "source": [
    "Podemos decir que lo que está antes de los dos puntos `\":\"` se le considera una llave, y lo que está después es el valor de la llave. Se usa una coma `,` para separar más de una llave"
   ]
  },
  {
   "cell_type": "code",
   "execution_count": null,
   "metadata": {},
   "outputs": [],
   "source": [
    "diccionario = {\"total\": 55, \"descuento\": True, \"subtotal\": 15}"
   ]
  },
  {
   "cell_type": "markdown",
   "metadata": {},
   "source": []
  },
  {
   "cell_type": "code",
   "execution_count": null,
   "metadata": {},
   "outputs": [],
   "source": [
    "# Creación del diccionario\n",
    "diccionario = {}\n",
    "\n",
    "#Agregar nueva llave y valor\n",
    "diccionario[\"usuario\"] = \"Eduardo\"\n",
    "\n",
    "#Actualizar valor mediante una llave\n",
    "diccionario[\"usuario\"] = \"Eduardo_gpg\"\n",
    "\n",
    "#Obtener valor mediante una llave\n",
    "print(diccionario[\"usuario\"])"
   ]
  },
  {
   "cell_type": "markdown",
   "metadata": {},
   "source": [
    "Obtener llaves y valores de un diccionario con `.keys` y `.values()`"
   ]
  },
  {
   "cell_type": "code",
   "execution_count": null,
   "metadata": {},
   "outputs": [
    {
     "name": "stdout",
     "output_type": "stream",
     "text": [
      "dict_keys(['eduardo', 'fernando', 'uriel', 'rafael'])\n",
      "dict_values([1, 2, 3, 4])\n",
      "eduardo 1\n",
      "fernando 2\n",
      "uriel 3\n",
      "rafael 4\n"
     ]
    }
   ],
   "source": [
    "#Definir diccionario\n",
    "diccionario = {\n",
    "    \"eduardo\": 1,\n",
    "    \"fernando\": 2,\n",
    "    \"uriel\": 3,\n",
    "    \"rafael\": 4\n",
    "}\n",
    "\n",
    "#obtener keys\n",
    "print(diccionario.keys())\n",
    "\n",
    "#Obtener valores\n",
    "print(diccionario.values())"
   ]
  },
  {
   "cell_type": "markdown",
   "metadata": {},
   "source": [
    "Si se quiere obtener las llaves y los valores al tiempo se usa un for, se crean dos variables, uno para guardar las keys y otro para los values. Para lograr obtener las llaves y valores se usa .items():"
   ]
  },
  {
   "cell_type": "code",
   "execution_count": null,
   "metadata": {},
   "outputs": [
    {
     "name": "stdout",
     "output_type": "stream",
     "text": [
      "eduardo 1\n",
      "fernando 2\n",
      "uriel 3\n",
      "rafael 4\n"
     ]
    }
   ],
   "source": [
    "#Obtener las keys y values iterando el diccionario con un for\n",
    "for key, value in diccionario.items():\n",
    "    print(key, value)"
   ]
  },
  {
   "cell_type": "code",
   "execution_count": null,
   "metadata": {},
   "outputs": [],
   "source": [
    "usuario={\n",
    "    \"nombre\": \"Eduardo\",\n",
    "    \"edad\": 25,\n",
    "    \"Trabajo\": \"Dev\"\n",
    "}\n",
    "\n",
    "calificaciones = usuario.get(\"calificaciones, []\")\n",
    "if calificaciones:\n",
    "    for calificacion in calificaciones:\n",
    "        print(calificacion)"
   ]
  },
  {
   "cell_type": "markdown",
   "metadata": {},
   "source": [
    "Eliminar un elemento de un diccionario. Para ello usamo del (nombre de diccionario)[\"key a borrar\"]"
   ]
  },
  {
   "cell_type": "code",
   "execution_count": null,
   "metadata": {},
   "outputs": [
    {
     "name": "stdout",
     "output_type": "stream",
     "text": [
      "{'b': 2, 'c': 3}\n"
     ]
    }
   ],
   "source": [
    "diccionario={\"a\": 1, \"b\":2, \"c\":3}\n",
    "\n",
    "del diccionario[\"a\"]\n",
    "print(diccionario)"
   ]
  },
  {
   "cell_type": "markdown",
   "metadata": {},
   "source": [
    "También se puede eliminar mediante el método .pop()"
   ]
  },
  {
   "cell_type": "code",
   "execution_count": null,
   "metadata": {},
   "outputs": [
    {
     "name": "stdout",
     "output_type": "stream",
     "text": [
      "{'c': 3}\n"
     ]
    }
   ],
   "source": [
    "diccionario.pop(\"b\")\n",
    "print(diccionario)"
   ]
  },
  {
   "cell_type": "markdown",
   "metadata": {},
   "source": [
    "Para saber la longitud de un diccionario usamos len()"
   ]
  },
  {
   "cell_type": "code",
   "execution_count": null,
   "metadata": {},
   "outputs": [],
   "source": [
    "print(len(diccionario))"
   ]
  }
 ],
 "metadata": {
  "interpreter": {
   "hash": "dd5b2693a84d0c8290bdbefedc4c1333bd0ae1351e4e5e2274916304a4fbdf23"
  },
  "kernelspec": {
   "display_name": "Python 3.9.5 64-bit",
   "language": "python",
   "name": "python3"
  },
  "language_info": {
   "codemirror_mode": {
    "name": "ipython",
    "version": 3
   },
   "file_extension": ".py",
   "mimetype": "text/x-python",
   "name": "python",
   "nbconvert_exporter": "python",
   "pygments_lexer": "ipython3",
   "version": "3.9.5"
  },
  "orig_nbformat": 4
 },
 "nbformat": 4,
 "nbformat_minor": 2
}
