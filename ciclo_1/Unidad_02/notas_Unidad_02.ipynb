{
 "cells": [
  {
   "cell_type": "markdown",
   "metadata": {},
   "source": [
    "# Condicionales"
   ]
  },
  {
   "cell_type": "markdown",
   "metadata": {},
   "source": [
    "Es una toma de decisión que se hace a raíz de una comparación, si la comparación se cumple se ejectua X instucción; si la conición no se cumple se ejecuta una diferente serie de instrucciones"
   ]
  },
  {
   "cell_type": "markdown",
   "metadata": {},
   "source": [
    "El condicional más popular o más conocido es el Si-Sino\n",
    "\n",
    "<img src=\"img/Screenshot_1.png\">"
   ]
  },
  {
   "cell_type": "markdown",
   "metadata": {},
   "source": [
    "Ejemplo sencillo en código"
   ]
  },
  {
   "cell_type": "code",
   "execution_count": 2,
   "metadata": {},
   "outputs": [
    {
     "name": "stdout",
     "output_type": "stream",
     "text": [
      "AM\n"
     ]
    }
   ],
   "source": [
    "horaDelDia = 5\n",
    "if horaDelDia >=12:\n",
    "    print(\"PM\")\n",
    "else:\n",
    "    print(\"AM\")"
   ]
  },
  {
   "cell_type": "markdown",
   "metadata": {},
   "source": [
    "## Condiciones anidadas"
   ]
  },
  {
   "cell_type": "markdown",
   "metadata": {},
   "source": [
    "Son condiciones anidadas cuando hay una condición dentro de otra condición:"
   ]
  },
  {
   "cell_type": "code",
   "execution_count": 18,
   "metadata": {},
   "outputs": [
    {
     "name": "stdout",
     "output_type": "stream",
     "text": [
      "La nota debe ser menor a 5\n"
     ]
    }
   ],
   "source": [
    "nota = 6\n",
    "if nota < 3:\n",
    "    print(\"Reprobado\")\n",
    "else:\n",
    "    if nota >= 3 and nota < 4:\n",
    "        print(\"Aprobado\")\n",
    "    else:\n",
    "        if nota >= 4 and nota < 5:\n",
    "            print(\"Buena nota\")\n",
    "        else:\n",
    "            print(\"La nota debe ser menor a 5\")"
   ]
  },
  {
   "cell_type": "markdown",
   "metadata": {},
   "source": [
    "En python existe el `elif` que es una combinación del `else` y el `if`, de esta manera también se puede hacer condiciones anidadas y es más legible el código."
   ]
  },
  {
   "cell_type": "code",
   "execution_count": 25,
   "metadata": {},
   "outputs": [
    {
     "name": "stdout",
     "output_type": "stream",
     "text": [
      "La nota debe ser menor a 5\n"
     ]
    }
   ],
   "source": [
    "nota2 = 12\n",
    "\n",
    "if nota2 < 3:\n",
    "    print(\"Reprobado\")\n",
    "elif nota2 >= 3 and nota2 < 4:\n",
    "    print(\"Aprobado\")\n",
    "elif nota2 >= 4 and nota2 < 5:\n",
    "    print(\"Buena nota\")\n",
    "else:\n",
    "    print(\"La nota debe ser menor a 5\")"
   ]
  },
  {
   "cell_type": "markdown",
   "metadata": {},
   "source": [
    "Ejemplo decisiones anidadas:\n",
    "Leer un número entero y determinar si es positivo o negativo, si es positivo determinar si tiene dos digitos y si es negativo determinar si tiene 3 digitos. Asumir que no puede entrar el numero cero."
   ]
  },
  {
   "cell_type": "code",
   "execution_count": 36,
   "metadata": {},
   "outputs": [
    {
     "name": "stdout",
     "output_type": "stream",
     "text": [
      "El numero 0 no es valido\n"
     ]
    }
   ],
   "source": [
    "#entero = input(\"Digite un numero entero: \")\n",
    "entero = 0\n",
    "\n",
    "if entero > 0:\n",
    "    if entero >= 10 and entero <=99:\n",
    "        print(\"El numero es positivo y tiene dos digitos\")\n",
    "    else:\n",
    "        print(\"El numero es positivo y tiene menos de 2 digitos\")\n",
    "elif entero < 0:\n",
    "    if entero >= -999 and entero <= -100:\n",
    "        print(\"El numero es negativo y tiene 3 digitos\")\n",
    "    else:\n",
    "        print(\"El numero es negativo y no tiene mas de 3 digitos\")\n",
    "else:\n",
    "    print(\"El numero 0 no es valido\")"
   ]
  },
  {
   "cell_type": "markdown",
   "metadata": {},
   "source": [
    "## switch"
   ]
  },
  {
   "cell_type": "markdown",
   "metadata": {},
   "source": [
    "Directamente no existe en python"
   ]
  },
  {
   "cell_type": "markdown",
   "metadata": {},
   "source": []
  },
  {
   "cell_type": "markdown",
   "metadata": {},
   "source": [
    "# Booleanos"
   ]
  },
  {
   "cell_type": "markdown",
   "metadata": {},
   "source": []
  }
 ],
 "metadata": {
  "interpreter": {
   "hash": "dd5b2693a84d0c8290bdbefedc4c1333bd0ae1351e4e5e2274916304a4fbdf23"
  },
  "kernelspec": {
   "display_name": "Python 3.9.5 64-bit",
   "language": "python",
   "name": "python3"
  },
  "language_info": {
   "codemirror_mode": {
    "name": "ipython",
    "version": 3
   },
   "file_extension": ".py",
   "mimetype": "text/x-python",
   "name": "python",
   "nbconvert_exporter": "python",
   "pygments_lexer": "ipython3",
   "version": "3.9.5"
  },
  "orig_nbformat": 4
 },
 "nbformat": 4,
 "nbformat_minor": 2
}
