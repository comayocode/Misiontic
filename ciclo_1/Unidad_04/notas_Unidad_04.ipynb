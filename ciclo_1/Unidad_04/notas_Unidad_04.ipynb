{
 "cells": [
  {
   "cell_type": "markdown",
   "metadata": {},
   "source": [
    "# Para estudiar 5/jun/2022\n",
    "\n",
    "Clase sobre programación funcional: \\Desktop\\Clases Misiontic min 22:10\n",
    "\n",
    "- Programación funcional\n",
    "    - Funciones primera clase\n",
    "    - Funciones orden superior\n",
    "    - lambda\n",
    "    - reduce\n",
    "    - map"
   ]
  },
  {
   "cell_type": "markdown",
   "metadata": {},
   "source": [
    "Blogs/Páginas por revisar:\n",
    "\n",
    "- https://www.youtube.com/watch?v=USyxh-rRlvA\n",
    "- https://docs.python.org/es/3.8/howto/functional.html#grouping-elements\n",
    "- https://www.freecodecamp.org/espanol/news/expresiones-lambda-en-python/\n",
    "- https://codigofacilito.com/articulos/programacion-funcional\n",
    "- https://es.acervolima.com/funciones-de-primera-clase-en-python/"
   ]
  },
  {
   "cell_type": "markdown",
   "metadata": {},
   "source": []
  },
  {
   "cell_type": "markdown",
   "metadata": {},
   "source": []
  }
 ],
 "metadata": {
  "language_info": {
   "name": "python"
  },
  "orig_nbformat": 4
 },
 "nbformat": 4,
 "nbformat_minor": 2
}
