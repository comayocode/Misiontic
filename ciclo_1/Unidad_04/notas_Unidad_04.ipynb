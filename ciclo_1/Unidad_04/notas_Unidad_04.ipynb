{
 "cells": [
  {
   "cell_type": "markdown",
   "metadata": {},
   "source": [
    "# Conversión entre contenedores\n",
    "\n"
   ]
  },
  {
   "cell_type": "markdown",
   "metadata": {},
   "source": [
    "## Resmen de los contenedores"
   ]
  },
  {
   "cell_type": "code",
   "execution_count": 24,
   "metadata": {},
   "outputs": [],
   "source": [
    "Cadenas = \"hola\"\n",
    "Listas = [\"h\", \"o\", \"l\", \"a\"]\n",
    "Tuplas = (\"h\", \"o\", \"l\", \"a\")\n",
    "Diccionarios = {0: \"h\", 1: \"o\", 2: \"l\", 3: \"a\"}\n",
    "Conjuntos = {\"h\", \"o\", \"l\", \"a\"}"
   ]
  },
  {
   "cell_type": "markdown",
   "metadata": {},
   "source": [
    "## Conversiones"
   ]
  },
  {
   "cell_type": "code",
   "execution_count": null,
   "metadata": {},
   "outputs": [],
   "source": [
    "\"\".join() #Convertir a cadena\n",
    "tuple() #Convertir a tupla\n",
    "list() #Converir a lista\n",
    "set() #Convertir a conjunto"
   ]
  },
  {
   "cell_type": "code",
   "execution_count": null,
   "metadata": {},
   "outputs": [
    {
     "name": "stdout",
     "output_type": "stream",
     "text": [
      "hola\n",
      "('h', 'o', 'l', 'a')\n",
      "['h', 'o', 'l', 'a']\n",
      "{'o', 'h', 'a', 'l'}\n"
     ]
    }
   ],
   "source": [
    "\n",
    "cadena = \"\".join(Listas)\n",
    "print(cadena)\n",
    "\n",
    "tupla = tuple(Cadenas)\n",
    "print(tupla)\n",
    "\n",
    "lista = list(Cadenas)\n",
    "print(lista)\n",
    "\n",
    "conjunto = set(Cadenas)\n",
    "print(conjunto)"
   ]
  },
  {
   "cell_type": "markdown",
   "metadata": {},
   "source": [
    "### Conversión a diccionarios\n",
    "\n",
    "Debido a que los diccionarios tienen índices y valores su conversión es diferente:"
   ]
  },
  {
   "cell_type": "code",
   "execution_count": null,
   "metadata": {},
   "outputs": [
    {
     "name": "stdout",
     "output_type": "stream",
     "text": [
      "{0: 'H', 1: 'o', 2: 'l', 3: 'a'}\n"
     ]
    }
   ],
   "source": [
    "cadena = \"Hola\"\n",
    "diccionario = dict(zip(range(len(cadena)), cadena))\n",
    "print(diccionario)"
   ]
  },
  {
   "cell_type": "markdown",
   "metadata": {},
   "source": [
    "De esa misma manera se convierten las listas, tuplas y conjuntos a diccionarios, simplemente se le pasa el conjunto al diccionario como se ve  en el ejemplo anterior."
   ]
  },
  {
   "cell_type": "markdown",
   "metadata": {},
   "source": [
    "### Conversiones desde diccionarios\n",
    "\n",
    "Convertir un diccionario a cadena, lista, tupla o conjunto:"
   ]
  },
  {
   "cell_type": "markdown",
   "metadata": {},
   "source": [
    "Diccionario a cadena:"
   ]
  },
  {
   "cell_type": "code",
   "execution_count": null,
   "metadata": {},
   "outputs": [
    {
     "name": "stdout",
     "output_type": "stream",
     "text": [
      "Hola\n"
     ]
    }
   ],
   "source": [
    "diccionario = {0: 'H', 1: 'o', 2: 'l', 3: 'a'}\n"
   ]
  },
  {
   "cell_type": "markdown",
   "metadata": {},
   "source": [
    "Para pasar los valores, items o los dos a la vez:\n",
    "\n",
    "En `tuple` va el contenedor al que se quiere convertir el diccionario."
   ]
  },
  {
   "cell_type": "code",
   "execution_count": null,
   "metadata": {},
   "outputs": [],
   "source": [
    "tuple(contenedor_convertido.keys()) #Obtener keys\n",
    "tuple(contenedor_convertido.values()) #Obtener values\n",
    "tuple(contenedor_convertido.items()) #Obtener los dos"
   ]
  },
  {
   "cell_type": "markdown",
   "metadata": {},
   "source": [
    "Para ser prácticos solo usaremos .values()"
   ]
  },
  {
   "cell_type": "code",
   "execution_count": null,
   "metadata": {},
   "outputs": [
    {
     "name": "stdout",
     "output_type": "stream",
     "text": [
      "Cadena: Hola\n",
      "Tupla: ('H', 'o', 'l', 'a')\n",
      "Lista: ['H', 'o', 'l', 'a']\n",
      "Conjunto: {'o', 'H', 'l', 'a'}\n"
     ]
    }
   ],
   "source": [
    "diccionario = {0: 'H', 1: 'o', 2: 'l', 3: 'a'}\n",
    "\n",
    "#Convertir a cadena\n",
    "cadena = \"\".join(diccionario.values()) #Guarar sólo los valores\n",
    "print(\"Cadena:\", cadena)\n",
    "\n",
    "#Convertir a tuplas\n",
    "tupla = tuple(diccionario.values()) #Guarar sólo los valores\n",
    "print(\"Tupla:\",tupla)\n",
    "\n",
    "#Convertir a listas\n",
    "lista = list(diccionario.values()) #Guarar sólo los valores\n",
    "print(\"Lista:\",lista)\n",
    "\n",
    "#Convertir a conjunto\n",
    "conjunto = set(diccionario.values()) #Guarar sólo los valores\n",
    "print(\"Conjunto:\",conjunto)\n",
    "\n"
   ]
  },
  {
   "cell_type": "markdown",
   "metadata": {},
   "source": [
    "# Programación funcional"
   ]
  },
  {
   "cell_type": "markdown",
   "metadata": {},
   "source": [
    "Es un paradigma de programación, un paradigma es una forma de pensar y hacer las cosas. En la programación fucnional se busca la optimización de código."
   ]
  },
  {
   "cell_type": "markdown",
   "metadata": {},
   "source": [
    "## Referencia de funciones"
   ]
  },
  {
   "cell_type": "markdown",
   "metadata": {},
   "source": [
    "Se trata de asignar o guardar una copia de una función en una variable, para posteriormente modificar sin afectar la función original. También se puede pasar como referencia otra referencia:."
   ]
  },
  {
   "cell_type": "code",
   "execution_count": null,
   "metadata": {},
   "outputs": [],
   "source": [
    "#Función\n",
    "def sumar(n1, n2):\n",
    "    return n1+n2\n",
    "\n",
    "# Variable en la que se referencia o se guarda una copia de la función\n",
    "referencia = sumar\n",
    "\n",
    "# Se imprime la referencia y se le pasa los parámetros como si fuera una función\n",
    "print(referencia(10,10))\n",
    "\n",
    "#Parar como referencia otra referencia\n",
    "otra_referencia = referencia\n",
    "print(otra_referencia(5,5))"
   ]
  },
  {
   "cell_type": "markdown",
   "metadata": {},
   "source": [
    "## Funciones de orden superior"
   ]
  },
  {
   "cell_type": "markdown",
   "metadata": {},
   "source": [
    "Es una función que recibe como parámetros otra funciones."
   ]
  },
  {
   "cell_type": "code",
   "execution_count": null,
   "metadata": {},
   "outputs": [],
   "source": [
    "def restar(n1,n2):\n",
    "    return n1-n2\n",
    "\n",
    "def funcion_orden_superior(funcion):\n",
    "    respuesta = funcion(50,10)\n",
    "    print(respuesta)\n",
    "\n",
    "# Se pasa la función a la otra función\n",
    "funcion_orden_superior(restar)"
   ]
  },
  {
   "cell_type": "markdown",
   "metadata": {},
   "source": [
    "## Funciones locales"
   ]
  },
  {
   "cell_type": "markdown",
   "metadata": {},
   "source": [
    "Son funciones anidadas que sólo funciona dentro de la función en la que esté."
   ]
  },
  {
   "cell_type": "markdown",
   "metadata": {},
   "source": [
    "Son funciones que internamente tienen otras funciones. Ejemplo:"
   ]
  },
  {
   "cell_type": "markdown",
   "metadata": {},
   "source": [
    ">NOTA: La función local (`función anidada \"def sumar\"`) no se puede llamar desde afuera de la función \"`calcular_promedio`\", sólo se puede llamar dentro de la función \"`calcular_promedio`\", aunque hay un truco que si permite hacerlo."
   ]
  },
  {
   "cell_type": "code",
   "execution_count": 1,
   "metadata": {},
   "outputs": [
    {
     "name": "stdout",
     "output_type": "stream",
     "text": [
      "4.35\n"
     ]
    }
   ],
   "source": [
    "def calcular_promedio(lista: list):\n",
    "    #Función local\n",
    "    def sumar(lista: list):\n",
    "        suma = 0\n",
    "        for n in lista:\n",
    "            suma += n\n",
    "        return suma\n",
    "\n",
    "    # Calcular el promedio\n",
    "    promedio = sumar(lista) / len(lista)\n",
    "    return promedio\n",
    "\n",
    "print( calcular_promedio([4.5, 3.2, 4.7, 5.0]))"
   ]
  },
  {
   "cell_type": "markdown",
   "metadata": {},
   "source": [
    "En el ejemplo anterior la función local sería `def sumar`, es una función anidada. Como es una función local no se puede llamar (la función local) afuera de la función principal, sólo se puede acceder a ella desde la función principal."
   ]
  },
  {
   "cell_type": "markdown",
   "metadata": {},
   "source": [
    "> Para poder usar una función local afuer de la función que la contiene se puede usar las referencia de funciones, es decir, retornar la referencia a la función local para posteriormente usar el valor de retorno"
   ]
  },
  {
   "cell_type": "code",
   "execution_count": null,
   "metadata": {},
   "outputs": [],
   "source": [
    "def sumas(operador: list):\n",
    "    def sumar(n1, n2):\n",
    "        return n1+n2\n",
    "    return sumar\n",
    "\n",
    "#Referencia de la función local \"sumar\"\n",
    "funcion = sumas(\"\")\n",
    "print(funcion(10,10))"
   ]
  },
  {
   "cell_type": "markdown",
   "metadata": {},
   "source": [
    "## Ejercicio para practicar con funciones locales y referencias"
   ]
  },
  {
   "cell_type": "markdown",
   "metadata": {},
   "source": [
    "Crear una función que retorne funciones para ejecutar operaciones matemáticas dependiendo del operador."
   ]
  },
  {
   "cell_type": "code",
   "execution_count": 3,
   "metadata": {},
   "outputs": [
    {
     "name": "stdout",
     "output_type": "stream",
     "text": [
      "El operador ** no es soportado\n"
     ]
    }
   ],
   "source": [
    "# Función que toma como parametro un operador artimético\n",
    "def fabrica_funciones(operador: str):\n",
    "    # Variable que pasa como referencia la respectiva operación\n",
    "    funcion = \"\"\n",
    "    #Condicional para filtrar el operador\n",
    "    if operador == \"+\":\n",
    "        #Función local\n",
    "        def sumar(n1,n2):\n",
    "            return n1 + n2\n",
    "        # Se pasa como referencia la función local para ser usada fuera de la función principal\n",
    "        funcion = sumar\n",
    "    elif operador == \"-\":\n",
    "        def restar(n1,n2):\n",
    "            return n1-n2\n",
    "        funcion = restar\n",
    "    elif operador == \"*\":\n",
    "        def multiplicar(n1,n2):\n",
    "            return n1*n2\n",
    "        funcion = multiplicar\n",
    "    # Si ningún operador es correcto FORMA #1 (else)\n",
    "    else:\n",
    "        # Creación de función local\n",
    "        def ninguno(n1, n2):\n",
    "            # Se guarda el mensaje en una variable\n",
    "            mensaje = f\"El operador {operador} no es soportado\"\n",
    "            # Se retorna la variable\n",
    "            return mensaje\n",
    "        # Se referencia la función \"ninguno\" con el mensaje de retorno\n",
    "        funcion = ninguno\n",
    "    # Se retorna la variable función con la referencia de la función local\n",
    "    return funcion\n",
    "\n",
    "# Se referencia la función principal y se pasa como parámetro un operador\n",
    "resultado=fabrica_funciones(\"**\")\n",
    "# Se imprime el resultado y se pasan los paramétros a la función local\n",
    "print(resultado(10,10))"
   ]
  },
  {
   "cell_type": "markdown",
   "metadata": {},
   "source": [
    "Para verifica que ningun operador es aceptado hay dos opciones: con un else y dentro del else se crea una función que retorne el mensaje"
   ]
  },
  {
   "cell_type": "code",
   "execution_count": null,
   "metadata": {},
   "outputs": [],
   "source": [
    "else:\n",
    "    def ninguno(n1, n2):\n",
    "        mensaje = f\"El operador {operador} no es soportado\"\n",
    "        return mensaje\n",
    "    funcion = ninguno"
   ]
  },
  {
   "cell_type": "markdown",
   "metadata": {},
   "source": [
    "O crear una función \"defecto\" al inicio de la función padre y pasarlo como parámetro"
   ]
  },
  {
   "cell_type": "code",
   "execution_count": null,
   "metadata": {},
   "outputs": [],
   "source": [
    "def ninguno(n1,n2):\n",
    "    return f\"El operador {operador} no es soportado\""
   ]
  },
  {
   "cell_type": "markdown",
   "metadata": {},
   "source": [
    "Ahora añadiremos una función de orden superior que reciba 2 funciones con diferentes operaciones. Tamamos como base el ejemplo anterior"
   ]
  },
  {
   "cell_type": "code",
   "execution_count": 28,
   "metadata": {},
   "outputs": [
    {
     "name": "stdout",
     "output_type": "stream",
     "text": [
      "Resultado de función_1: 50\n",
      "Resultado de función_2: 100\n"
     ]
    }
   ],
   "source": [
    "#Ejemplo anterior\n",
    "def fabrica_funciones(operador: str):\n",
    "    funcion = \"\"\n",
    "    if operador == \"+\":\n",
    "        def sumar(n1,n2):\n",
    "            return n1 + n2\n",
    "        funcion = sumar\n",
    "    elif operador == \"-\":\n",
    "        def restar(n1,n2):\n",
    "            return n1-n2\n",
    "        funcion = restar\n",
    "    elif operador == \"*\":\n",
    "        def multiplicar(n1,n2):\n",
    "            return n1*n2\n",
    "        funcion = multiplicar\n",
    "    else:\n",
    "        def ninguno(n1, n2):\n",
    "            return f\"El operador {operador} no es soportado\"\n",
    "        funcion = ninguno\n",
    "    return funcion\n",
    "\n",
    "#Función orden superior\n",
    "def ejecutar_operaciones(funcion_1,funcion_2):\n",
    "    #Asignación de valores\n",
    "    resultado_1 = funcion_1(30,20)\n",
    "    resultado_2 = funcion_2(10,10)\n",
    "    #Impresión de resultados\n",
    "    print (f\"Resultado de función_1: {resultado_1}\")\n",
    "    print (f\"Resultado de función_2: {resultado_2}\")\n",
    "\n",
    "#Asignación de operadores\n",
    "funcion_1 = fabrica_funciones(\"+\")\n",
    "funcion_2 = fabrica_funciones(\"*\")\n",
    "\n",
    "#Asigan los parametros\n",
    "ejecutar_operaciones(funcion_1, funcion_2)"
   ]
  },
  {
   "cell_type": "markdown",
   "metadata": {},
   "source": [
    "## Funciones anónimas (lambda)"
   ]
  },
  {
   "cell_type": "markdown",
   "metadata": {},
   "source": [
    "Es una función que no tiene nombre, por ende no se puede llamar directamente, lo que se tiene que hacer para poder llamar la función anónima es crear una variable y pasarla como referencia."
   ]
  },
  {
   "cell_type": "code",
   "execution_count": null,
   "metadata": {},
   "outputs": [],
   "source": [
    "def func_sumar():\n",
    "    return 50\n",
    "\n",
    "sumar = lambda : 50\n",
    "print(sumar())"
   ]
  },
  {
   "cell_type": "markdown",
   "metadata": {},
   "source": [
    "La función `func_sumar()` es quivalente al lambda `lambda : 50`, todo lo que está después de los dos puntos en la función lambda es lo que se va a retornar"
   ]
  },
  {
   "cell_type": "markdown",
   "metadata": {},
   "source": [
    "Para crear una función lambda que reciba parámetros:"
   ]
  },
  {
   "cell_type": "code",
   "execution_count": 27,
   "metadata": {},
   "outputs": [
    {
     "name": "stdout",
     "output_type": "stream",
     "text": [
      "30\n"
     ]
    }
   ],
   "source": [
    "def func_sumar(n1,n2):\n",
    "    return n1 + n2\n",
    "\n",
    "#Lambda pasando parámetros\n",
    "sumar = lambda n1, n2: n1+n2\n",
    "print(sumar(10,20))"
   ]
  },
  {
   "cell_type": "markdown",
   "metadata": {},
   "source": [
    "### Ejercicio práctica anterior con lambda"
   ]
  },
  {
   "cell_type": "markdown",
   "metadata": {},
   "source": [
    "EL ejercicio anterior vimos como nos gastamos varias lineas de código, esto se puede simplificar gracias al lambda:"
   ]
  },
  {
   "cell_type": "markdown",
   "metadata": {},
   "source": [
    "El ejercicio práctio"
   ]
  },
  {
   "cell_type": "code",
   "execution_count": 26,
   "metadata": {},
   "outputs": [
    {
     "name": "stdout",
     "output_type": "stream",
     "text": [
      "No se soporta el operador /\n"
     ]
    }
   ],
   "source": [
    "def fabricar_funcion(operador: str):\n",
    "    funcion = lambda n1,n2: f\"No se soporta el operador {operador}\"\n",
    "    if operador == \"+\":\n",
    "        funcion = lambda n1,n2: n1+n2\n",
    "    elif operador == \"-\":\n",
    "        funcion = lambda n1,n2: n1+n2\n",
    "    elif operador == \"*\":\n",
    "        funcion = lambda n1,n2: n1+n2\n",
    "    return funcion\n",
    "\n",
    "func = fabricar_funcion(\"/\")\n",
    "print(func(10,30))"
   ]
  },
  {
   "cell_type": "markdown",
   "metadata": {},
   "source": [
    "Temas:\n",
    "- Funciones primera clase\n",
    "- Funciones orden superior\n",
    "- lambda\n",
    "- reduce\n",
    "- map"
   ]
  },
  {
   "cell_type": "markdown",
   "metadata": {},
   "source": [
    "Fuentes/Contenido externo\n",
    "\n",
    "- https://www.youtube.com/watch?v=USyxh-rRlvA\n",
    "- https://docs.python.org/es/3.8/howto/functional.html#grouping-elements\n",
    "- https://www.freecodecamp.org/espanol/news/expresiones-lambda-en-python/\n",
    "- https://codigofacilito.com/articulos/programacion-funcional\n",
    "- https://es.acervolima.com/funciones-de-primera-clase-en-python/"
   ]
  },
  {
   "cell_type": "markdown",
   "metadata": {},
   "source": [
    "## List Comprehension y listas en lambda"
   ]
  },
  {
   "cell_type": "markdown",
   "metadata": {},
   "source": [
    "### List Comprehension\n",
    "\n",
    "Ofrece un forma más corta cuando se desea crear una nueva lista basada en los datos de una ya existente"
   ]
  },
  {
   "cell_type": "markdown",
   "metadata": {},
   "source": [
    "Normalmente cuando queremos crear una lista a partir de los datos de otra lo hacíamos así:"
   ]
  },
  {
   "cell_type": "code",
   "execution_count": 1,
   "metadata": {},
   "outputs": [
    {
     "name": "stdout",
     "output_type": "stream",
     "text": [
      "['apple', 'banana', 'mango']\n"
     ]
    }
   ],
   "source": [
    "fruits = [\"apple\", \"banana\", \"cherry\", \"kiwi\", \"mango\"]\n",
    "newlist = []\n",
    "\n",
    "for x in fruits:\n",
    "    if \"a\" in x:\n",
    "        newlist.append(x)\n",
    "\n",
    "print(newlist)"
   ]
  },
  {
   "cell_type": "markdown",
   "metadata": {},
   "source": [
    "Con list comprehension se puede hacer eso en una sóla línea de código:"
   ]
  },
  {
   "cell_type": "code",
   "execution_count": 2,
   "metadata": {},
   "outputs": [
    {
     "name": "stdout",
     "output_type": "stream",
     "text": [
      "['apple', 'banana', 'mango']\n"
     ]
    }
   ],
   "source": [
    "fruits = [\"apple\", \"banana\", \"cherry\", \"kiwi\", \"mango\"]\n",
    "\n",
    "newlist = [x for x in fruits if \"a\" in x]\n",
    "\n",
    "print(newlist)"
   ]
  },
  {
   "cell_type": "markdown",
   "metadata": {},
   "source": [
    "Sintáxis: ` newlist = [expression(lo que se desea hacer) for item(variable) in iterable(lista) if condition == True] `"
   ]
  },
  {
   "cell_type": "markdown",
   "metadata": {},
   "source": [
    "#### Miremos un ejercicio sencillo con las list comprehension:\n",
    "\n",
    "A partir de una lista de nombres obtener una lista con las iniciales\n",
    "['Andres', 'Juliana']\n",
    "['A', 'J']"
   ]
  },
  {
   "cell_type": "markdown",
   "metadata": {},
   "source": [
    "- `lista = [\"Luis\", \"Miguel\"]`: Se declara la lista\n",
    "- `iniciales = [n[0] for n in lista]`: Se crea la list Comprehension.\n",
    "    - Cada vez que el for itera la lista, guarda el nombre en n y este imprime la posición 0 ( [0] )"
   ]
  },
  {
   "cell_type": "code",
   "execution_count": 3,
   "metadata": {},
   "outputs": [
    {
     "name": "stdout",
     "output_type": "stream",
     "text": [
      "['L', 'M']\n"
     ]
    }
   ],
   "source": [
    "lista = [\"Luis\", \"Miguel\"]\n",
    "iniciales = [n[0] for n in lista]\n",
    "print(iniciales)"
   ]
  },
  {
   "cell_type": "markdown",
   "metadata": {},
   "source": [
    "#### Ahora vamos a hacer el ejercicio anterior con una función lambda"
   ]
  },
  {
   "cell_type": "markdown",
   "metadata": {},
   "source": [
    "Funciona de la misma forma, sólo que con la función lambda se pasa el argumento \"lista\" con la lista definida anteriormente"
   ]
  },
  {
   "cell_type": "code",
   "execution_count": 4,
   "metadata": {},
   "outputs": [
    {
     "name": "stdout",
     "output_type": "stream",
     "text": [
      "['L', 'M']\n"
     ]
    }
   ],
   "source": [
    "obtener_iniciales = lambda lista: [ n[0] for n in lista ]\n",
    "print( obtener_iniciales( lista ) )"
   ]
  },
  {
   "cell_type": "markdown",
   "metadata": {},
   "source": [
    "## Operadores ternarios"
   ]
  },
  {
   "cell_type": "markdown",
   "metadata": {},
   "source": [
    "Estos evaluan de una forma abreviada si una condición es verdadera o no."
   ]
  },
  {
   "cell_type": "markdown",
   "metadata": {},
   "source": [
    "ejemplo:"
   ]
  },
  {
   "cell_type": "code",
   "execution_count": 6,
   "metadata": {},
   "outputs": [
    {
     "name": "stdout",
     "output_type": "stream",
     "text": [
      "Es bonito\n"
     ]
    }
   ],
   "source": [
    "es_bonito = True\n",
    "estado = \"Es bonito\" if es_bonito else \"No es bonito\"\n",
    "print(estado)"
   ]
  },
  {
   "cell_type": "markdown",
   "metadata": {},
   "source": [
    "Así se realizaría en una condición:"
   ]
  },
  {
   "cell_type": "code",
   "execution_count": 7,
   "metadata": {},
   "outputs": [
    {
     "name": "stdout",
     "output_type": "stream",
     "text": [
      "Es bonito\n"
     ]
    }
   ],
   "source": [
    "es_bonito = True\n",
    "\n",
    "if es_bonito:\n",
    "    print(\"Es bonito\")\n",
    "else:\n",
    "    print(\"No es bonito\")"
   ]
  },
  {
   "cell_type": "markdown",
   "metadata": {},
   "source": [
    "En pocas palabras sería una condición simplificada, una condición en una sóla línea de código."
   ]
  },
  {
   "cell_type": "markdown",
   "metadata": {},
   "source": [
    "## Ejercicios de combinación de list comprehension, lambda y operadores ternarios"
   ]
  },
  {
   "cell_type": "markdown",
   "metadata": {},
   "source": [
    "1. A partir de una lista de nombres imprimir únicamente los nombres que empiecen por una letra\n"
   ]
  },
  {
   "cell_type": "code",
   "execution_count": 8,
   "metadata": {},
   "outputs": [
    {
     "name": "stdout",
     "output_type": "stream",
     "text": [
      "['Juliana', 'Jorge', 'Juan']\n"
     ]
    }
   ],
   "source": [
    "nombres = ['Milfer', 'Royer', 'Juliana', 'María', 'Jorge', 'Juan']\n",
    "\n",
    "#Crear una lista que almecene lo nombres con j\n",
    "nombres_con_j = [n for n in nombres if n[0].lower() == 'j']\n",
    "print(nombres_con_j)"
   ]
  },
  {
   "cell_type": "markdown",
   "metadata": {},
   "source": [
    "2. A partir de una lista de números imprimir los números pares"
   ]
  },
  {
   "cell_type": "code",
   "execution_count": null,
   "metadata": {},
   "outputs": [],
   "source": [
    "numeros = [10,15,20,25,30,35,40,45,50,55]\n",
    "\n",
    "#Lista con numeros pares\n",
    "numeros_pares =[n for n in numeros if n%2 == 0]\n",
    "print(numeros_pares)"
   ]
  },
  {
   "cell_type": "markdown",
   "metadata": {},
   "source": [
    "### Ahora veremos como añadir un else"
   ]
  },
  {
   "cell_type": "markdown",
   "metadata": {},
   "source": [
    "1. Tomando la lista anterior imprimir los en MAYUSCULA los nombres que empiezen con J"
   ]
  },
  {
   "cell_type": "code",
   "execution_count": null,
   "metadata": {},
   "outputs": [],
   "source": [
    "#El else se pone antes del for\n",
    "nombres_en_j_mayuscula = [n.upper() if n[0].lower() == 'j' else n.lower() for n in nombres ]\n",
    "print(nombres_en_j_mayuscula)\n",
    "\n",
    "#Equivale a:\n",
    "\n",
    "lista = []\n",
    "for n in nombres:\n",
    "    if n[0].lowe() == 'j':\n",
    "        lista.append(n.upper())\n",
    "    else:\n",
    "        lista.append(n.lowe())"
   ]
  }
 ],
 "metadata": {
  "kernelspec": {
   "display_name": "Python 3.8.10 64-bit",
   "language": "python",
   "name": "python3"
  },
  "language_info": {
   "codemirror_mode": {
    "name": "ipython",
    "version": 3
   },
   "file_extension": ".py",
   "mimetype": "text/x-python",
   "name": "python",
   "nbconvert_exporter": "python",
   "pygments_lexer": "ipython3",
   "version": "3.8.10"
  },
  "orig_nbformat": 4,
  "vscode": {
   "interpreter": {
    "hash": "7a96227b8776e9e8b92184c6bd2959aa06e1e0881b6901ba05538acbe1b6a7a4"
   }
  }
 },
 "nbformat": 4,
 "nbformat_minor": 2
}
