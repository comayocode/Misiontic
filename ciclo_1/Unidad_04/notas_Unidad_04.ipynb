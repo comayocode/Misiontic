{
 "cells": [
  {
   "cell_type": "markdown",
   "metadata": {},
   "source": [
    "# Para estudiar 5/jun/2022\n",
    "\n",
    "Clase sobre programación funcional: \\Desktop\\Clases Misiontic min 22:10\n",
    "\n",
    "- Programación funcional\n",
    "    - Funciones primera clase\n",
    "    - Funciones orden superior\n",
    "    - lambda\n",
    "    - reduce\n",
    "    - map"
   ]
  },
  {
   "cell_type": "markdown",
   "metadata": {},
   "source": [
    "Blogs/Páginas por revisar:\n",
    "\n",
    "- https://www.youtube.com/watch?v=USyxh-rRlvA\n",
    "- https://docs.python.org/es/3.8/howto/functional.html#grouping-elements\n",
    "- https://www.freecodecamp.org/espanol/news/expresiones-lambda-en-python/\n",
    "- https://codigofacilito.com/articulos/programacion-funcional\n",
    "- https://es.acervolima.com/funciones-de-primera-clase-en-python/"
   ]
  },
  {
   "cell_type": "markdown",
   "metadata": {},
   "source": [
    "# Programación funcional"
   ]
  },
  {
   "cell_type": "markdown",
   "metadata": {},
   "source": [
    "Es un paradigma de programación, un paradigma es una forma de pensar y hacer las cosas. En la programación fucnional se busca la optimización de código."
   ]
  },
  {
   "cell_type": "markdown",
   "metadata": {},
   "source": [
    "## Referencia de funciones"
   ]
  },
  {
   "cell_type": "markdown",
   "metadata": {},
   "source": [
    "Se trata de asignar o guardar una copia de una función en una variable, para posteriormente modificar sin afectar la función original. También se puede pasar como referencia otra referencia:."
   ]
  },
  {
   "cell_type": "code",
   "execution_count": 66,
   "metadata": {},
   "outputs": [
    {
     "name": "stdout",
     "output_type": "stream",
     "text": [
      "20\n",
      "10\n"
     ]
    }
   ],
   "source": [
    "#Función\n",
    "def sumar(n1, n2):\n",
    "    return n1+n2\n",
    "\n",
    "# Variable en la que se referencia o se guarda una copia de la función\n",
    "referencia = sumar\n",
    "\n",
    "# Se imprime la referencia y se le pasa los parámetros como si fuera una función\n",
    "print(referencia(10,10))\n",
    "\n",
    "#Parar como referencia otra referencia\n",
    "otra_referencia = referencia\n",
    "print(otra_referencia(5,5))"
   ]
  },
  {
   "cell_type": "markdown",
   "metadata": {},
   "source": [
    "## Funciones de orden superior"
   ]
  },
  {
   "cell_type": "markdown",
   "metadata": {},
   "source": [
    "Es una función que recibe como parámetros otra funciones."
   ]
  },
  {
   "cell_type": "code",
   "execution_count": 67,
   "metadata": {},
   "outputs": [
    {
     "name": "stdout",
     "output_type": "stream",
     "text": [
      "40\n"
     ]
    }
   ],
   "source": [
    "def restar(n1,n2):\n",
    "    return n1-n2\n",
    "\n",
    "def funcion_orden_superior(funcion):\n",
    "    respuesta = funcion(50,10)\n",
    "    print(respuesta)\n",
    "\n",
    "# Se para la función a la otra función\n",
    "funcion_orden_superior(restar)"
   ]
  },
  {
   "cell_type": "markdown",
   "metadata": {},
   "source": [
    "## Funciones locales"
   ]
  },
  {
   "cell_type": "markdown",
   "metadata": {},
   "source": [
    "Son funciones que internamente tienen otras funciones. Ejemplo:"
   ]
  },
  {
   "cell_type": "code",
   "execution_count": 68,
   "metadata": {},
   "outputs": [
    {
     "name": "stdout",
     "output_type": "stream",
     "text": [
      "4.35\n"
     ]
    }
   ],
   "source": [
    "def calcular_promedio(lista: list):\n",
    "    #Función local\n",
    "    def sumar(lista: list):\n",
    "        suma = 0\n",
    "        for n in lista:\n",
    "            suma += n\n",
    "        return suma\n",
    "\n",
    "    # Calcular el promedio\n",
    "    promedio = sumar(lista) / len(lista)\n",
    "    return promedio\n",
    "\n",
    "print( calcular_promedio([4.5, 3.2, 4.7, 5.0]))"
   ]
  },
  {
   "cell_type": "markdown",
   "metadata": {},
   "source": [
    "En el ejemplo anterior la función local sería `def sumar`, es una función anidada. Como es una función local no se puede llamar (la función local) afuera de la función principal, sólo se puede acceder a ella desde la función principal."
   ]
  },
  {
   "cell_type": "markdown",
   "metadata": {},
   "source": [
    "> Para poder usar una función local afuer de la función que la contiene se puede usar las referencia de funciones, es decir, retornar la referencia a la función local para posteriormente usar el valor de retorno"
   ]
  },
  {
   "cell_type": "code",
   "execution_count": 69,
   "metadata": {},
   "outputs": [
    {
     "name": "stdout",
     "output_type": "stream",
     "text": [
      "20\n"
     ]
    }
   ],
   "source": [
    "def sumas(operador: list):\n",
    "    def sumar(n1, n2):\n",
    "        return n1+n2\n",
    "    return sumar\n",
    "\n",
    "#Referencia de la función local \"sumar\"\n",
    "funcion = sumas(\"\")\n",
    "print(funcion(10,10))"
   ]
  },
  {
   "cell_type": "markdown",
   "metadata": {},
   "source": [
    "## Ejercicio para practicar con funciones locales y referencias"
   ]
  },
  {
   "cell_type": "markdown",
   "metadata": {},
   "source": [
    "Crear una función que retorne funciones para ejecutar operaciones matemáticas dependiendo del operador."
   ]
  },
  {
   "cell_type": "code",
   "execution_count": 73,
   "metadata": {},
   "outputs": [
    {
     "name": "stdout",
     "output_type": "stream",
     "text": [
      "El operador ** no es soportado\n"
     ]
    }
   ],
   "source": [
    "# Función que toma como parametro un operador artimético\n",
    "def fabrica_funciones(operador: str):\n",
    "    # Variable que pasa como referencia la respectiva operación\n",
    "    funcion = \"\"\n",
    "    #Condicional para filtrar el operador\n",
    "    if operador == \"+\":\n",
    "        #Función local\n",
    "        def sumar(n1,n2):\n",
    "            return n1 + n2\n",
    "        # Se pasa como referencia la función local para ser usada fuera de la función principal\n",
    "        funcion = sumar\n",
    "    elif operador == \"-\":\n",
    "        def restar(n1,n2):\n",
    "            return n1-n2\n",
    "        funcion = restar\n",
    "    elif operador == \"*\":\n",
    "        def multiplicar(n1,n2):\n",
    "            return n1*n2\n",
    "        funcion = multiplicar\n",
    "    # Si ningún operador es correcto FORMA #1 (else)\n",
    "    else:\n",
    "        # Creación de función local\n",
    "        def ninguno(n1, n2):\n",
    "            # Se guarda el mensaje en una variable\n",
    "            mensaje = f\"El operador {operador} no es soportado\"\n",
    "            # Se retorna la variable\n",
    "            return mensaje\n",
    "        # Se referencia la función \"ninguno\" con el mensaje de retorno\n",
    "        funcion = ninguno\n",
    "    # Se retorna la variable función con la referencia de la función local\n",
    "    return funcion\n",
    "\n",
    "# Se referencia la función principal y se pasa como parámetro un operador\n",
    "resultado=fabrica_funciones(\"**\")\n",
    "# Se imprime el resultado y se pasan los paramétros a la función local\n",
    "print(resultado(10,10))\n"
   ]
  },
  {
   "cell_type": "markdown",
   "metadata": {},
   "source": [
    "Para verifica que ningun operador es aceptado hay dos opciones: con un else y dentro del else se crea una función que retorne el mensaje"
   ]
  },
  {
   "cell_type": "code",
   "execution_count": 71,
   "metadata": {},
   "outputs": [
    {
     "ename": "SyntaxError",
     "evalue": "invalid syntax (2210639226.py, line 1)",
     "output_type": "error",
     "traceback": [
      "\u001b[1;36m  Input \u001b[1;32mIn [71]\u001b[1;36m\u001b[0m\n\u001b[1;33m    else:\u001b[0m\n\u001b[1;37m    ^\u001b[0m\n\u001b[1;31mSyntaxError\u001b[0m\u001b[1;31m:\u001b[0m invalid syntax\n"
     ]
    }
   ],
   "source": [
    "else:\n",
    "        def ninguno(n1, n2):\n",
    "            mensaje = f\"El operador {operador} no es soportado\"\n",
    "            return mensaje\n",
    "        funcion = ninguno"
   ]
  },
  {
   "cell_type": "markdown",
   "metadata": {},
   "source": [
    "O crear una función \"defecto\" al inicio de la función padre y pasarlo como parámetro"
   ]
  },
  {
   "cell_type": "code",
   "execution_count": null,
   "metadata": {},
   "outputs": [],
   "source": [
    "def ninguno(n1,n2):\n",
    "    return f\"El operador {operador} no es soportado\""
   ]
  },
  {
   "cell_type": "markdown",
   "metadata": {},
   "source": [
    "Ahora añadiremos una función de orden superior que reciba 2 funciones con diferentes operaciones. Tamamos como base el ejemplo anterior"
   ]
  },
  {
   "cell_type": "code",
   "execution_count": 101,
   "metadata": {},
   "outputs": [
    {
     "name": "stdout",
     "output_type": "stream",
     "text": [
      "Resultado de función_1: 50\n",
      "Resultado de función_2: 100\n"
     ]
    }
   ],
   "source": [
    "def fabrica_funciones(operador: str):\n",
    "    funcion = \"\"\n",
    "    if operador == \"+\":\n",
    "        def sumar(n1,n2):\n",
    "            return n1 + n2\n",
    "        funcion = sumar\n",
    "    elif operador == \"-\":\n",
    "        def restar(n1,n2):\n",
    "            return n1-n2\n",
    "        funcion = restar\n",
    "    elif operador == \"*\":\n",
    "        def multiplicar(n1,n2):\n",
    "            return n1*n2\n",
    "        funcion = multiplicar\n",
    "    else:\n",
    "        def ninguno(n1, n2):\n",
    "            return f\"El operador {operador} no es soportado\"\n",
    "        funcion = ninguno\n",
    "    return funcion\n",
    "\n",
    "#Función orden superior\n",
    "def ejecutar_operaciones(funcion_1,funcion_2):\n",
    "    #Asignación de valores\n",
    "    resultado_1 = funcion_1(30,20)\n",
    "    resultado_2 = funcion_2(10,10)\n",
    "    #Impresión de resultados\n",
    "    print (f\"Resultado de función_1: {resultado_1}\")\n",
    "    print (f\"Resultado de función_2: {resultado_2}\")\n",
    "\n",
    "#Asignación de operadores\n",
    "funcion_1 = fabrica_funciones(\"+\")\n",
    "funcion_2 = fabrica_funciones(\"*\")\n",
    "\n",
    "#Asigan los parametros\n",
    "ejecutar_operaciones(funcion_1, funcion_2)"
   ]
  },
  {
   "cell_type": "markdown",
   "metadata": {},
   "source": [
    "# Funciones anónimas (lambda)"
   ]
  },
  {
   "cell_type": "markdown",
   "metadata": {},
   "source": [
    "Es una función que no tiene nombre, por ende no se puede llamar directamente, lo que se tiene que hacer para poder llamar la función anónima es crear una variable y pasarla como referencia."
   ]
  },
  {
   "cell_type": "code",
   "execution_count": 103,
   "metadata": {},
   "outputs": [
    {
     "name": "stdout",
     "output_type": "stream",
     "text": [
      "50\n"
     ]
    }
   ],
   "source": [
    "def func_sumar():\n",
    "    return 50\n",
    "\n",
    "sumar = lambda : 50\n",
    "print(sumar())"
   ]
  },
  {
   "cell_type": "markdown",
   "metadata": {},
   "source": [
    "La función `func_sumar()` es quivalente al lambda `lambda : 50`, todo lo que está después de los dos puntos en la función lambda es lo que se va a retornar"
   ]
  },
  {
   "cell_type": "markdown",
   "metadata": {},
   "source": [
    "Para crear una función lambda que reciba parámetros:"
   ]
  },
  {
   "cell_type": "code",
   "execution_count": 105,
   "metadata": {},
   "outputs": [
    {
     "name": "stdout",
     "output_type": "stream",
     "text": [
      "30\n"
     ]
    }
   ],
   "source": [
    "def func_sumar(n1,n2):\n",
    "    return n1 + n2\n",
    "\n",
    "#Lambda pasando parámetros\n",
    "sumar = lambda n1, n2: n1+n2\n",
    "print(sumar(10,20))"
   ]
  },
  {
   "cell_type": "markdown",
   "metadata": {},
   "source": [
    "## Ejercicio práctica anterior con lambda"
   ]
  },
  {
   "cell_type": "code",
   "execution_count": 109,
   "metadata": {},
   "outputs": [
    {
     "name": "stdout",
     "output_type": "stream",
     "text": [
      "No se soporta el operador /\n"
     ]
    }
   ],
   "source": [
    "def fabricar_funcion(operador: str):\n",
    "    funcion = lambda n1,n2: f\"No se soporta el operador {operador}\"\n",
    "    if operador == \"+\":\n",
    "        funcion = lambda n1,n2: n1+n2\n",
    "    elif operador == \"-\":\n",
    "        funcion = lambda n1,n2: n1+n2\n",
    "    elif operador == \"*\":\n",
    "        funcion = lambda n1,n2: n1+n2\n",
    "    return funcion\n",
    "\n",
    "func = fabricar_funcion(\"/\")\n",
    "print(func(10,30))"
   ]
  }
 ],
 "metadata": {
  "interpreter": {
   "hash": "dd5b2693a84d0c8290bdbefedc4c1333bd0ae1351e4e5e2274916304a4fbdf23"
  },
  "kernelspec": {
   "display_name": "Python 3.9.5 64-bit",
   "language": "python",
   "name": "python3"
  },
  "language_info": {
   "codemirror_mode": {
    "name": "ipython",
    "version": 3
   },
   "file_extension": ".py",
   "mimetype": "text/x-python",
   "name": "python",
   "nbconvert_exporter": "python",
   "pygments_lexer": "ipython3",
   "version": "3.9.5"
  },
  "orig_nbformat": 4
 },
 "nbformat": 4,
 "nbformat_minor": 2
}
