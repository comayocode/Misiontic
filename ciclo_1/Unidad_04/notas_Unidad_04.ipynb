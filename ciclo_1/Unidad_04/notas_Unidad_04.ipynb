{
 "cells": [
  {
   "cell_type": "markdown",
   "metadata": {},
   "source": [
    "# Conversión entre contenedores\n",
    "\n"
   ]
  },
  {
   "cell_type": "markdown",
   "metadata": {},
   "source": [
    "## Resmen de los contenedores"
   ]
  },
  {
   "cell_type": "code",
   "execution_count": 24,
   "metadata": {},
   "outputs": [],
   "source": [
    "Cadenas = \"hola\"\n",
    "Listas = [\"h\", \"o\", \"l\", \"a\"]\n",
    "Tuplas = (\"h\", \"o\", \"l\", \"a\")\n",
    "Diccionarios = {0: \"h\", 1: \"o\", 2: \"l\", 3: \"a\"}\n",
    "Conjuntos = {\"h\", \"o\", \"l\", \"a\"}"
   ]
  },
  {
   "cell_type": "markdown",
   "metadata": {},
   "source": [
    "## Conversiones"
   ]
  },
  {
   "cell_type": "code",
   "execution_count": null,
   "metadata": {},
   "outputs": [],
   "source": [
    "\"\".join() #Convertir a cadena\n",
    "tuple() #Convertir a tupla\n",
    "list() #Converir a lista\n",
    "set() #Convertir a conjunto"
   ]
  },
  {
   "cell_type": "code",
   "execution_count": null,
   "metadata": {},
   "outputs": [
    {
     "name": "stdout",
     "output_type": "stream",
     "text": [
      "hola\n",
      "('h', 'o', 'l', 'a')\n",
      "['h', 'o', 'l', 'a']\n",
      "{'o', 'h', 'a', 'l'}\n"
     ]
    }
   ],
   "source": [
    "\n",
    "cadena = \"\".join(Listas)\n",
    "print(cadena)\n",
    "\n",
    "tupla = tuple(Cadenas)\n",
    "print(tupla)\n",
    "\n",
    "lista = list(Cadenas)\n",
    "print(lista)\n",
    "\n",
    "conjunto = set(Cadenas)\n",
    "print(conjunto)"
   ]
  },
  {
   "cell_type": "markdown",
   "metadata": {},
   "source": [
    "### Conversión a diccionarios\n",
    "\n",
    "Debido a que los diccionarios tienen índices y valores su conversión es diferente:"
   ]
  },
  {
   "cell_type": "code",
   "execution_count": null,
   "metadata": {},
   "outputs": [
    {
     "name": "stdout",
     "output_type": "stream",
     "text": [
      "{0: 'H', 1: 'o', 2: 'l', 3: 'a'}\n"
     ]
    }
   ],
   "source": [
    "cadena = \"Hola\"\n",
    "diccionario = dict(zip(range(len(cadena)), cadena))\n",
    "print(diccionario)"
   ]
  },
  {
   "cell_type": "markdown",
   "metadata": {},
   "source": [
    "De esa misma manera se convierten las listas, tuplas y conjuntos a diccionarios, simplemente se le pasa el conjunto al diccionario como se ve  en el ejemplo anterior."
   ]
  },
  {
   "cell_type": "markdown",
   "metadata": {},
   "source": [
    "### Conversiones desde diccionarios\n",
    "\n",
    "Convertir un diccionario a cadena, lista, tupla o conjunto:"
   ]
  },
  {
   "cell_type": "markdown",
   "metadata": {},
   "source": [
    "Diccionario a cadena:"
   ]
  },
  {
   "cell_type": "code",
   "execution_count": null,
   "metadata": {},
   "outputs": [
    {
     "name": "stdout",
     "output_type": "stream",
     "text": [
      "Hola\n"
     ]
    }
   ],
   "source": [
    "diccionario = {0: 'H', 1: 'o', 2: 'l', 3: 'a'}\n"
   ]
  },
  {
   "cell_type": "markdown",
   "metadata": {},
   "source": [
    "Para pasar los valores, items o los dos a la vez:\n",
    "\n",
    "En `tuple` va el contenedor al que se quiere convertir el diccionario."
   ]
  },
  {
   "cell_type": "code",
   "execution_count": null,
   "metadata": {},
   "outputs": [],
   "source": [
    "tuple(contenedor_convertido.keys()) #Obtener keys\n",
    "tuple(contenedor_convertido.values()) #Obtener values\n",
    "tuple(contenedor_convertido.items()) #Obtener los dos"
   ]
  },
  {
   "cell_type": "markdown",
   "metadata": {},
   "source": [
    "Para ser prácticos solo usaremos .values()"
   ]
  },
  {
   "cell_type": "code",
   "execution_count": null,
   "metadata": {},
   "outputs": [
    {
     "name": "stdout",
     "output_type": "stream",
     "text": [
      "Cadena: Hola\n",
      "Tupla: ('H', 'o', 'l', 'a')\n",
      "Lista: ['H', 'o', 'l', 'a']\n",
      "Conjunto: {'o', 'H', 'l', 'a'}\n"
     ]
    }
   ],
   "source": [
    "diccionario = {0: 'H', 1: 'o', 2: 'l', 3: 'a'}\n",
    "\n",
    "#Convertir a cadena\n",
    "cadena = \"\".join(diccionario.values()) #Guarar sólo los valores\n",
    "print(\"Cadena:\", cadena)\n",
    "\n",
    "#Convertir a tuplas\n",
    "tupla = tuple(diccionario.values()) #Guarar sólo los valores\n",
    "print(\"Tupla:\",tupla)\n",
    "\n",
    "#Convertir a listas\n",
    "lista = list(diccionario.values()) #Guarar sólo los valores\n",
    "print(\"Lista:\",lista)\n",
    "\n",
    "#Convertir a conjunto\n",
    "conjunto = set(diccionario.values()) #Guarar sólo los valores\n",
    "print(\"Conjunto:\",conjunto)\n",
    "\n"
   ]
  },
  {
   "cell_type": "markdown",
   "metadata": {},
   "source": [
    "# Programación funcional"
   ]
  },
  {
   "cell_type": "markdown",
   "metadata": {},
   "source": [
    "Es un paradigma de programación, un paradigma es una forma de pensar y hacer las cosas. En la programación fucnional se busca la optimización de código."
   ]
  },
  {
   "cell_type": "markdown",
   "metadata": {},
   "source": [
    "## Referencia de funciones"
   ]
  },
  {
   "cell_type": "markdown",
   "metadata": {},
   "source": [
    "Se trata de asignar o guardar una copia de una función en una variable, para posteriormente modificar sin afectar la función original. También se puede pasar como referencia otra referencia:."
   ]
  },
  {
   "cell_type": "code",
   "execution_count": null,
   "metadata": {},
   "outputs": [],
   "source": [
    "#Función\n",
    "def sumar(n1, n2):\n",
    "    return n1+n2\n",
    "\n",
    "# Variable en la que se referencia o se guarda una copia de la función\n",
    "referencia = sumar\n",
    "\n",
    "# Se imprime la referencia y se le pasa los parámetros como si fuera una función\n",
    "print(referencia(10,10))\n",
    "\n",
    "#Parar como referencia otra referencia\n",
    "otra_referencia = referencia\n",
    "print(otra_referencia(5,5))"
   ]
  },
  {
   "cell_type": "markdown",
   "metadata": {},
   "source": [
    "## Funciones de orden superior"
   ]
  },
  {
   "cell_type": "markdown",
   "metadata": {},
   "source": [
    "Es una función que recibe como parámetros otra funciones."
   ]
  },
  {
   "cell_type": "code",
   "execution_count": null,
   "metadata": {},
   "outputs": [],
   "source": [
    "def restar(n1,n2):\n",
    "    return n1-n2\n",
    "\n",
    "def funcion_orden_superior(funcion):\n",
    "    respuesta = funcion(50,10)\n",
    "    print(respuesta)\n",
    "\n",
    "# Se para la función a la otra función\n",
    "funcion_orden_superior(restar)"
   ]
  },
  {
   "cell_type": "markdown",
   "metadata": {},
   "source": [
    "## Funciones locales"
   ]
  },
  {
   "cell_type": "markdown",
   "metadata": {},
   "source": [
    "Son funciones que internamente tienen otras funciones. Ejemplo:"
   ]
  },
  {
   "cell_type": "code",
   "execution_count": null,
   "metadata": {},
   "outputs": [],
   "source": [
    "def calcular_promedio(lista: list):\n",
    "    #Función local\n",
    "    def sumar(lista: list):\n",
    "        suma = 0\n",
    "        for n in lista:\n",
    "            suma += n\n",
    "        return suma\n",
    "\n",
    "    # Calcular el promedio\n",
    "    promedio = sumar(lista) / len(lista)\n",
    "    return promedio\n",
    "\n",
    "print( calcular_promedio([4.5, 3.2, 4.7, 5.0]))"
   ]
  },
  {
   "cell_type": "markdown",
   "metadata": {},
   "source": [
    "En el ejemplo anterior la función local sería `def sumar`, es una función anidada. Como es una función local no se puede llamar (la función local) afuera de la función principal, sólo se puede acceder a ella desde la función principal."
   ]
  },
  {
   "cell_type": "markdown",
   "metadata": {},
   "source": [
    "> Para poder usar una función local afuer de la función que la contiene se puede usar las referencia de funciones, es decir, retornar la referencia a la función local para posteriormente usar el valor de retorno"
   ]
  },
  {
   "cell_type": "code",
   "execution_count": null,
   "metadata": {},
   "outputs": [],
   "source": [
    "def sumas(operador: list):\n",
    "    def sumar(n1, n2):\n",
    "        return n1+n2\n",
    "    return sumar\n",
    "\n",
    "#Referencia de la función local \"sumar\"\n",
    "funcion = sumas(\"\")\n",
    "print(funcion(10,10))"
   ]
  },
  {
   "cell_type": "markdown",
   "metadata": {},
   "source": [
    "## Ejercicio para practicar con funciones locales y referencias"
   ]
  },
  {
   "cell_type": "markdown",
   "metadata": {},
   "source": [
    "Crear una función que retorne funciones para ejecutar operaciones matemáticas dependiendo del operador."
   ]
  },
  {
   "cell_type": "code",
   "execution_count": null,
   "metadata": {},
   "outputs": [],
   "source": [
    "# Función que toma como parametro un operador artimético\n",
    "def fabrica_funciones(operador: str):\n",
    "    # Variable que pasa como referencia la respectiva operación\n",
    "    funcion = \"\"\n",
    "    #Condicional para filtrar el operador\n",
    "    if operador == \"+\":\n",
    "        #Función local\n",
    "        def sumar(n1,n2):\n",
    "            return n1 + n2\n",
    "        # Se pasa como referencia la función local para ser usada fuera de la función principal\n",
    "        funcion = sumar\n",
    "    elif operador == \"-\":\n",
    "        def restar(n1,n2):\n",
    "            return n1-n2\n",
    "        funcion = restar\n",
    "    elif operador == \"*\":\n",
    "        def multiplicar(n1,n2):\n",
    "            return n1*n2\n",
    "        funcion = multiplicar\n",
    "    # Si ningún operador es correcto FORMA #1 (else)\n",
    "    else:\n",
    "        # Creación de función local\n",
    "        def ninguno(n1, n2):\n",
    "            # Se guarda el mensaje en una variable\n",
    "            mensaje = f\"El operador {operador} no es soportado\"\n",
    "            # Se retorna la variable\n",
    "            return mensaje\n",
    "        # Se referencia la función \"ninguno\" con el mensaje de retorno\n",
    "        funcion = ninguno\n",
    "    # Se retorna la variable función con la referencia de la función local\n",
    "    return funcion\n",
    "\n",
    "# Se referencia la función principal y se pasa como parámetro un operador\n",
    "resultado=fabrica_funciones(\"**\")\n",
    "# Se imprime el resultado y se pasan los paramétros a la función local\n",
    "print(resultado(10,10))"
   ]
  },
  {
   "cell_type": "markdown",
   "metadata": {},
   "source": [
    "Para verifica que ningun operador es aceptado hay dos opciones: con un else y dentro del else se crea una función que retorne el mensaje"
   ]
  },
  {
   "cell_type": "code",
   "execution_count": null,
   "metadata": {},
   "outputs": [],
   "source": [
    "else:\n",
    "        def ninguno(n1, n2):\n",
    "            mensaje = f\"El operador {operador} no es soportado\"\n",
    "            return mensaje\n",
    "        funcion = ninguno"
   ]
  },
  {
   "cell_type": "markdown",
   "metadata": {},
   "source": [
    "O crear una función \"defecto\" al inicio de la función padre y pasarlo como parámetro"
   ]
  },
  {
   "cell_type": "code",
   "execution_count": null,
   "metadata": {},
   "outputs": [],
   "source": [
    "def ninguno(n1,n2):\n",
    "    return f\"El operador {operador} no es soportado\""
   ]
  },
  {
   "cell_type": "markdown",
   "metadata": {},
   "source": [
    "Ahora añadiremos una función de orden superior que reciba 2 funciones con diferentes operaciones. Tamamos como base el ejemplo anterior"
   ]
  },
  {
   "cell_type": "code",
   "execution_count": 28,
   "metadata": {},
   "outputs": [
    {
     "name": "stdout",
     "output_type": "stream",
     "text": [
      "Resultado de función_1: 50\n",
      "Resultado de función_2: 100\n"
     ]
    }
   ],
   "source": [
    "def fabrica_funciones(operador: str):\n",
    "    funcion = \"\"\n",
    "    if operador == \"+\":\n",
    "        def sumar(n1,n2):\n",
    "            return n1 + n2\n",
    "        funcion = sumar\n",
    "    elif operador == \"-\":\n",
    "        def restar(n1,n2):\n",
    "            return n1-n2\n",
    "        funcion = restar\n",
    "    elif operador == \"*\":\n",
    "        def multiplicar(n1,n2):\n",
    "            return n1*n2\n",
    "        funcion = multiplicar\n",
    "    else:\n",
    "        def ninguno(n1, n2):\n",
    "            return f\"El operador {operador} no es soportado\"\n",
    "        funcion = ninguno\n",
    "    return funcion\n",
    "\n",
    "#Función orden superior\n",
    "def ejecutar_operaciones(funcion_1,funcion_2):\n",
    "    #Asignación de valores\n",
    "    resultado_1 = funcion_1(30,20)\n",
    "    resultado_2 = funcion_2(10,10)\n",
    "    #Impresión de resultados\n",
    "    print (f\"Resultado de función_1: {resultado_1}\")\n",
    "    print (f\"Resultado de función_2: {resultado_2}\")\n",
    "\n",
    "#Asignación de operadores\n",
    "funcion_1 = fabrica_funciones(\"+\")\n",
    "funcion_2 = fabrica_funciones(\"*\")\n",
    "\n",
    "#Asigan los parametros\n",
    "ejecutar_operaciones(funcion_1, funcion_2)"
   ]
  },
  {
   "cell_type": "markdown",
   "metadata": {},
   "source": [
    "## Funciones anónimas (lambda)"
   ]
  },
  {
   "cell_type": "markdown",
   "metadata": {},
   "source": [
    "Es una función que no tiene nombre, por ende no se puede llamar directamente, lo que se tiene que hacer para poder llamar la función anónima es crear una variable y pasarla como referencia."
   ]
  },
  {
   "cell_type": "code",
   "execution_count": null,
   "metadata": {},
   "outputs": [],
   "source": [
    "def func_sumar():\n",
    "    return 50\n",
    "\n",
    "sumar = lambda : 50\n",
    "print(sumar())"
   ]
  },
  {
   "cell_type": "markdown",
   "metadata": {},
   "source": [
    "La función `func_sumar()` es quivalente al lambda `lambda : 50`, todo lo que está después de los dos puntos en la función lambda es lo que se va a retornar"
   ]
  },
  {
   "cell_type": "markdown",
   "metadata": {},
   "source": [
    "Para crear una función lambda que reciba parámetros:"
   ]
  },
  {
   "cell_type": "code",
   "execution_count": 27,
   "metadata": {},
   "outputs": [
    {
     "name": "stdout",
     "output_type": "stream",
     "text": [
      "30\n"
     ]
    }
   ],
   "source": [
    "def func_sumar(n1,n2):\n",
    "    return n1 + n2\n",
    "\n",
    "#Lambda pasando parámetros\n",
    "sumar = lambda n1, n2: n1+n2\n",
    "print(sumar(10,20))"
   ]
  },
  {
   "cell_type": "markdown",
   "metadata": {},
   "source": [
    "### Ejercicio práctica anterior con lambda"
   ]
  },
  {
   "cell_type": "code",
   "execution_count": 26,
   "metadata": {},
   "outputs": [
    {
     "name": "stdout",
     "output_type": "stream",
     "text": [
      "No se soporta el operador /\n"
     ]
    }
   ],
   "source": [
    "def fabricar_funcion(operador: str):\n",
    "    funcion = lambda n1,n2: f\"No se soporta el operador {operador}\"\n",
    "    if operador == \"+\":\n",
    "        funcion = lambda n1,n2: n1+n2\n",
    "    elif operador == \"-\":\n",
    "        funcion = lambda n1,n2: n1+n2\n",
    "    elif operador == \"*\":\n",
    "        funcion = lambda n1,n2: n1+n2\n",
    "    return funcion\n",
    "\n",
    "func = fabricar_funcion(\"/\")\n",
    "print(func(10,30))"
   ]
  },
  {
   "cell_type": "markdown",
   "metadata": {},
   "source": [
    "Temas:\n",
    "- Funciones primera clase\n",
    "- Funciones orden superior\n",
    "- lambda\n",
    "- reduce\n",
    "- map"
   ]
  },
  {
   "cell_type": "markdown",
   "metadata": {},
   "source": [
    "Fuentes/Contenido externo\n",
    "\n",
    "- https://www.youtube.com/watch?v=USyxh-rRlvA\n",
    "- https://docs.python.org/es/3.8/howto/functional.html#grouping-elements\n",
    "- https://www.freecodecamp.org/espanol/news/expresiones-lambda-en-python/\n",
    "- https://codigofacilito.com/articulos/programacion-funcional\n",
    "- https://es.acervolima.com/funciones-de-primera-clase-en-python/"
   ]
  },
  {
   "cell_type": "markdown",
   "metadata": {},
   "source": [
    "# "
   ]
  }
 ],
 "metadata": {
  "kernelspec": {
   "display_name": "Python 3.8.10 64-bit",
   "language": "python",
   "name": "python3"
  },
  "language_info": {
   "codemirror_mode": {
    "name": "ipython",
    "version": 3
   },
   "file_extension": ".py",
   "mimetype": "text/x-python",
   "name": "python",
   "nbconvert_exporter": "python",
   "pygments_lexer": "ipython3",
   "version": "3.8.10"
  },
  "orig_nbformat": 4,
  "vscode": {
   "interpreter": {
    "hash": "7a96227b8776e9e8b92184c6bd2959aa06e1e0881b6901ba05538acbe1b6a7a4"
   }
  }
 },
 "nbformat": 4,
 "nbformat_minor": 2
}
