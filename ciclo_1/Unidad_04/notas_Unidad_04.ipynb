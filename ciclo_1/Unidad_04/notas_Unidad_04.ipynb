{
 "cells": [
  {
   "cell_type": "markdown",
   "metadata": {},
   "source": [
    "# Para estudiar 5/jun/2022\n",
    "\n",
    "Clase sobre programación funcional: \\Desktop\\Clases Misiontic min 22:10\n",
    "\n",
    "- Programación funcional\n",
    "    - Funciones primera clase\n",
    "    - Funciones orden superior\n",
    "    - lambda\n",
    "    - reduce\n",
    "    - map"
   ]
  },
  {
   "cell_type": "markdown",
   "metadata": {},
   "source": []
  },
  {
   "cell_type": "markdown",
   "metadata": {},
   "source": []
  }
 ],
 "metadata": {
  "language_info": {
   "name": "python"
  },
  "orig_nbformat": 4
 },
 "nbformat": 4,
 "nbformat_minor": 2
}
