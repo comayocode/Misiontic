{
 "cells": [
  {
   "cell_type": "markdown",
   "metadata": {},
   "source": [
    "# Conversión entre contenedores\n",
    "\n"
   ]
  },
  {
   "cell_type": "markdown",
   "metadata": {},
   "source": [
    "## Resmen de los contenedores"
   ]
  },
  {
   "cell_type": "code",
   "execution_count": 14,
   "metadata": {},
   "outputs": [],
   "source": [
    "Cadenas = \"hola\"\n",
    "Listas = [\"h\", \"o\", \"l\", \"a\"]\n",
    "Tuplas = (\"h\", \"o\", \"l\", \"a\")\n",
    "Diccionarios = {0: \"h\", 1: \"o\", 2: \"l\", 3: \"a\"}\n",
    "Conjuntos = {\"h\", \"o\", \"l\", \"a\"}"
   ]
  },
  {
   "cell_type": "markdown",
   "metadata": {},
   "source": [
    "## Conversiónes"
   ]
  },
  {
   "cell_type": "code",
   "execution_count": null,
   "metadata": {},
   "outputs": [],
   "source": [
    "\"\".join() #Convertir a cadena\n",
    "tuple() #Convertir a tupla\n",
    "list() #Converir a lista\n",
    "set() #Convertir a conjunto"
   ]
  },
  {
   "cell_type": "markdown",
   "metadata": {},
   "source": [
    "### Conversión a diccionarios\n",
    "\n",
    "Debido a que los diccionarios tienen índices y valores su conversión es diferente:"
   ]
  },
  {
   "cell_type": "code",
   "execution_count": null,
   "metadata": {},
   "outputs": [
    {
     "name": "stdout",
     "output_type": "stream",
     "text": [
      "{0: 'H', 1: 'o', 2: 'l', 3: 'a'}\n"
     ]
    }
   ],
   "source": [
    "cadena = \"Hola\"\n",
    "diccionario = dict(zip(range(len(cadena)), cadena))\n",
    "print(diccionario)"
   ]
  },
  {
   "cell_type": "markdown",
   "metadata": {},
   "source": [
    "De esa misma manera se convierten las listas, tuplas y conjuntos a diccionarios, simplemente se le pasa el conjunto al diccionario como se ve  en el ejemplo anterior."
   ]
  },
  {
   "cell_type": "markdown",
   "metadata": {},
   "source": [
    "### Conversiones desde diccionarios\n",
    "\n",
    "Convertir un diccionario a cadena, lista, tupla o conjunto:"
   ]
  },
  {
   "cell_type": "markdown",
   "metadata": {},
   "source": [
    "Diccionario a cadena:"
   ]
  },
  {
   "cell_type": "code",
   "execution_count": null,
   "metadata": {},
   "outputs": [
    {
     "name": "stdout",
     "output_type": "stream",
     "text": [
      "Hola\n"
     ]
    }
   ],
   "source": [
    "diccionario = {0: 'H', 1: 'o', 2: 'l', 3: 'a'}\n"
   ]
  },
  {
   "cell_type": "markdown",
   "metadata": {},
   "source": [
    "Para pasar los valores, items o los dos a la vez:\n",
    "\n",
    "En `tuple` va el contenedor al que se quiere convertir el diccionario."
   ]
  },
  {
   "cell_type": "code",
   "execution_count": null,
   "metadata": {},
   "outputs": [],
   "source": [
    "tuple(contenedor_convertido.keys()) #Obtener keys\n",
    "tuple(contenedor_convertido.values()) #Obtener values\n",
    "tuple(contenedor_convertido.items()) #Obtener los dos"
   ]
  },
  {
   "cell_type": "markdown",
   "metadata": {},
   "source": [
    "Para ser prácticos solo usaremos .values()"
   ]
  },
  {
   "cell_type": "code",
   "execution_count": null,
   "metadata": {},
   "outputs": [
    {
     "name": "stdout",
     "output_type": "stream",
     "text": [
      "Cadena: Hola\n",
      "Tupla: ('H', 'o', 'l', 'a')\n",
      "Lista: ['H', 'o', 'l', 'a']\n",
      "Conjunto: {'o', 'H', 'l', 'a'}\n"
     ]
    }
   ],
   "source": [
    "diccionario = {0: 'H', 1: 'o', 2: 'l', 3: 'a'}\n",
    "\n",
    "#Convertir a cadena\n",
    "cadena = \"\".join(diccionario.values()) #Guarar sólo los valores\n",
    "print(\"Cadena:\", cadena)\n",
    "\n",
    "#Convertir a tuplas\n",
    "tupla = tuple(diccionario.values()) #Guarar sólo los valores\n",
    "print(\"Tupla:\",tupla)\n",
    "\n",
    "#Convertir a listas\n",
    "lista = list(diccionario.values()) #Guarar sólo los valores\n",
    "print(\"Lista:\",lista)\n",
    "\n",
    "#Convertir a conjunto\n",
    "conjunto = set(diccionario.values()) #Guarar sólo los valores\n",
    "print(\"Conjunto:\",conjunto)\n",
    "\n"
   ]
  }
 ],
 "metadata": {
  "kernelspec": {
   "display_name": "Python 3.8.10 64-bit",
   "language": "python",
   "name": "python3"
  },
  "language_info": {
   "codemirror_mode": {
    "name": "ipython",
    "version": 3
   },
   "file_extension": ".py",
   "mimetype": "text/x-python",
   "name": "python",
   "nbconvert_exporter": "python",
   "pygments_lexer": "ipython3",
   "version": "3.8.10"
  },
  "orig_nbformat": 4,
  "vscode": {
   "interpreter": {
    "hash": "7a96227b8776e9e8b92184c6bd2959aa06e1e0881b6901ba05538acbe1b6a7a4"
   }
  }
 },
 "nbformat": 4,
 "nbformat_minor": 2
}
