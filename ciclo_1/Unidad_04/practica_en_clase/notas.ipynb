{
 "cells": [
  {
   "cell_type": "markdown",
   "metadata": {},
   "source": [
    "## Funciones orden superior"
   ]
  },
  {
   "cell_type": "markdown",
   "metadata": {},
   "source": [
    "### Función para sumar"
   ]
  },
  {
   "cell_type": "code",
   "execution_count": 2,
   "metadata": {},
   "outputs": [],
   "source": [
    "def sumar(n1,n2):\n",
    "    return n1+n2"
   ]
  },
  {
   "cell_type": "markdown",
   "metadata": {},
   "source": [
    "### Función pasando parámetros"
   ]
  },
  {
   "cell_type": "code",
   "execution_count": 3,
   "metadata": {},
   "outputs": [],
   "source": [
    "def funcion_orden_superior(funcion):\n",
    "    respuesta = funcion(20,20)\n",
    "    print(respuesta)"
   ]
  },
  {
   "cell_type": "markdown",
   "metadata": {},
   "source": [
    "### llamar una función dentro de otra función"
   ]
  },
  {
   "cell_type": "code",
   "execution_count": 4,
   "metadata": {},
   "outputs": [
    {
     "name": "stdout",
     "output_type": "stream",
     "text": [
      "40\n"
     ]
    }
   ],
   "source": [
    "funcion_orden_superior(sumar)"
   ]
  },
  {
   "cell_type": "markdown",
   "metadata": {},
   "source": [
    "## Funciones locales"
   ]
  },
  {
   "cell_type": "markdown",
   "metadata": {},
   "source": [
    "En pocas palabra una función local es una función anidada que sólo funciona dentro de la función en la que esté."
   ]
  },
  {
   "cell_type": "markdown",
   "metadata": {},
   "source": [
    "La función local (`función anidada \"def sumar\"`) no se puede llamar desde afuera de la función \"`calcular_promedio`\", sólo se puede llamar dentro de la función \"`calcular_promedio`\", aunque hay un truco que si permite hacerlo."
   ]
  },
  {
   "cell_type": "code",
   "execution_count": 5,
   "metadata": {},
   "outputs": [
    {
     "name": "stdout",
     "output_type": "stream",
     "text": [
      "6.5\n"
     ]
    }
   ],
   "source": [
    "def calcular_promedio(lista: list):\n",
    "    #Función local\n",
    "    def sumar(lista: list):\n",
    "        suma = 0\n",
    "        for n in lista:\n",
    "            suma += n\n",
    "        return suma\n",
    "    #Calcular promedio\n",
    "    promedio = sumar(lista) / len(lista)\n",
    "    return promedio\n",
    "\n",
    "print(calcular_promedio([4,5,9,8]))"
   ]
  },
  {
   "cell_type": "markdown",
   "metadata": {},
   "source": [
    "## Fábrica de funciones"
   ]
  },
  {
   "cell_type": "markdown",
   "metadata": {},
   "source": [
    "Función fabrique funciones para hacer operaciones matemáticas"
   ]
  },
  {
   "cell_type": "code",
   "execution_count": 6,
   "metadata": {},
   "outputs": [],
   "source": [
    "def fabrica_funcion(operador:str):\n",
    "    def sumar(n1,n2):\n",
    "        return n1+n2\n",
    "    return sumar"
   ]
  },
  {
   "cell_type": "markdown",
   "metadata": {},
   "source": [
    "Las funciones locales si se pueden llamar desde afuera con la referencia de funciones. Al retornar la función local `sumar` y de nuevo retornar el return de esa función local, se puede manipular fuera de la función fabrica_funcion"
   ]
  },
  {
   "cell_type": "code",
   "execution_count": 7,
   "metadata": {},
   "outputs": [
    {
     "name": "stdout",
     "output_type": "stream",
     "text": [
      "20\n"
     ]
    }
   ],
   "source": [
    "funcion = fabrica_funcion('')\n",
    "print(funcion(10,10))"
   ]
  },
  {
   "cell_type": "markdown",
   "metadata": {},
   "source": [
    "Ahora vamos a hacer las demas operaciones en la funciones locales"
   ]
  },
  {
   "cell_type": "code",
   "execution_count": 8,
   "metadata": {},
   "outputs": [],
   "source": [
    "def fabrica_funcion(operador:str):\n",
    "    funcion = ''\n",
    "    if operador == '+':\n",
    "        def sumar(n1,n2):\n",
    "            return n1+n2\n",
    "        funcion = sumar\n",
    "    elif operador == '-':\n",
    "        def resta(n1,n2):\n",
    "            return n1-n2\n",
    "        funcion = sumar\n",
    "    elif operador == '*':\n",
    "        def multiplicar(n1,n2):\n",
    "            return n1*n2\n",
    "        funcion = multiplicar\n",
    "    elif operador == '/':\n",
    "        def division(n1,n2):\n",
    "            return n1/n2\n",
    "        funcion = division\n",
    "    return funcion"
   ]
  },
  {
   "cell_type": "markdown",
   "metadata": {},
   "source": [
    "Pasar el operador en ('')"
   ]
  },
  {
   "cell_type": "code",
   "execution_count": 9,
   "metadata": {},
   "outputs": [
    {
     "ename": "TypeError",
     "evalue": "'str' object is not callable",
     "output_type": "error",
     "traceback": [
      "\u001b[1;31m---------------------------------------------------------------------------\u001b[0m",
      "\u001b[1;31mTypeError\u001b[0m                                 Traceback (most recent call last)",
      "\u001b[1;32mc:\\Users\\ronal\\Desktop\\Misiontic2022\\ciclo_1\\Unidad_04\\programación_funcional\\notas.ipynb Cell 20'\u001b[0m in \u001b[0;36m<cell line: 2>\u001b[1;34m()\u001b[0m\n\u001b[0;32m      <a href='vscode-notebook-cell:/c%3A/Users/ronal/Desktop/Misiontic2022/ciclo_1/Unidad_04/programaci%C3%B3n_funcional/notas.ipynb#ch0000019?line=0'>1</a>\u001b[0m funcion \u001b[39m=\u001b[39m fabrica_funcion(\u001b[39m'\u001b[39m\u001b[39m**\u001b[39m\u001b[39m'\u001b[39m)\n\u001b[1;32m----> <a href='vscode-notebook-cell:/c%3A/Users/ronal/Desktop/Misiontic2022/ciclo_1/Unidad_04/programaci%C3%B3n_funcional/notas.ipynb#ch0000019?line=1'>2</a>\u001b[0m \u001b[39mprint\u001b[39m(funcion(\u001b[39m10\u001b[39;49m,\u001b[39m10\u001b[39;49m))\n",
      "\u001b[1;31mTypeError\u001b[0m: 'str' object is not callable"
     ]
    }
   ],
   "source": [
    "funcion = fabrica_funcion('**')\n",
    "print(funcion(10,10))"
   ]
  },
  {
   "cell_type": "markdown",
   "metadata": {},
   "source": [
    "Por el momento funciona correctamente el ejercicio, pero si se pasa un operador que no sea (+, -, *, /) va a generar un error. Lo lógico sería hacer un else con un print(\"No se encuentra ese operador\") o algo parecido, pero va a seguir generando error ya que se espera que se espera que `fabrica_funcion` retorne una función."
   ]
  },
  {
   "cell_type": "markdown",
   "metadata": {},
   "source": [
    "Entonces se tendría que crear un else con una función para retornar"
   ]
  },
  {
   "cell_type": "code",
   "execution_count": null,
   "metadata": {},
   "outputs": [
    {
     "name": "stdout",
     "output_type": "stream",
     "text": [
      "La operacion no existe para 10 ** 10\n"
     ]
    }
   ],
   "source": [
    "def fabrica_funcion(operador:str):\n",
    "    funcion = ''\n",
    "    if operador == '+':\n",
    "        def sumar(n1,n2):\n",
    "            return n1+n2\n",
    "        funcion = sumar\n",
    "    elif operador == '-':\n",
    "        def resta(n1,n2):\n",
    "            return n1-n2\n",
    "        funcion = sumar\n",
    "    elif operador == '*':\n",
    "        def multiplicar(n1,n2):\n",
    "            return n1*n2\n",
    "        funcion = multiplicar\n",
    "    elif operador == '/':\n",
    "        def division(n1,n2):\n",
    "            return n1/n2\n",
    "        funcion = division\n",
    "    else:\n",
    "        def default(n1,n2):\n",
    "            return f\"La operacion no existe para {n1} {operador} {n2}\"\n",
    "        funcion = default\n",
    "    return funcion\n",
    "\n",
    "funcion = fabrica_funcion('**')\n",
    "print(funcion(10,10))"
   ]
  },
  {
   "cell_type": "markdown",
   "metadata": {},
   "source": [
    "## Funcion de orden superior que reciba 2 funciones (Hacer repaso)"
   ]
  },
  {
   "cell_type": "markdown",
   "metadata": {},
   "source": [
    "Función que necesite 2 parametros, esos parámetros deben ser los operadores que se quieren usar"
   ]
  },
  {
   "cell_type": "code",
   "execution_count": null,
   "metadata": {},
   "outputs": [
    {
     "name": "stdout",
     "output_type": "stream",
     "text": [
      "Resultado función_1: 50\n",
      "Resultado función_2: La operacion no existe para 10 ** 10\n"
     ]
    }
   ],
   "source": [
    "def ejecutar_operaciones (funcion_1, funcion_2):\n",
    "    #Ejecutar el proceso\n",
    "    resultado_1 = funcion_1(10, 40)\n",
    "    resultado_2 = funcion_2(10, 10)\n",
    "    print( f\"Resultado función_1: {resultado_1}\" )\n",
    "    print( f\"Resultado función_2: {resultado_2}\" )\n",
    "\n",
    "#Fabricar funciones\n",
    "funcion_1 = fabrica_funcion('+')\n",
    "funcion_2 = fabrica_funcion('**')\n",
    "ejecutar_operaciones(funcion_1, funcion_2)"
   ]
  },
  {
   "cell_type": "markdown",
   "metadata": {},
   "source": [
    "funcion_1= fabrica_funcion('+')\n",
    "funcion_2= fabrica_funcion('**')"
   ]
  },
  {
   "cell_type": "markdown",
   "metadata": {},
   "source": [
    "### Pasar números que se desee\n"
   ]
  },
  {
   "cell_type": "code",
   "execution_count": null,
   "metadata": {},
   "outputs": [
    {
     "name": "stderr",
     "output_type": "stream",
     "text": [
      "\n",
      "KeyboardInterrupt\n",
      "\n"
     ]
    }
   ],
   "source": [
    "\n",
    "\n",
    "def solicitar_operacion():\n",
    "    operador_1 = input(\"Ingrese la operación a crear\")\n",
    "    funcion_1 = fabrica_funcion(operador_1)\n",
    "    ejecutar_operaciones(funcion_1)\n",
    "solicitar_operacion()"
   ]
  },
  {
   "cell_type": "markdown",
   "metadata": {},
   "source": [
    "## Funciones anónimas"
   ]
  },
  {
   "cell_type": "markdown",
   "metadata": {},
   "source": [
    "Función que no tiene un nombre, como no tiene nombre se puede guardar la referencia y después llamarla"
   ]
  },
  {
   "cell_type": "code",
   "execution_count": null,
   "metadata": {},
   "outputs": [],
   "source": [
    "sumar = lambda: 50\n",
    "\n",
    "#Es equivalente a:\n",
    "def func_sumar():\n",
    "    return 50"
   ]
  },
  {
   "cell_type": "markdown",
   "metadata": {},
   "source": [
    "lambda es una palabra reservada para las funciones anónimas."
   ]
  },
  {
   "cell_type": "markdown",
   "metadata": {},
   "source": [
    "### Función anónima que reciba parámetros"
   ]
  },
  {
   "cell_type": "code",
   "execution_count": null,
   "metadata": {},
   "outputs": [
    {
     "name": "stdout",
     "output_type": "stream",
     "text": [
      "20\n"
     ]
    }
   ],
   "source": [
    "sumar = lambda n1, n2: n1+n2\n",
    "print(sumar(10,10))"
   ]
  },
  {
   "cell_type": "markdown",
   "metadata": {},
   "source": [
    "### Ejercicio anterior con funciones anonimas"
   ]
  },
  {
   "cell_type": "code",
   "execution_count": null,
   "metadata": {},
   "outputs": [],
   "source": [
    "def fabricar_funciones(operador: str):\n",
    "    #Funcion por defecto (no genere error al pasarle operador incorrecto)\n",
    "    funcion = lambda n1,n2: f\"No existe operador para {n1} {operador} {n2}\"\n",
    "    #funcion=''\n",
    "    if operador == '+':\n",
    "        funcion = lambda n1,n2: n1+n2\n",
    "    elif operador == '-'\n",
    "        funcion = lambda n1,n2: n1-n2\n",
    "    elif operador == '*'\n",
    "        funcion = lambda n1,n2: n1*n2\n",
    "    elif operador == '/'\n",
    "        funcion = lambda n1,n2: n1/n2\n",
    "    elif operador == '**'\n",
    "        funcion = lambda n1,n2: n1**n2\n",
    "    return funcion"
   ]
  },
  {
   "cell_type": "markdown",
   "metadata": {},
   "source": [
    "## List Comprehension y listas en lambda"
   ]
  },
  {
   "cell_type": "markdown",
   "metadata": {},
   "source": [
    "### List Comprehension"
   ]
  },
  {
   "cell_type": "markdown",
   "metadata": {},
   "source": [
    "- `numeros_al_cuadrado = [  ]` : Reemplaza o es quivalente a: `lista = []`\n",
    "- `n**2`: Reemplaza o es equivalente a: `lista.append(n**2)`\n",
    "- `for n in numeros`: Es igual a: `for n in numeros:`"
   ]
  },
  {
   "cell_type": "code",
   "execution_count": null,
   "metadata": {},
   "outputs": [],
   "source": [
    "numeros = [10,20,30,40]\n",
    "\n",
    "numeros_al_cuadrado = [ n**2 for n in numeros]\n",
    "print(numeros_al_cuadrado)\n",
    "\n",
    "#Equivalente a:\n",
    "''' lista = []\n",
    "for n in numeros:\n",
    "    lista.append(n**2) '''"
   ]
  },
  {
   "cell_type": "markdown",
   "metadata": {},
   "source": [
    "#### Ejercicio de list Comprehension"
   ]
  },
  {
   "cell_type": "markdown",
   "metadata": {},
   "source": [
    "A partir de una lista de nombres obtener una lista con las iniciales\n",
    "['Andres', 'Juliana']\n",
    "['A', 'J']\n"
   ]
  },
  {
   "cell_type": "markdown",
   "metadata": {},
   "source": [
    "- `lista = [\"Luis\", \"Miguel\"]`: Se declara la lista\n",
    "- `iniciales = [n[0] for n in lista]`: Se crea la list Comprehension.\n",
    "    - Cada vez que el for itera la lista, guarda el nombre en n y este imprime la posición 0 ( [0] )"
   ]
  },
  {
   "cell_type": "code",
   "execution_count": null,
   "metadata": {},
   "outputs": [
    {
     "name": "stdout",
     "output_type": "stream",
     "text": [
      "['L', 'M']\n"
     ]
    }
   ],
   "source": [
    "lista = [\"Luis\", \"Miguel\"]\n",
    "iniciales = [n[0] for n in lista]\n",
    "print(iniciales)\n"
   ]
  },
  {
   "cell_type": "markdown",
   "metadata": {},
   "source": [
    "#### El mismo ejercicio pero con una función lambda"
   ]
  },
  {
   "cell_type": "markdown",
   "metadata": {},
   "source": [
    "Funciona de la misma forma, sólo que con la función lambda se pasa el argumento \"lista\" con la lista definida anteriormente"
   ]
  },
  {
   "cell_type": "code",
   "execution_count": null,
   "metadata": {},
   "outputs": [
    {
     "name": "stdout",
     "output_type": "stream",
     "text": [
      "['L', 'M']\n"
     ]
    }
   ],
   "source": [
    "obtener_iniciales = lambda lista: [ n[0] for n in lista ]\n",
    "print( obtener_iniciales( lista ) )"
   ]
  },
  {
   "cell_type": "markdown",
   "metadata": {},
   "source": [
    "## Operadores ternarios"
   ]
  },
  {
   "cell_type": "code",
   "execution_count": null,
   "metadata": {},
   "outputs": [
    {
     "name": "stdout",
     "output_type": "stream",
     "text": [
      "['Juliana', 'Jorge', 'Juan']\n"
     ]
    }
   ],
   "source": [
    "nombres = ['Milfer', 'Royer', 'Juliana', 'María', 'Jorge', 'Juan']\n",
    "\n",
    "#Crear una lista que almecene lo nombres con j\n",
    "nombres_con_j = [n for n in nombres if n[0].lower() == 'j']\n",
    "print(nombres_con_j)"
   ]
  },
  {
   "cell_type": "code",
   "execution_count": null,
   "metadata": {},
   "outputs": [
    {
     "name": "stdout",
     "output_type": "stream",
     "text": [
      "[10, 20, 30, 40, 50]\n"
     ]
    }
   ],
   "source": [
    "numeros = [10,15,20,25,30,35,40,45,50,55]\n",
    "\n",
    "#Lista con numeros pares\n",
    "numeros_pares =[n for n in numeros if n%2 == 0]\n",
    "print(numeros_pares)"
   ]
  },
  {
   "cell_type": "markdown",
   "metadata": {},
   "source": [
    "### Else"
   ]
  },
  {
   "cell_type": "code",
   "execution_count": null,
   "metadata": {},
   "outputs": [
    {
     "name": "stdout",
     "output_type": "stream",
     "text": [
      "['milfer', 'royer', 'JULIANA', 'maría', 'JORGE', 'JUAN']\n"
     ]
    }
   ],
   "source": [
    "#Los nombres que empiezen con J se ponen en mayuscula, los que sobren en minuscula\n",
    "\n",
    "#El else se pone antes del for\n",
    "nombres_en_j_mayuscula = [n.upper() if n[0].lower() == 'j' else n.lower() for n in nombres ]\n",
    "print(nombres_en_j_mayuscula)\n",
    "\n",
    "#Equivale a:\n",
    "\n",
    "lista = []\n",
    "for n in nombres:\n",
    "    if n[0].lowe() == 'j':\n",
    "        lista.append(n.upper())\n",
    "    else:\n",
    "        lista.append(n.lowe())"
   ]
  },
  {
   "cell_type": "markdown",
   "metadata": {},
   "source": [
    "## Pasar una lista a un string"
   ]
  },
  {
   "cell_type": "code",
   "execution_count": null,
   "metadata": {},
   "outputs": [
    {
     "name": "stdout",
     "output_type": "stream",
     "text": [
      "milfer royer JULIANA maría JORGE JUAN\n"
     ]
    }
   ],
   "source": [
    "mensaje = ' '.join(nombres_en_j_mayuscula)\n",
    "print(mensaje)"
   ]
  },
  {
   "cell_type": "markdown",
   "metadata": {},
   "source": [
    "## Función MAP"
   ]
  },
  {
   "cell_type": "markdown",
   "metadata": {},
   "source": [
    "Aplica una función a cada elemento. Sería un for compactado."
   ]
  },
  {
   "cell_type": "code",
   "execution_count": 1,
   "metadata": {},
   "outputs": [
    {
     "name": "stdout",
     "output_type": "stream",
     "text": [
      "[100, 400, 900, 1600, 2500]\n",
      "[100, 400, 900, 1600, 2500]\n"
     ]
    }
   ],
   "source": [
    "numeros = [10,20,30,40,50]\n",
    "\n",
    "#Permite iterar una lista, conjunto o tuplas\n",
    "elevar = lambda n : n**2\n",
    "numeros_al_cuadrado = list(map(elevar, numeros))\n",
    "print(numeros_al_cuadrado)\n",
    "\n",
    "#Lo de arriba es un resumen o compacto de:\n",
    "def sumulacion_map(funcion, lista):\n",
    "    respuesta = []\n",
    "    for n in lista:\n",
    "        num = funcion(n)\n",
    "        respuesta.append(num)\n",
    "    return respuesta\n",
    "\n",
    "print( sumulacion_map(elevar, numeros) )"
   ]
  }
 ],
 "metadata": {
  "interpreter": {
   "hash": "dd5b2693a84d0c8290bdbefedc4c1333bd0ae1351e4e5e2274916304a4fbdf23"
  },
  "kernelspec": {
   "display_name": "Python 3.9.5 64-bit",
   "language": "python",
   "name": "python3"
  },
  "language_info": {
   "codemirror_mode": {
    "name": "ipython",
    "version": 3
   },
   "file_extension": ".py",
   "mimetype": "text/x-python",
   "name": "python",
   "nbconvert_exporter": "python",
   "pygments_lexer": "ipython3",
   "version": "3.9.5"
  },
  "orig_nbformat": 4
 },
 "nbformat": 4,
 "nbformat_minor": 2
}
