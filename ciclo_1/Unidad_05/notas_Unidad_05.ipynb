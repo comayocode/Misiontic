{
 "cells": [
  {
   "cell_type": "markdown",
   "metadata": {},
   "source": [
    "# Repaso map()"
   ]
  },
  {
   "cell_type": "markdown",
   "metadata": {},
   "source": [
    "La función map recibe dos parámetros:\n",
    "\n",
    "- Una función con ciertas instrucciones\n",
    "- Un elemento de una lista iterable, es decir que sea posible acceder a una posición de los elementos; puede ser un string, listas, tuplas etc... y al final devuelve una lista con los resultados de la ejecución.\n",
    "\n",
    "`map(función, lista)`. La función toma la lista y hace las respectivas ordenes que están en la función.\n",
    "\n",
    "Vamos a tomar el ejemplo que está abajo:\n",
    "\n",
    "- El primer parámetro que se le pasa al `map()` (función) corresponde a `elevar = lambda n: n**2`, ese lambda lo que hace es la operación de elevar al 2 un item de la lista.\n",
    "- El segundo parámetro que se le pasa sería la `lista` que corresponde a `lista_mensajes=[1,2,3,4,5]`\n",
    "- Para finalizar se necesita un lugar en el que se guarden los resultados de la operación del `map()`, en este caso se usará como contenedor una `litas` `list()`. Básicamente `list()` funciona de contendor para los resultados de `map()`\n",
    "\n",
    "El map toma la lista, le pasa los items a la función y la función hace su trabajo, en este caso sería elevar a la 2 el item.\n",
    "\n",
    "En pocas palabras, el map toma cada elemento de una lista y le aplica la función y lo que devuelva lo almacena en un contenedor.\n",
    "\n",
    "Otra manera de obtener los resultados es aplicando un for a `numeros_al_cuadrado` (que es la variable en donde se almacenan los resultados)."
   ]
  },
  {
   "cell_type": "code",
   "execution_count": 15,
   "metadata": {},
   "outputs": [
    {
     "name": "stdout",
     "output_type": "stream",
     "text": [
      "[1, 4, 9, 16, 25]\n",
      "1\n",
      "4\n",
      "9\n",
      "16\n",
      "25\n"
     ]
    }
   ],
   "source": [
    "lista_mensajes=[1,2,3,4,5]\n",
    "elevar = lambda n: n**2\n",
    "\n",
    "numeros_al_cuadrado = list(map(elevar, lista_mensajes))\n",
    "print(numeros_al_cuadrado)\n",
    "\n",
    "#Imprimir los resultados con un for\n",
    "for datos in numeros_al_cuadrado:\n",
    "    print(datos)"
   ]
  },
  {
   "cell_type": "code",
   "execution_count": 23,
   "metadata": {},
   "outputs": [
    {
     "name": "stdout",
     "output_type": "stream",
     "text": [
      "['H', 'o', 'l', 'a', ' ', 'M', 'u', 'n', 'd', 'o']\n"
     ]
    }
   ],
   "source": [
    "\n",
    "mensaje_inicio = \"Hola Mundo\"\n",
    "x = lambda n: n\n",
    "\n",
    "mapa = list(map(x, mensaje_inicio))\n",
    "print(mapa)\n"
   ]
  },
  {
   "cell_type": "markdown",
   "metadata": {},
   "source": [
    "Ejercicio: Partiendo de una lista con strings obtener las iniciales de cada palabra:"
   ]
  },
  {
   "cell_type": "markdown",
   "metadata": {},
   "source": [
    "- `list_mensaje=[\"Hola\",\"mundo\",\"utp\",\"mision\",\"tic\"]`: Lista iterable\n",
    "- `letra = lambda n: n[0].upper() + \"-\" + n[-1].upper()`: Función\n",
    "    - `letra`: Referencia de la función anónima\n",
    "    - `lambda n`: Obtiene el elemento y lo guarda en n\n",
    "    - `n[0].upper()`: Selecciona la posición 0 en n, corresponde a la primera letra\n",
    "    - `+ \"-\" +`: Concatena las letras con un guion en el medio\n",
    "    - `resultado = list(map(letra, list_mensaje))`: Uso del map y pasa los resultados a una lista\n",
    "        - `resultado =`: Referencia del map\n",
    "        - `map(letra, list_mensaje)`: Se pasa la función (`letra`) y el iterable (`list_mensaje`)\n",
    "        - `list()`: Se guardan los datos del map en la lista\n",
    "    - `print(resultado)`: Se imprime la refencia del map()"
   ]
  },
  {
   "cell_type": "code",
   "execution_count": 50,
   "metadata": {},
   "outputs": [
    {
     "name": "stdout",
     "output_type": "stream",
     "text": [
      "['H-A', 'M-O', 'U-P', 'M-N', 'T-C']\n"
     ]
    }
   ],
   "source": [
    "list_mensaje=[\"Hola\",\"mundo\",\"utp\",\"mision\",\"tic\"]\n",
    "\n",
    "letra = lambda n: n[0].upper() + \"-\" + n[-1].upper()\n",
    "\n",
    "resultado = list(map(letra, list_mensaje))\n",
    "print(resultado)"
   ]
  },
  {
   "cell_type": "markdown",
   "metadata": {},
   "source": [
    "El equivalente de `letra` en una función `def` sería:"
   ]
  },
  {
   "cell_type": "code",
   "execution_count": 71,
   "metadata": {},
   "outputs": [
    {
     "name": "stdout",
     "output_type": "stream",
     "text": [
      "['H - A', 'M - O', 'U - P', 'M - N', 'T - C']\n"
     ]
    }
   ],
   "source": [
    "def caracteres (mensaje: str):\n",
    "    m1 = mensaje[0].upper()\n",
    "    m2 = mensaje[-1].upper()\n",
    "    return f\"{m1} - {m2}\""
   ]
  },
  {
   "cell_type": "markdown",
   "metadata": {},
   "source": [
    "## Obtener una posición de una lista de listas de tuplas"
   ]
  },
  {
   "cell_type": "markdown",
   "metadata": {},
   "source": []
  }
 ],
 "metadata": {
  "interpreter": {
   "hash": "dd5b2693a84d0c8290bdbefedc4c1333bd0ae1351e4e5e2274916304a4fbdf23"
  },
  "kernelspec": {
   "display_name": "Python 3.9.5 64-bit",
   "language": "python",
   "name": "python3"
  },
  "language_info": {
   "codemirror_mode": {
    "name": "ipython",
    "version": 3
   },
   "file_extension": ".py",
   "mimetype": "text/x-python",
   "name": "python",
   "nbconvert_exporter": "python",
   "pygments_lexer": "ipython3",
   "version": "3.9.5"
  },
  "orig_nbformat": 4
 },
 "nbformat": 4,
 "nbformat_minor": 2
}
