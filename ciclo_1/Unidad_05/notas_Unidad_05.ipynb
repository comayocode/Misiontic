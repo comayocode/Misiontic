{
 "cells": [
  {
   "cell_type": "markdown",
   "metadata": {},
   "source": [
    "# Repaso map()"
   ]
  },
  {
   "cell_type": "markdown",
   "metadata": {},
   "source": [
    "La función map recibe dos parámetros:\n",
    "\n",
    "- Una función con ciertas instrucciones\n",
    "- Un elemento de una lista iterable, es decir que sea posible acceder a una posición de los elementos; puede ser un string, listas, tuplas etc... y al final devuelve una lista con los resultados de la ejecución.\n",
    "\n",
    "`map(función, lista)`. La función toma la lista y hace las respectivas ordenes que están en la función.\n",
    "\n",
    "Vamos a tomar el ejemplo que está abajo:\n",
    "\n",
    "- El primer parámetro que se le pasa al `map()` (función) corresponde a `elevar = lambda n: n**2`, ese lambda lo que hace es la operación de elevar al 2 un item de la lista.\n",
    "- El segundo parámetro que se le pasa sería la `lista` que corresponde a `lista_mensajes=[1,2,3,4,5]`\n",
    "- Para finalizar se necesita un lugar en el que se guarden los resultados de la operación del `map()`, en este caso se usará como contenedor una `litas` `list()`. Básicamente `list()` funciona de contendor para los resultados de `map()`\n",
    "\n",
    "El map toma la lista, le pasa los items a la función y la función hace su trabajo, en este caso sería elevar a la 2 el item.\n",
    "\n",
    "En pocas palabras, el map toma cada elemento de una lista y le aplica la función y lo que devuelva lo almacena en un contenedor.\n",
    "\n",
    "Otra manera de obtener los resultados es aplicando un for a `numeros_al_cuadrado` (que es la variable en donde se almacenan los resultados)."
   ]
  },
  {
   "cell_type": "code",
   "execution_count": 18,
   "metadata": {},
   "outputs": [
    {
     "name": "stdout",
     "output_type": "stream",
     "text": [
      "[1, 4, 9, 16, 25]\n",
      "1\n",
      "4\n",
      "9\n",
      "16\n",
      "25\n"
     ]
    }
   ],
   "source": [
    "lista_mensajes=[1,2,3,4,5]\n",
    "elevar = lambda n: n**2\n",
    "\n",
    "numeros_al_cuadrado = list(map(elevar, lista_mensajes))\n",
    "print(numeros_al_cuadrado)\n",
    "\n",
    "#Imprimir los resultados con un for\n",
    "for datos in numeros_al_cuadrado:\n",
    "    print(datos)"
   ]
  },
  {
   "cell_type": "code",
   "execution_count": 19,
   "metadata": {},
   "outputs": [
    {
     "name": "stdout",
     "output_type": "stream",
     "text": [
      "['H', 'o', 'l', 'a', ' ', 'M', 'u', 'n', 'd', 'o']\n"
     ]
    }
   ],
   "source": [
    "\n",
    "mensaje_inicio = \"Hola Mundo\"\n",
    "x = lambda n: n\n",
    "\n",
    "mapa = list(map(x, mensaje_inicio))\n",
    "print(mapa)\n"
   ]
  },
  {
   "cell_type": "markdown",
   "metadata": {},
   "source": [
    "Ejercicio: Partiendo de una lista con strings obtener las iniciales de cada palabra:"
   ]
  },
  {
   "cell_type": "markdown",
   "metadata": {},
   "source": [
    "- `list_mensaje=[\"Hola\",\"mundo\",\"utp\",\"mision\",\"tic\"]`: Lista iterable\n",
    "- `letra = lambda n: n[0].upper() + \"-\" + n[-1].upper()`: Función\n",
    "    - `letra`: Referencia de la función anónima\n",
    "    - `lambda n`: Obtiene el elemento y lo guarda en n\n",
    "    - `n[0].upper()`: Selecciona la posición 0 en n, corresponde a la primera letra\n",
    "    - `+ \"-\" +`: Concatena las letras con un guion en el medio\n",
    "    - `resultado = list(map(letra, list_mensaje))`: Uso del map y pasa los resultados a una lista\n",
    "        - `resultado =`: Referencia del map\n",
    "        - `map(letra, list_mensaje)`: Se pasa la función (`letra`) y el iterable (`list_mensaje`)\n",
    "        - `list()`: Se guardan los datos del map en la lista\n",
    "    - `print(resultado)`: Se imprime la refencia del map()"
   ]
  },
  {
   "cell_type": "code",
   "execution_count": 20,
   "metadata": {},
   "outputs": [
    {
     "name": "stdout",
     "output_type": "stream",
     "text": [
      "['H-A', 'M-O', 'U-P', 'M-N', 'T-C']\n"
     ]
    }
   ],
   "source": [
    "list_mensaje=[\"Hola\",\"mundo\",\"utp\",\"mision\",\"tic\"]\n",
    "\n",
    "letra = lambda n: n[0].upper() + \"-\" + n[-1].upper()\n",
    "\n",
    "resultado = list(map(letra, list_mensaje))\n",
    "print(resultado)"
   ]
  },
  {
   "cell_type": "markdown",
   "metadata": {},
   "source": [
    "El equivalente de `letra` en una función `def` sería:"
   ]
  },
  {
   "cell_type": "code",
   "execution_count": 21,
   "metadata": {},
   "outputs": [],
   "source": [
    "def caracteres (mensaje: str):\n",
    "    m1 = mensaje[0].upper()\n",
    "    m2 = mensaje[-1].upper()\n",
    "    return f\"{m1} - {m2}\""
   ]
  },
  {
   "cell_type": "markdown",
   "metadata": {},
   "source": [
    "## Obtener una posición de una lista de listas de tuplas"
   ]
  },
  {
   "cell_type": "markdown",
   "metadata": {},
   "source": []
  },
  {
   "cell_type": "code",
   "execution_count": 22,
   "metadata": {},
   "outputs": [
    {
     "data": {
      "text/plain": [
       "'La factura 6591 tiene un total en pesos de 232.87La factura 6591 tiene un total en pesos de 232.87La factura 6591 tiene un total en pesos de 232.87'"
      ]
     },
     "execution_count": 22,
     "metadata": {},
     "output_type": "execute_result"
    }
   ],
   "source": [
    "registo_ventas= [\n",
    "    [6589, (\"9874\", 1, 125698.20), (\"88112\", 2, 135645.20), (\"3218\", 4, 13645.20)],\n",
    "    [6590, (\"5236\", 8, 11.99), (\"7733\",11,18.99), (\"88112\", 5, 390.95)],\n",
    "    [6591, (\"7812\", 2, 11.99), (\"9652\",11,18.99)], \n",
    "]\n",
    "\n",
    "from functools import  reduce\n",
    "\n",
    "def obtener_totales(registo_ventas):\n",
    "    #Respuesta: {id, suma}\n",
    "    dict_respuesta=dict()\n",
    "    mensaje = \"\"\n",
    "    for lista in registo_ventas:\n",
    "        #Remover el id de venta y guardarlo en variable\n",
    "        id = lista.pop(0)\n",
    "        #Multiplicar index 1* index 2\n",
    "        multiplicar = lambda x: x[1]*x[2]\n",
    "        #Mapeo de la lista con la función lambda multiplicar. Retorna la multiplicacion de cada tupla\n",
    "        lista_multiplicar = list(map(multiplicar, lista))\n",
    "        #Suma total de las tuplas de cada lista\n",
    "        total_lista = reduce(lambda acumulador, elemento: acumulador + elemento, lista_multiplicar)\n",
    "        #Armar el diccionario con el id y el total de la suma\n",
    "        dict_respuesta[id]=total_lista\n",
    "    for n in range(len(dict_respuesta)):\n",
    "        mensaje += f\"La factura {id} tiene un total en pesos de {total_lista:,.2f}\"\n",
    "    return mensaje#f\"La factura {id} tiene un total en pesos de {total_lista:,.2f}\"\n",
    "obtener_totales(registo_ventas)"
   ]
  },
  {
   "cell_type": "code",
   "execution_count": 23,
   "metadata": {},
   "outputs": [
    {
     "ename": "NameError",
     "evalue": "name 'a' is not defined",
     "output_type": "error",
     "traceback": [
      "\u001b[1;31m---------------------------------------------------------------------------\u001b[0m",
      "\u001b[1;31mNameError\u001b[0m                                 Traceback (most recent call last)",
      "\u001b[1;32mc:\\Users\\ronal\\Desktop\\Misiontic2022\\ciclo_1\\Unidad_05\\notas_Unidad_05.ipynb Cell 13'\u001b[0m in \u001b[0;36m<cell line: 3>\u001b[1;34m()\u001b[0m\n\u001b[0;32m      <a href='vscode-notebook-cell:/c%3A/Users/ronal/Desktop/Misiontic2022/ciclo_1/Unidad_05/notas_Unidad_05.ipynb#ch0000012?line=0'>1</a>\u001b[0m lista_lista\u001b[39m=\u001b[39m[[\u001b[39m555\u001b[39m, (\u001b[39m\"\u001b[39m\u001b[39m9874\u001b[39m\u001b[39m\"\u001b[39m, \u001b[39m1\u001b[39m, \u001b[39m125698.20\u001b[39m)]]\n\u001b[1;32m----> <a href='vscode-notebook-cell:/c%3A/Users/ronal/Desktop/Misiontic2022/ciclo_1/Unidad_05/notas_Unidad_05.ipynb#ch0000012?line=2'>3</a>\u001b[0m a \u001b[39m+\u001b[39m\u001b[39m=\u001b[39m [lista_lista[\u001b[39m0\u001b[39m][\u001b[39m0\u001b[39m]]\n\u001b[0;32m      <a href='vscode-notebook-cell:/c%3A/Users/ronal/Desktop/Misiontic2022/ciclo_1/Unidad_05/notas_Unidad_05.ipynb#ch0000012?line=3'>4</a>\u001b[0m \u001b[39mprint\u001b[39m(a)\n",
      "\u001b[1;31mNameError\u001b[0m: name 'a' is not defined"
     ]
    }
   ],
   "source": [
    "lista_lista=[[555, (\"9874\", 1, 125698.20)]]\n",
    "\n",
    "a += [lista_lista[0][0]]\n",
    "print(a)"
   ]
  },
  {
   "cell_type": "markdown",
   "metadata": {},
   "source": [
    "# Filter()"
   ]
  },
  {
   "cell_type": "markdown",
   "metadata": {},
   "source": [
    "Funciona de la misma manera que map(), sólo que este retorna un booleano. Recibe una función y una lista iterable."
   ]
  },
  {
   "cell_type": "code",
   "execution_count": null,
   "metadata": {},
   "outputs": [],
   "source": [
    "numeros=[10,20,30,25,35,25,40,45]"
   ]
  },
  {
   "cell_type": "markdown",
   "metadata": {},
   "source": [
    "El filter filtra los elementos y retorna una lista más pequeño."
   ]
  },
  {
   "cell_type": "code",
   "execution_count": null,
   "metadata": {},
   "outputs": [],
   "source": [
    "#Si número es mayor a 20 retorna true\n",
    "mayor20=lambda n : n>20"
   ]
  },
  {
   "cell_type": "markdown",
   "metadata": {},
   "source": [
    "Sólo retorna los números mayores a 20"
   ]
  },
  {
   "cell_type": "code",
   "execution_count": null,
   "metadata": {},
   "outputs": [
    {
     "name": "stdout",
     "output_type": "stream",
     "text": [
      "[30, 25, 35, 25, 40, 45]\n"
     ]
    }
   ],
   "source": [
    "respuesta = list(filter( mayor20, numeros ))\n",
    "print(respuesta)\n"
   ]
  },
  {
   "cell_type": "markdown",
   "metadata": {},
   "source": [
    "# zip()"
   ]
  },
  {
   "cell_type": "markdown",
   "metadata": {},
   "source": [
    "Hace un emparejamiento de dos o mas listas. Preferiblemente que los dos iterables tengan listas y listas"
   ]
  },
  {
   "cell_type": "code",
   "execution_count": null,
   "metadata": {},
   "outputs": [
    {
     "name": "stdout",
     "output_type": "stream",
     "text": [
      "[('Juliana', 'Muñoz'), ('Pedro', 'Jimenez'), ('Julian,', 'Lopez,'), ('Andres', 'Quintero')]\n"
     ]
    }
   ],
   "source": [
    "nombres = [\"Juliana\", \"Pedro\", \"Julian\", \"Andres\"]\n",
    "apellidos = [\"Muñoz\", \"Jimenez\", \"Lopez\", \"Quintero\"]\n",
    "\n",
    "\n",
    "nombres_apellidos = list(zip(nombres, apellidos))\n",
    "print(nombres_apellidos)"
   ]
  },
  {
   "cell_type": "markdown",
   "metadata": {},
   "source": [
    "Por si se tiene una lista de mayor tamaño que la otra, zip() sólo toma hasta la posición más corta de la lista"
   ]
  },
  {
   "cell_type": "code",
   "execution_count": null,
   "metadata": {},
   "outputs": [
    {
     "name": "stdout",
     "output_type": "stream",
     "text": [
      "[('Juliana', 'Muñoz'), ('Pedro', 'Jimenez'), ('Julian,Andres', 'Lopez,Quintero')]\n"
     ]
    }
   ],
   "source": [
    "nombres = [\"Juliana\", \"Pedro\", \"Julian,\" \"Andres\",\"Sandy\"] #5 items\n",
    "apellidos = [\"Muñoz\", \"Jimenez\", \"Lopez,\" \"Quintero\"] # 4 items\n",
    "\n",
    "nombres_apellidos = list(zip(nombres, apellidos))\n",
    "print(nombres_apellidos)"
   ]
  }
 ],
 "metadata": {
  "interpreter": {
   "hash": "dd5b2693a84d0c8290bdbefedc4c1333bd0ae1351e4e5e2274916304a4fbdf23"
  },
  "kernelspec": {
   "display_name": "Python 3.9.5 64-bit",
   "language": "python",
   "name": "python3"
  },
  "language_info": {
   "codemirror_mode": {
    "name": "ipython",
    "version": 3
   },
   "file_extension": ".py",
   "mimetype": "text/x-python",
   "name": "python",
   "nbconvert_exporter": "python",
   "pygments_lexer": "ipython3",
   "version": "3.9.5"
  },
  "orig_nbformat": 4
 },
 "nbformat": 4,
 "nbformat_minor": 2
}
