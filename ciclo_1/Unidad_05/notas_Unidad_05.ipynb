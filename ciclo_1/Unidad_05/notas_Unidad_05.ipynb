{
 "cells": [
  {
   "cell_type": "markdown",
   "metadata": {},
   "source": [
    "# Repaso map()"
   ]
  },
  {
   "cell_type": "markdown",
   "metadata": {},
   "source": [
    "La función map recibe dos parámetros:\n",
    "\n",
    "- Una función con ciertas instrucciones\n",
    "- Un elemento de una lista iterable, es decir que sea posible acceder a una posición de los elementos; puede ser un string, listas, tuplas etc... y al final devuelve una lista con los resultados de la ejecución.\n",
    "\n",
    "`map(función, lista)`. La función toma la lista y hace las respectivas ordenes que están en la función.\n",
    "\n",
    "Vamos a tomar el ejemplo que está abajo:\n",
    "\n",
    "- El primer parámetro que se le pasa al `map()` (función) corresponde a `elevar = lambda n: n**2`, ese lambda lo que hace es la operación de elevar al 2 un item de la lista.\n",
    "- El segundo parámetro que se le pasa sería la `lista` que corresponde a `lista_mensajes=[1,2,3,4,5]`\n",
    "- Para finalizar se necesita un lugar en el que se guarden los resultados de la operación del `map()`, en este caso se usará como contenedor una `litas` `list()`. Básicamente `list()` funciona de contendor para los resultados de `map()`\n",
    "\n",
    "El map toma la lista, le pasa los items a la función y la función hace su trabajo, en este caso sería elevar a la 2 el item.\n",
    "\n",
    "En pocas palabras, el map toma cada elemento de una lista y le aplica la función y lo que devuelva lo almacena en un contenedor.\n",
    "\n",
    "Otra manera de obtener los resultados es aplicando un for a `numeros_al_cuadrado` (que es la variable en donde se almacenan los resultados)."
   ]
  },
  {
   "cell_type": "code",
   "execution_count": null,
   "metadata": {},
   "outputs": [],
   "source": [
    "lista_mensajes=[1,2,3,4,5]\n",
    "elevar = lambda n: n**2\n",
    "\n",
    "numeros_al_cuadrado = list(map(elevar, lista_mensajes))\n",
    "print(numeros_al_cuadrado)\n",
    "\n",
    "#Imprimir los resultados con un for\n",
    "for datos in numeros_al_cuadrado:\n",
    "    print(datos)"
   ]
  },
  {
   "cell_type": "code",
   "execution_count": null,
   "metadata": {},
   "outputs": [],
   "source": [
    "\n",
    "mensaje_inicio = \"Hola Mundo\"\n",
    "x = lambda n: n\n",
    "\n",
    "mapa = list(map(x, mensaje_inicio))\n",
    "print(mapa)\n"
   ]
  },
  {
   "cell_type": "markdown",
   "metadata": {},
   "source": [
    "Ejercicio: Partiendo de una lista con strings obtener las iniciales de cada palabra:"
   ]
  },
  {
   "cell_type": "markdown",
   "metadata": {},
   "source": [
    "- `list_mensaje=[\"Hola\",\"mundo\",\"utp\",\"mision\",\"tic\"]`: Lista iterable\n",
    "- `letra = lambda n: n[0].upper() + \"-\" + n[-1].upper()`: Función\n",
    "    - `letra`: Referencia de la función anónima\n",
    "    - `lambda n`: Obtiene el elemento y lo guarda en n\n",
    "    - `n[0].upper()`: Selecciona la posición 0 en n, corresponde a la primera letra\n",
    "    - `+ \"-\" +`: Concatena las letras con un guion en el medio\n",
    "    - `resultado = list(map(letra, list_mensaje))`: Uso del map y pasa los resultados a una lista\n",
    "        - `resultado =`: Referencia del map\n",
    "        - `map(letra, list_mensaje)`: Se pasa la función (`letra`) y el iterable (`list_mensaje`)\n",
    "        - `list()`: Se guardan los datos del map en la lista\n",
    "    - `print(resultado)`: Se imprime la refencia del map()"
   ]
  },
  {
   "cell_type": "code",
   "execution_count": null,
   "metadata": {},
   "outputs": [],
   "source": [
    "list_mensaje=[\"Hola\",\"mundo\",\"utp\",\"mision\",\"tic\"]\n",
    "\n",
    "letra = lambda n: n[0].upper() + \"-\" + n[-1].upper()\n",
    "\n",
    "resultado = list(map(letra, list_mensaje))\n",
    "print(resultado)"
   ]
  },
  {
   "cell_type": "markdown",
   "metadata": {},
   "source": [
    "El equivalente de `letra` en una función `def` sería:"
   ]
  },
  {
   "cell_type": "code",
   "execution_count": null,
   "metadata": {},
   "outputs": [],
   "source": [
    "def caracteres (mensaje: str):\n",
    "    m1 = mensaje[0].upper()\n",
    "    m2 = mensaje[-1].upper()\n",
    "    return f\"{m1} - {m2}\""
   ]
  },
  {
   "cell_type": "markdown",
   "metadata": {},
   "source": [
    "## Obtener una posición de una lista de listas de tuplas"
   ]
  },
  {
   "cell_type": "markdown",
   "metadata": {},
   "source": []
  },
  {
   "cell_type": "code",
   "execution_count": null,
   "metadata": {},
   "outputs": [],
   "source": [
    "registo_ventas= [\n",
    "    [6589, (\"9874\", 1, 125698.20), (\"88112\", 2, 135645.20), (\"3218\", 4, 13645.20)],\n",
    "    [6590, (\"5236\", 8, 11.99), (\"7733\",11,18.99), (\"88112\", 5, 390.95)],\n",
    "    [6591, (\"7812\", 2, 11.99), (\"9652\",11,18.99)], \n",
    "]\n",
    "\n",
    "from functools import  reduce\n",
    "\n",
    "def obtener_totales(registo_ventas):\n",
    "    #Respuesta: {id, suma}\n",
    "    dict_respuesta=dict()\n",
    "    mensaje = \"\"\n",
    "    for lista in registo_ventas:\n",
    "        #Remover el id de venta y guardarlo en variable\n",
    "        id = lista.pop(0)\n",
    "        #Multiplicar index 1* index 2\n",
    "        multiplicar = lambda x: x[1]*x[2]\n",
    "        #Mapeo de la lista con la función lambda multiplicar. Retorna la multiplicacion de cada tupla\n",
    "        lista_multiplicar = list(map(multiplicar, lista))\n",
    "        #Suma total de las tuplas de cada lista\n",
    "        total_lista = reduce(lambda acumulador, elemento: acumulador + elemento, lista_multiplicar)\n",
    "        #Armar el diccionario con el id y el total de la suma\n",
    "        dict_respuesta[id]=total_lista\n",
    "    for n in range(len(dict_respuesta)):\n",
    "        mensaje += f\"La factura {id} tiene un total en pesos de {total_lista:,.2f}\"\n",
    "    return mensaje#f\"La factura {id} tiene un total en pesos de {total_lista:,.2f}\"\n",
    "obtener_totales(registo_ventas)"
   ]
  },
  {
   "cell_type": "code",
   "execution_count": null,
   "metadata": {},
   "outputs": [],
   "source": [
    "lista_lista=[[555, (\"9874\", 1, 125698.20)]]\n",
    "\n",
    "a += [lista_lista[0][0]]\n",
    "print(a)"
   ]
  },
  {
   "cell_type": "markdown",
   "metadata": {},
   "source": [
    "# Filter()"
   ]
  },
  {
   "cell_type": "markdown",
   "metadata": {},
   "source": [
    "Funciona de la misma manera que map(), sólo que este retorna un booleano. Recibe una función y una lista iterable."
   ]
  },
  {
   "cell_type": "code",
   "execution_count": null,
   "metadata": {},
   "outputs": [],
   "source": [
    "numeros=[10,20,30,25,35,25,40,45]"
   ]
  },
  {
   "cell_type": "markdown",
   "metadata": {},
   "source": [
    "El filter filtra los elementos y retorna una lista más pequeño."
   ]
  },
  {
   "cell_type": "code",
   "execution_count": null,
   "metadata": {},
   "outputs": [],
   "source": [
    "#Si número es mayor a 20 retorna true\n",
    "mayor20=lambda n : n>20"
   ]
  },
  {
   "cell_type": "markdown",
   "metadata": {},
   "source": [
    "Sólo retorna los números mayores a 20"
   ]
  },
  {
   "cell_type": "code",
   "execution_count": null,
   "metadata": {},
   "outputs": [],
   "source": [
    "respuesta = list(filter( mayor20, numeros ))\n",
    "print(respuesta)\n"
   ]
  },
  {
   "cell_type": "markdown",
   "metadata": {},
   "source": [
    "# zip()"
   ]
  },
  {
   "cell_type": "markdown",
   "metadata": {},
   "source": [
    "Hace un emparejamiento de dos o mas listas. Preferiblemente que los dos iterables tengan listas y listas"
   ]
  },
  {
   "cell_type": "code",
   "execution_count": null,
   "metadata": {},
   "outputs": [],
   "source": [
    "nombres = [\"Juliana\", \"Pedro\", \"Julian\", \"Andres\"]\n",
    "apellidos = [\"Muñoz\", \"Jimenez\", \"Lopez\", \"Quintero\"]\n",
    "\n",
    "\n",
    "nombres_apellidos = list(zip(nombres, apellidos))\n",
    "print(nombres_apellidos)"
   ]
  },
  {
   "cell_type": "markdown",
   "metadata": {},
   "source": [
    "Por si se tiene una lista de mayor tamaño que la otra, zip() sólo toma hasta la posición más corta de la lista"
   ]
  },
  {
   "cell_type": "code",
   "execution_count": null,
   "metadata": {},
   "outputs": [],
   "source": [
    "nombres = [\"Juliana\", \"Pedro\", \"Julian,\" \"Andres\",\"Sandy\"] #5 items\n",
    "apellidos = [\"Muñoz\", \"Jimenez\", \"Lopez,\" \"Quintero\"] # 4 items\n",
    "\n",
    "nombres_apellidos = list(zip(nombres, apellidos))\n",
    "print(nombres_apellidos)"
   ]
  },
  {
   "cell_type": "markdown",
   "metadata": {},
   "source": [
    ">NOTA: buscar clase del grupo 24 del día jueves 2 de junio"
   ]
  },
  {
   "cell_type": "markdown",
   "metadata": {},
   "source": [
    "# Numpy"
   ]
  },
  {
   "cell_type": "markdown",
   "metadata": {},
   "source": [
    "Es una librería que usamos para hacer analisis de datos, nos permite manejar matrizes. Python no tiene nativamente con matizes, son listas compuestas, numpy si permite manetra matrizes.\n",
    "\n",
    "Para el manejo de matizes deben ser proporcionalmente, es decir, las misma filas y columnas\n",
    "\n",
    "<img src=\"img/Screenshot_1.png\">"
   ]
  },
  {
   "cell_type": "markdown",
   "metadata": {},
   "source": [
    "Siempre se toma el tipo de  dato que tiene la capacidad de encapsular a los demás, por ejemplo... un int se puede pasar"
   ]
  },
  {
   "cell_type": "markdown",
   "metadata": {},
   "source": [
    "Se crea un alias para numpy, el alias que se de es con el que se le llamará a numpy."
   ]
  },
  {
   "cell_type": "code",
   "execution_count": null,
   "metadata": {},
   "outputs": [],
   "source": [
    "import numpy as np\n",
    "\n",
    "#Crear matriz con una fila\n",
    "matriz=np.array([ [10, 20] ])\n",
    "print(matriz)"
   ]
  },
  {
   "cell_type": "markdown",
   "metadata": {},
   "source": [
    "Crear otra fila. Ya se tendrían 2 filas y 2 columnas"
   ]
  },
  {
   "cell_type": "code",
   "execution_count": null,
   "metadata": {},
   "outputs": [],
   "source": [
    "import numpy as np\n",
    "\n",
    "#Crear matriz con una fila\n",
    "matriz = np.array([ [10, 20], [30,40] ])\n",
    "print(matriz)"
   ]
  },
  {
   "cell_type": "markdown",
   "metadata": {},
   "source": [
    "Las matrizes son de un solo tipo de dato, así que si se tiene por ejemplo 3 int y 1 float, se convertiran los 3 elementos a float"
   ]
  },
  {
   "cell_type": "code",
   "execution_count": null,
   "metadata": {},
   "outputs": [],
   "source": [
    "matriz = np.array([ [10, 20], [30,40.2] ])\n",
    "print(matriz)\n"
   ]
  },
  {
   "cell_type": "markdown",
   "metadata": {},
   "source": [
    "Combinación con un string. Se convertirán todos los tipos de datos a un string"
   ]
  },
  {
   "cell_type": "code",
   "execution_count": null,
   "metadata": {},
   "outputs": [],
   "source": [
    "matriz = np.array([ [10, 20], [30.2,\"40\"] ])\n",
    "print(matriz)\n"
   ]
  },
  {
   "cell_type": "markdown",
   "metadata": {},
   "source": [
    "Numpy nos permite operar facilmente entre matrizes. Para este ejemplo sumaremos elemento a elemento."
   ]
  },
  {
   "cell_type": "code",
   "execution_count": null,
   "metadata": {},
   "outputs": [],
   "source": [
    "matriz1 = np.array([ [10, 20, 30], [40, 50, 60] ])\n",
    "matriz2 = np.array([ [50, 60, 70], [90, 40, 60]] )\n",
    "\n",
    "print(\"-- suma --\")\n",
    "suma = matriz1 + matriz2\n",
    "print(suma)"
   ]
  },
  {
   "cell_type": "markdown",
   "metadata": {},
   "source": [
    "Se sumal las filas"
   ]
  },
  {
   "cell_type": "markdown",
   "metadata": {},
   "source": [
    "<img src=\"img/Screenshot_2.png\">"
   ]
  },
  {
   "cell_type": "markdown",
   "metadata": {},
   "source": [
    "## Multiplicar"
   ]
  },
  {
   "cell_type": "markdown",
   "metadata": {},
   "source": [
    "Para la multiplicación de matrices es diferente, si se quiere hacer multiplicacion de matrices.\n",
    "\n",
    "Esta se hace con filas y columnas, y esta debe estar invertida. Si la primera matriz tiene 2 filas y 3 columnas, la segundo debe tener 3 filas y 2 columnas"
   ]
  },
  {
   "cell_type": "markdown",
   "metadata": {},
   "source": [
    "<img src=\"img/Screenshot_6.png\">"
   ]
  },
  {
   "cell_type": "code",
   "execution_count": null,
   "metadata": {},
   "outputs": [],
   "source": [
    "matriz1 = np.array([ [2, 4, 1], [3, 5, 2] ])\n",
    "matriz2 = np.array([ [5, 2], [1,4], [3,2] ] )\n",
    "\n",
    "multiplicar = np.dot(matriz1, matriz2)\n",
    "print(multiplicar)"
   ]
  },
  {
   "cell_type": "markdown",
   "metadata": {},
   "source": [
    "Un poco más de información: https://how.okpedia.org/es/python/como-multiplicar-matrices-en-python"
   ]
  },
  {
   "cell_type": "markdown",
   "metadata": {},
   "source": [
    "## Probabilidades"
   ]
  },
  {
   "cell_type": "markdown",
   "metadata": {},
   "source": [
    "Se una lista de personas se quiere seleccionar un ganador o ganadores."
   ]
  },
  {
   "cell_type": "code",
   "execution_count": null,
   "metadata": {},
   "outputs": [],
   "source": [
    "\n",
    "import random as ra\n",
    "\n",
    "nombres = [\"Sandy\",\"Mateo\",\"Roko\", \"Milfer\"]\n",
    "ganadores = ra.choice(nombres, size = [2])"
   ]
  },
  {
   "cell_type": "markdown",
   "metadata": {},
   "source": [
    "# Pandas"
   ]
  },
  {
   "cell_type": "markdown",
   "metadata": {},
   "source": [
    "Es otra libreria que junto a Numpy se trabaja analisis de datos. Nos facilita manipular archivos, es decir, poedmos usar archivos externos como csv para luego cargar esos datos y hacer X operacion para esos datos."
   ]
  },
  {
   "cell_type": "markdown",
   "metadata": {},
   "source": [
    "Series: Es o varias columnas columna, al igual que los arrays son un mismo tipo de dato. Estas filas traen indices, inician desde 0 hasta x."
   ]
  },
  {
   "cell_type": "markdown",
   "metadata": {},
   "source": [
    "DataFrame: Es un conjunto de series, puede ser una sola serie hasta x series, se podría relacionar con una tabla de excel que tiene filas y columnas. Tienen indices tanto en las columnas como en las filas, los identificadores de las filas se pueden añadir etiquetas o renombrar ese índice."
   ]
  },
  {
   "cell_type": "markdown",
   "metadata": {},
   "source": [
    "<img src=\"https://crehana-blog.imgix.net/media/filer_public/54/11/54119d2f-1b08-477f-a6c5-dd7a53513d55/series-data-frames-python.png?auto=format&q=50\">\n"
   ]
  },
  {
   "cell_type": "markdown",
   "metadata": {},
   "source": [
    "### Crear una serie"
   ]
  },
  {
   "cell_type": "markdown",
   "metadata": {},
   "source": [
    "Es una serie se puede poner una lista o una lista"
   ]
  },
  {
   "cell_type": "code",
   "execution_count": 5,
   "metadata": {},
   "outputs": [
    {
     "name": "stdout",
     "output_type": "stream",
     "text": [
      "0    10\n",
      "1    20\n",
      "2    30\n",
      "3    40\n",
      "4    50\n",
      "dtype: int64\n",
      "10\n"
     ]
    }
   ],
   "source": [
    "import pandas as pd\n",
    "\n",
    "serie = pd.Series( [10,20,30,40,50] )\n",
    "print(serie)\n",
    "#Acceder a un índice\n",
    "print(serie[0])"
   ]
  },
  {
   "cell_type": "markdown",
   "metadata": {},
   "source": [
    "### Poner etiquetas o renombrar los indices"
   ]
  },
  {
   "cell_type": "code",
   "execution_count": null,
   "metadata": {},
   "outputs": [],
   "source": [
    "serie = pd.Series( [10,20,30,40,50], index=['Enero','Febrero', 'Marzo','Abril','Mayo'] )\n",
    "#Maneras para acceder a un indice\n",
    "print(\"Accediendo desde indice: \", serie[0])\n",
    "print(\"Accediendo desde etiqueta: \", serie['Enero'])\n"
   ]
  },
  {
   "cell_type": "markdown",
   "metadata": {},
   "source": [
    "### Obtener objeto que contiene los indices de la serie"
   ]
  },
  {
   "cell_type": "markdown",
   "metadata": {},
   "source": [
    "No se puede sobrescribir una sola etiqueta, se tiene que sobrescribir todas las eqtiquetas"
   ]
  },
  {
   "cell_type": "code",
   "execution_count": null,
   "metadata": {},
   "outputs": [],
   "source": [
    "print(serie.index)\n",
    "serie.index=['ene','feb','mar','abr','may']\n",
    "print(serie)"
   ]
  },
  {
   "cell_type": "markdown",
   "metadata": {},
   "source": [
    "### Acceder al tipo de dato"
   ]
  },
  {
   "cell_type": "code",
   "execution_count": null,
   "metadata": {},
   "outputs": [],
   "source": [
    "print(serie.dtype)"
   ]
  },
  {
   "cell_type": "markdown",
   "metadata": {},
   "source": [
    "### Acceder a los valores"
   ]
  },
  {
   "cell_type": "code",
   "execution_count": null,
   "metadata": {},
   "outputs": [],
   "source": [
    "print(serie.values)"
   ]
  },
  {
   "cell_type": "markdown",
   "metadata": {},
   "source": [
    "### Acceder a las dimensiones"
   ]
  },
  {
   "cell_type": "code",
   "execution_count": null,
   "metadata": {},
   "outputs": [],
   "source": [
    "print(serie.axes)"
   ]
  },
  {
   "cell_type": "markdown",
   "metadata": {},
   "source": [
    "### Cantidad de elementos"
   ]
  },
  {
   "cell_type": "code",
   "execution_count": null,
   "metadata": {},
   "outputs": [],
   "source": [
    "print(serie.shape)"
   ]
  },
  {
   "cell_type": "markdown",
   "metadata": {},
   "source": [
    "### Añadir etiquetas"
   ]
  },
  {
   "cell_type": "markdown",
   "metadata": {},
   "source": [
    "Se puede poner una descripción a las etiquetas, con el ejemplo de los meses se le puede poner una \"descripción\""
   ]
  },
  {
   "cell_type": "code",
   "execution_count": null,
   "metadata": {},
   "outputs": [],
   "source": [
    "serie.index.name='Meses'\n",
    "#Descripción de toda la serie\n",
    "serie.name='Ventas del año 2021'\n",
    "print(serie)"
   ]
  },
  {
   "cell_type": "markdown",
   "metadata": {},
   "source": [
    "## Crear dataFrame"
   ]
  },
  {
   "cell_type": "markdown",
   "metadata": {},
   "source": [
    "Se puede usar los diccionarios para la creación de las columnas de un DataFrame"
   ]
  },
  {
   "cell_type": "code",
   "execution_count": null,
   "metadata": {},
   "outputs": [],
   "source": [
    "dict_ventas = {\n",
    "    'frutas': [100,90,150,200],\n",
    "    'aseo': [80,120,250,35]\n",
    "}"
   ]
  },
  {
   "cell_type": "code",
   "execution_count": null,
   "metadata": {},
   "outputs": [],
   "source": [
    "ventas = pd.DataFrame(dict_ventas)\n",
    "print(ventas)"
   ]
  },
  {
   "cell_type": "markdown",
   "metadata": {},
   "source": [
    "### Añadir indices alas filas"
   ]
  },
  {
   "cell_type": "code",
   "execution_count": null,
   "metadata": {},
   "outputs": [],
   "source": [
    "ventas = pd.DataFrame(dict_ventas, index=['ene','feb','mar','abr'])\n",
    "print(ventas)\n"
   ]
  },
  {
   "cell_type": "markdown",
   "metadata": {},
   "source": [
    "### Acceder a indices de filas y columnas"
   ]
  },
  {
   "cell_type": "code",
   "execution_count": null,
   "metadata": {},
   "outputs": [],
   "source": [
    "print(ventas.index)\n",
    "print(ventas.columns)"
   ]
  },
  {
   "cell_type": "markdown",
   "metadata": {},
   "source": [
    "### Retorno de objetos indices"
   ]
  },
  {
   "cell_type": "markdown",
   "metadata": {},
   "source": [
    "En una serie solo se ven los indices de las filas, en los DataFrames se muestran los índices tanto de filas como de las columnas"
   ]
  },
  {
   "cell_type": "code",
   "execution_count": null,
   "metadata": {},
   "outputs": [],
   "source": [
    "print(ventas.axes)\n"
   ]
  },
  {
   "cell_type": "markdown",
   "metadata": {},
   "source": [
    "### Cantidad de elementos (filas y columnas)"
   ]
  },
  {
   "cell_type": "code",
   "execution_count": null,
   "metadata": {},
   "outputs": [],
   "source": [
    "print(ventas.shape)"
   ]
  },
  {
   "cell_type": "markdown",
   "metadata": {},
   "source": [
    "# Manejar ficheros csv"
   ]
  },
  {
   "cell_type": "markdown",
   "metadata": {},
   "source": [
    "### Importar pandas"
   ]
  },
  {
   "cell_type": "code",
   "execution_count": null,
   "metadata": {},
   "outputs": [],
   "source": [
    "import pandas as pd"
   ]
  },
  {
   "cell_type": "markdown",
   "metadata": {},
   "source": [
    "### Cargar el DataFrame (Fichero csv)"
   ]
  },
  {
   "cell_type": "code",
   "execution_count": null,
   "metadata": {},
   "outputs": [],
   "source": [
    "#Cargar de manera local\n",
    "movies = pd.read_csv(\"movies.csv\")\n",
    "print(movies)\n",
    "\n",
    "#Cargar desde una URL\n",
    "#movies = pd.read_csv(\"URL-FICHERO\")\n"
   ]
  },
  {
   "cell_type": "markdown",
   "metadata": {},
   "source": [
    "### Ver la información global o general del fichero"
   ]
  },
  {
   "cell_type": "code",
   "execution_count": null,
   "metadata": {},
   "outputs": [],
   "source": [
    "print(movies.info())"
   ]
  },
  {
   "cell_type": "markdown",
   "metadata": {},
   "source": [
    "### Mostrar todas las columnas. Lo que hace es tomar todas las columnas y muestra dato por dato de cada columna."
   ]
  },
  {
   "cell_type": "code",
   "execution_count": null,
   "metadata": {},
   "outputs": [],
   "source": [
    "print(movies.describe())"
   ]
  },
  {
   "cell_type": "markdown",
   "metadata": {},
   "source": [
    "### Acceder a una columna en específico"
   ]
  },
  {
   "cell_type": "code",
   "execution_count": null,
   "metadata": {},
   "outputs": [],
   "source": [
    "#Ver todas las columnas\n",
    "print(movies.columns)\n",
    "\n",
    "#Acceder a una columna\n",
    "title = movies['Title']\n",
    "print(title)\n"
   ]
  },
  {
   "cell_type": "markdown",
   "metadata": {},
   "source": [
    "### Consultar los primeros y últimos registros"
   ]
  },
  {
   "cell_type": "code",
   "execution_count": null,
   "metadata": {},
   "outputs": [],
   "source": [
    "#Obtiene los primeros 4 registros\n",
    "print(title.head())\n",
    "\n",
    "#Obtener últimos 5 registros\n",
    "print(title.tail())"
   ]
  },
  {
   "cell_type": "markdown",
   "metadata": {},
   "source": [
    "Visualizar más registros"
   ]
  },
  {
   "cell_type": "code",
   "execution_count": null,
   "metadata": {},
   "outputs": [],
   "source": [
    "#Obtener primeros 10 registros\n",
    "print(title.head(10))\n",
    "\n",
    "#Obtener ultimos 10 registros\n",
    "print(title.tail(10))"
   ]
  },
  {
   "cell_type": "markdown",
   "metadata": {},
   "source": [
    "### Tomar registro de forma aleatoria"
   ]
  },
  {
   "cell_type": "code",
   "execution_count": null,
   "metadata": {},
   "outputs": [],
   "source": [
    "print(movies.sample(5))"
   ]
  },
  {
   "cell_type": "markdown",
   "metadata": {},
   "source": [
    "## Crear sub-DataFrames"
   ]
  },
  {
   "cell_type": "markdown",
   "metadata": {},
   "source": [
    "<img src=\"img/Screenshot_8.svg\">"
   ]
  },
  {
   "cell_type": "markdown",
   "metadata": {},
   "source": [
    "Conta en elegir datos de un DataFrame principal y unirlos en otro DataFrame aparte."
   ]
  },
  {
   "cell_type": "markdown",
   "metadata": {},
   "source": [
    "### Seleccionar los datos"
   ]
  },
  {
   "cell_type": "markdown",
   "metadata": {},
   "source": [
    "Se pasan dos parámetros en el `loc[ parametro_1, [parametro_2] ]`. El primer parámetro indica el número de datos (filas) que quiere obtener, `loc[ 0:500, [parametro_2] ]` ahí está indicando que seleccione los primeros 500 datos del dataframe. El segundo parámetro indica las columnas que se quieren seleccionar `loc[ parametro_1, ['Title','Actor 3'] ]`"
   ]
  },
  {
   "cell_type": "code",
   "execution_count": null,
   "metadata": {},
   "outputs": [],
   "source": [
    "sub_dataframe = movies.loc[0:10, ['Title', 'Facebook Likes - Director', 'Facebook Likes - Actor 1', 'Facebook Likes - Actor 2']]\n",
    "\n",
    "#Imprimir los datos seleccionados\n",
    "print(sub_dataframe.info())"
   ]
  },
  {
   "cell_type": "markdown",
   "metadata": {},
   "source": [
    "### Imprimir primeros 5 registros"
   ]
  },
  {
   "cell_type": "code",
   "execution_count": null,
   "metadata": {},
   "outputs": [],
   "source": [
    "print(sub_dataframe.head())"
   ]
  },
  {
   "cell_type": "markdown",
   "metadata": {},
   "source": [
    "### Operar datos de varias columnas para crear otra con los resultados"
   ]
  },
  {
   "cell_type": "code",
   "execution_count": null,
   "metadata": {},
   "outputs": [],
   "source": [
    "#Crear la columna\n",
    "sub_dataframe['Total likes'] = sub_dataframe['Facebook Likes - Director'] + sub_dataframe['Facebook Likes - Actor 1'] + sub_dataframe['Facebook Likes - Actor 2']\n",
    "\n",
    "print(sub_dataframe.head())"
   ]
  },
  {
   "cell_type": "markdown",
   "metadata": {},
   "source": [
    "# Tablas dinámicas (tablas pivote)"
   ]
  },
  {
   "cell_type": "markdown",
   "metadata": {},
   "source": [
    "Quitan la duplicidad de los registros y mostrar un resumen de los datos tomando como indice una columna."
   ]
  },
  {
   "cell_type": "markdown",
   "metadata": {},
   "source": [
    "<img src =\"img/Screenshot_10.png\">"
   ]
  },
  {
   "cell_type": "markdown",
   "metadata": {},
   "source": [
    "## Creación Sub DataFrame"
   ]
  },
  {
   "cell_type": "markdown",
   "metadata": {},
   "source": [
    "Creamos un sub DataFrame para que los datos sean más sencillos de leer, es decir, que la información no sea tan extensa."
   ]
  },
  {
   "cell_type": "code",
   "execution_count": null,
   "metadata": {},
   "outputs": [],
   "source": [
    "peliculas_director = movies.loc[:,[\"Director\", \"Title\", \"Genres\", \"Language\"]]\n",
    "#print(peliculas_director.info())"
   ]
  },
  {
   "cell_type": "markdown",
   "metadata": {},
   "source": [
    "## Crear pivot table"
   ]
  },
  {
   "cell_type": "markdown",
   "metadata": {},
   "source": [
    "Por defecto `pivot_table()` aplica una media a los datos"
   ]
  },
  {
   "cell_type": "code",
   "execution_count": null,
   "metadata": {},
   "outputs": [],
   "source": [
    "#Importar numpy para usar la función .size para ver cuantas veces se repite el director\n",
    "import numpy as pd\n",
    "\n",
    "tabla= pd.pivot_table(peliculas_director, index=[\"Director\"], aggfunc=(np.size))\n",
    "print(tabla.head())"
   ]
  },
  {
   "cell_type": "code",
   "execution_count": null,
   "metadata": {},
   "outputs": [],
   "source": [
    "import pandas as pd\n",
    "import os\n",
    "\n",
    "# ruta file csv\n",
    "rutaFileCsv = 'https://github.com/luisguillermomolero/MisionTIC2022_2/blob/master/Modulo1_Python_MisionTIC2022_Main/Semana_5/Reto/movies.csv?raw=true'\n",
    "\n",
    "#Dividir nombre y extensión del archivo\n",
    "root, extension = os.path.splitext(\"movies.csv\")\n",
    "\n",
    "def listaPeliculas(rutaFileCsv: str) -> str:\n",
    "    #Validar extensión\n",
    "    if extension == \".csv\":\n",
    "        try:\n",
    "            #Cargar archivo/ruta csv\n",
    "            moviesCsv = pd.read_csv(rutaFileCsv)\n",
    "            #Crear subconjunto/Subdataframe\n",
    "            subDataframe = moviesCsv.loc[:, ['Country','Language','Gross Earnings']]\n",
    "            #Creación pivot table\n",
    "            tablaDinámica = pd.pivot_table(subDataframe, index=['Country','Language'])\n",
    "\n",
    "            return tablaDinámica.head(10)\n",
    "        except:\n",
    "            return \"Error al leer el archivo de datos.\"\n",
    "    else:\n",
    "        return \"Extensión  inválida.\"\n",
    "\n",
    "print(listaPeliculas(rutaFileCsv))"
   ]
  },
  {
   "cell_type": "code",
   "execution_count": 31,
   "metadata": {},
   "outputs": [
    {
     "data": {
      "text/plain": [
       "'1.4.2'"
      ]
     },
     "execution_count": 31,
     "metadata": {},
     "output_type": "execute_result"
    }
   ],
   "source": [
    "import pandas as pd\n",
    "\n",
    "pd.__version__"
   ]
  },
  {
   "cell_type": "code",
   "execution_count": 32,
   "metadata": {},
   "outputs": [
    {
     "data": {
      "text/plain": [
       "'1.22.4'"
      ]
     },
     "execution_count": 32,
     "metadata": {},
     "output_type": "execute_result"
    }
   ],
   "source": [
    "import numpy as np\n",
    "\n",
    "np.__version__"
   ]
  }
 ],
 "metadata": {
  "kernelspec": {
   "display_name": "Python 3.8.10 64-bit",
   "language": "python",
   "name": "python3"
  },
  "language_info": {
   "codemirror_mode": {
    "name": "ipython",
    "version": 3
   },
   "file_extension": ".py",
   "mimetype": "text/x-python",
   "name": "python",
   "nbconvert_exporter": "python",
   "pygments_lexer": "ipython3",
   "version": "3.8.10"
  },
  "orig_nbformat": 4,
  "vscode": {
   "interpreter": {
    "hash": "7a96227b8776e9e8b92184c6bd2959aa06e1e0881b6901ba05538acbe1b6a7a4"
   }
  }
 },
 "nbformat": 4,
 "nbformat_minor": 2
}
