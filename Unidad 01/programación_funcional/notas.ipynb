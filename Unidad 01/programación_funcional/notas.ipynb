{
 "cells": [
  {
   "cell_type": "markdown",
   "metadata": {},
   "source": [
    "## Funciones orden superior"
   ]
  },
  {
   "cell_type": "markdown",
   "metadata": {},
   "source": [
    "### Función para sumar"
   ]
  },
  {
   "cell_type": "code",
   "execution_count": 10,
   "metadata": {},
   "outputs": [],
   "source": [
    "def sumar(n1,n2):\n",
    "    return n1+n2"
   ]
  },
  {
   "cell_type": "markdown",
   "metadata": {},
   "source": [
    "### Función pasando parámetros"
   ]
  },
  {
   "cell_type": "code",
   "execution_count": 11,
   "metadata": {},
   "outputs": [],
   "source": [
    "def funcion_orden_superior(funcion):\n",
    "    respuesta = funcion(20,20)\n",
    "    print(respuesta)"
   ]
  },
  {
   "cell_type": "markdown",
   "metadata": {},
   "source": [
    "### llamar una función dentro de otra función"
   ]
  },
  {
   "cell_type": "code",
   "execution_count": 12,
   "metadata": {},
   "outputs": [
    {
     "name": "stdout",
     "output_type": "stream",
     "text": [
      "40\n"
     ]
    }
   ],
   "source": [
    "funcion_orden_superior(sumar)"
   ]
  },
  {
   "cell_type": "markdown",
   "metadata": {},
   "source": [
    "## Funciones locales"
   ]
  },
  {
   "cell_type": "markdown",
   "metadata": {},
   "source": [
    "En pocas palabra una función local es una función anidada que sólo funciona dentro de la función en la que esté."
   ]
  },
  {
   "cell_type": "markdown",
   "metadata": {},
   "source": [
    "La función local (`función anidada \"def sumar\"`) no se puede llamar desde afuera de la función \"`calcular_promedio`\", sólo se puede llamar dentro de la función \"`calcular_promedio`\", aunque hay un truco que si permite hacerlo."
   ]
  },
  {
   "cell_type": "code",
   "execution_count": 17,
   "metadata": {},
   "outputs": [
    {
     "name": "stdout",
     "output_type": "stream",
     "text": [
      "6.5\n"
     ]
    }
   ],
   "source": [
    "def calcular_promedio(lista: list):\n",
    "    #Función local\n",
    "    def sumar(lista: list):\n",
    "        suma = 0\n",
    "        for n in lista:\n",
    "            suma += n\n",
    "        return suma\n",
    "    #Calcular promedio\n",
    "    promedio = sumar(lista) / len(lista)\n",
    "    return promedio\n",
    "\n",
    "print(calcular_promedio([4,5,9,8]))"
   ]
  },
  {
   "cell_type": "markdown",
   "metadata": {},
   "source": [
    "## Fábrica de funciones"
   ]
  },
  {
   "cell_type": "markdown",
   "metadata": {},
   "source": [
    "Función fabrique funciones para hacer operaciones matemáticas"
   ]
  },
  {
   "cell_type": "code",
   "execution_count": 26,
   "metadata": {},
   "outputs": [],
   "source": [
    "def fabrica_funcion(operador:str):\n",
    "    def sumar(n1,n2):\n",
    "        return n1+n2\n",
    "    return sumar"
   ]
  },
  {
   "cell_type": "markdown",
   "metadata": {},
   "source": [
    "Las funciones locales si se pueden llamar desde afuera con la referencia de funciones. Al retornar la función local `sumar` y de nuevo retornar el return de esa función local, se puede manipular fuera de la función fabrica_funcion"
   ]
  },
  {
   "cell_type": "code",
   "execution_count": 27,
   "metadata": {},
   "outputs": [
    {
     "name": "stdout",
     "output_type": "stream",
     "text": [
      "20\n"
     ]
    }
   ],
   "source": [
    "funcion = fabrica_funcion('')\n",
    "print(funcion(10,10))"
   ]
  },
  {
   "cell_type": "markdown",
   "metadata": {},
   "source": [
    "Ahora vamos a hacer las demas operaciones en la funciones locales"
   ]
  },
  {
   "cell_type": "code",
   "execution_count": 47,
   "metadata": {},
   "outputs": [],
   "source": [
    "def fabrica_funcion(operador:str):\n",
    "    funcion = ''\n",
    "    if operador == '+':\n",
    "        def sumar(n1,n2):\n",
    "            return n1+n2\n",
    "        funcion = sumar\n",
    "    elif operador == '-':\n",
    "        def resta(n1,n2):\n",
    "            return n1-n2\n",
    "        funcion = sumar\n",
    "    elif operador == '*':\n",
    "        def multiplicar(n1,n2):\n",
    "            return n1*n2\n",
    "        funcion = multiplicar\n",
    "    elif operador == '/':\n",
    "        def division(n1,n2):\n",
    "            return n1/n2\n",
    "        funcion = division\n",
    "    return funcion"
   ]
  },
  {
   "cell_type": "markdown",
   "metadata": {},
   "source": [
    "Pasar el operador en ('')"
   ]
  },
  {
   "cell_type": "code",
   "execution_count": null,
   "metadata": {},
   "outputs": [],
   "source": [
    "funcion = fabrica_funcion('**')\n",
    "print(funcion(10,10))"
   ]
  },
  {
   "cell_type": "markdown",
   "metadata": {},
   "source": [
    "Por el momento funciona correctamente el ejercicio, pero si se pasa un operador que no sea (+, -, *, /) va a generar un error. Lo lógico sería hacer un else con un print(\"No se encuentra ese operador\") o algo parecido, pero va a seguir generando error ya que se espera que se espera que `fabrica_funcion` retorne una función."
   ]
  },
  {
   "cell_type": "markdown",
   "metadata": {},
   "source": [
    "Entonces se tendría que crear un else con una función para retornar"
   ]
  },
  {
   "cell_type": "code",
   "execution_count": 51,
   "metadata": {},
   "outputs": [
    {
     "name": "stdout",
     "output_type": "stream",
     "text": [
      "La operacion no existe para 10 ** 10\n"
     ]
    }
   ],
   "source": [
    "def fabrica_funcion(operador:str):\n",
    "    funcion = ''\n",
    "    if operador == '+':\n",
    "        def sumar(n1,n2):\n",
    "            return n1+n2\n",
    "        funcion = sumar\n",
    "    elif operador == '-':\n",
    "        def resta(n1,n2):\n",
    "            return n1-n2\n",
    "        funcion = sumar\n",
    "    elif operador == '*':\n",
    "        def multiplicar(n1,n2):\n",
    "            return n1*n2\n",
    "        funcion = multiplicar\n",
    "    elif operador == '/':\n",
    "        def division(n1,n2):\n",
    "            return n1/n2\n",
    "        funcion = division\n",
    "    else:\n",
    "        def default(n1,n2):\n",
    "            return f\"La operacion no existe para {n1} {operador} {n2}\"\n",
    "        funcion = default\n",
    "    return funcion\n",
    "\n",
    "funcion = fabrica_funcion('**')\n",
    "print(funcion(10,10))"
   ]
  },
  {
   "cell_type": "markdown",
   "metadata": {},
   "source": [
    "## Funcion de orden superior que reciba 2 funciones (Hacer repaso)"
   ]
  },
  {
   "cell_type": "markdown",
   "metadata": {},
   "source": [
    "Función que necesite 2 parametros, esos parámetros deben ser los operadores que se quieren usar"
   ]
  },
  {
   "cell_type": "code",
   "execution_count": 54,
   "metadata": {},
   "outputs": [
    {
     "name": "stdout",
     "output_type": "stream",
     "text": [
      "Resultado función_1: 50\n",
      "Resultado función_2: La operacion no existe para 10 ** 10\n"
     ]
    }
   ],
   "source": [
    "def ejecutar_operaciones (funcion_1, funcion_2):\n",
    "    #Ejecutar el proceso\n",
    "    resultado_1 = funcion_1(10, 40)\n",
    "    resultado_2 = funcion_2(10, 10)\n",
    "    print( f\"Resultado función_1: {resultado_1}\" )\n",
    "    print( f\"Resultado función_2: {resultado_2}\" )\n",
    "\n",
    "#Fabricar funciones\n",
    "funcion_1 = fabrica_funcion('+')\n",
    "funcion_2 = fabrica_funcion('**')\n",
    "ejecutar_operaciones(funcion_1, funcion_2)"
   ]
  },
  {
   "cell_type": "markdown",
   "metadata": {},
   "source": [
    "funcion_1= fabrica_funcion('+')\n",
    "funcion_2= fabrica_funcion('**')"
   ]
  },
  {
   "cell_type": "markdown",
   "metadata": {},
   "source": [
    "### Pasar números que se desee\n"
   ]
  },
  {
   "cell_type": "code",
   "execution_count": 57,
   "metadata": {},
   "outputs": [
    {
     "name": "stderr",
     "output_type": "stream",
     "text": [
      "\n",
      "KeyboardInterrupt\n",
      "\n"
     ]
    }
   ],
   "source": [
    "\n",
    "\n",
    "def solicitar_operacion():\n",
    "    operador_1 = input(\"Ingrese la operación a crear\")\n",
    "    funcion_1 = fabrica_funcion(operador_1)\n",
    "    ejecutar_operaciones(funcion_1)\n",
    "solicitar_operacion()"
   ]
  },
  {
   "cell_type": "markdown",
   "metadata": {},
   "source": [
    "## Funciones anónimas"
   ]
  },
  {
   "cell_type": "markdown",
   "metadata": {},
   "source": [
    "Función que no tiene un nombre, como no tiene nombre se puede guardar la referencia y después llamarla"
   ]
  },
  {
   "cell_type": "code",
   "execution_count": null,
   "metadata": {},
   "outputs": [],
   "source": [
    "sumar = lambda: 50\n",
    "\n",
    "#Es equivalente a:\n",
    "def func_sumar():\n",
    "    return 50"
   ]
  },
  {
   "cell_type": "markdown",
   "metadata": {},
   "source": [
    "lambda es una palabra reservada para las funciones anónimas."
   ]
  },
  {
   "cell_type": "markdown",
   "metadata": {},
   "source": [
    "### Función anónima que reciba parámetros"
   ]
  },
  {
   "cell_type": "code",
   "execution_count": 58,
   "metadata": {},
   "outputs": [
    {
     "name": "stdout",
     "output_type": "stream",
     "text": [
      "20\n"
     ]
    }
   ],
   "source": [
    "sumar = lambda n1, n2: n1+n2\n",
    "print(sumar(10,10))"
   ]
  },
  {
   "cell_type": "markdown",
   "metadata": {},
   "source": [
    "### Ejercicio anterior con funciones anonimas"
   ]
  },
  {
   "cell_type": "code",
   "execution_count": null,
   "metadata": {},
   "outputs": [],
   "source": [
    "def fabricar_funciones(operador: str):\n",
    "    #Funcion por defecto (no genere error al pasarle operador incorrecto)\n",
    "    funcion = lambda n1,n2: f\"No existe operador para {n1} {operador} {n2}\"\n",
    "    #funcion=''\n",
    "    if operador == '+':\n",
    "        funcion = lambda n1,n2: n1+n2"
   ]
  },
  {
   "cell_type": "markdown",
   "metadata": {},
   "source": [
    "# Resumen funciones funcinoales\n",
    "\n",
    " - Referencia funciones\n",
    " - Funciones orden superior\n",
    " - Funciones primer orden\n",
    " - Funciones anonimas\n",
    " - Combinar temas"
   ]
  }
 ],
 "metadata": {
  "interpreter": {
   "hash": "2dd544e7fba02639034cb698fd41c551b886976fe883b63cb379cd69a3c56f89"
  },
  "kernelspec": {
   "display_name": "Python 3.9.7 ('base')",
   "language": "python",
   "name": "python3"
  },
  "language_info": {
   "codemirror_mode": {
    "name": "ipython",
    "version": 3
   },
   "file_extension": ".py",
   "mimetype": "text/x-python",
   "name": "python",
   "nbconvert_exporter": "python",
   "pygments_lexer": "ipython3",
   "version": "3.9.7"
  },
  "orig_nbformat": 4
 },
 "nbformat": 4,
 "nbformat_minor": 2
}
