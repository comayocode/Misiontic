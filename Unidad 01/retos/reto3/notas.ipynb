{
 "cells": [
  {
   "cell_type": "markdown",
   "metadata": {},
   "source": [
    "# Diccionario\n",
    "\n",
    "Es un contenedor de python que permite agrupar elementos:"
   ]
  },
  {
   "cell_type": "code",
   "execution_count": 21,
   "metadata": {},
   "outputs": [
    {
     "name": "stdout",
     "output_type": "stream",
     "text": [
      "{'item1': 'luis', 'lista': [1, 2], 'tupla': (1, 2), 'listaDeTuplas': [(1, 2)]}\n"
     ]
    }
   ],
   "source": [
    "dic={'item1' : 'luis',\n",
    "    'lista':[1,2],\n",
    "    'tupla': (1,2),\n",
    "    'listaDeTuplas': [(1,2)]}\n",
    "    #Dentro se puede almacenar cualquier tipo de dato\n",
    "print(dic)"
   ]
  },
  {
   "cell_type": "markdown",
   "metadata": {},
   "source": [
    "Dentro de un diccionario se puden guardar:\n",
    "\n",
    "- Tipos de datos: int, str, bool, etc...\n",
    "- Otro diccionario = Diccionario = {'nombre': 'Juan', 'apellido': 'Cárdenas'}\n",
    "- Listas: lista = [1,2]\n",
    "- Tuplas: tupla = (1,2)"
   ]
  },
  {
   "cell_type": "markdown",
   "metadata": {},
   "source": [
    "# Listas\n",
    "\n",
    "Arreglo en el que sólo se guardan valores (int, str, bool). Las listas se puede organizar y sus valores se pueden modificar."
   ]
  },
  {
   "cell_type": "code",
   "execution_count": 22,
   "metadata": {},
   "outputs": [
    {
     "name": "stdout",
     "output_type": "stream",
     "text": [
      "[1, 2, 'Prueba', True, False, 1.006]\n"
     ]
    }
   ],
   "source": [
    "lista = [1, 2, 'Prueba', True, False, 1.006]\n",
    "print(lista)"
   ]
  },
  {
   "cell_type": "markdown",
   "metadata": {},
   "source": [
    "# Tupla\n",
    "\n",
    "Arreglo parecido a las listas pero la diferencia es que las tuplas no se pueden modificar."
   ]
  },
  {
   "cell_type": "code",
   "execution_count": 23,
   "metadata": {},
   "outputs": [
    {
     "name": "stdout",
     "output_type": "stream",
     "text": [
      "(1, 2, 'Prueba', True, False, 1.006)\n"
     ]
    }
   ],
   "source": [
    "tupla = (1, 2, 'Prueba', True, False, 1.006)\n",
    "print(tupla)"
   ]
  },
  {
   "cell_type": "markdown",
   "metadata": {},
   "source": [
    "# Practica para la solución reto 3"
   ]
  },
  {
   "cell_type": "markdown",
   "metadata": {},
   "source": [
    "\n",
    "### Definir las funciones correspondientes"
   ]
  },
  {
   "cell_type": "code",
   "execution_count": 24,
   "metadata": {},
   "outputs": [],
   "source": [
    "#Función autoPartes:\n",
    "def AutoPartes(ventas: list):\n",
    "    pass\n",
    "\n",
    "#Función consultaRegistro\n",
    "def consultaRegistro(ventas, idProducto):\n",
    "    pass"
   ]
  },
  {
   "cell_type": "markdown",
   "metadata": {},
   "source": [
    "### Se crea la lista de tuplas que posteriormente se le pasará como argumento a la función \"AutoPartes\""
   ]
  },
  {
   "cell_type": "code",
   "execution_count": 75,
   "metadata": {},
   "outputs": [],
   "source": [
    "#Lista de tuplas para la entrada de datos a la función AutoPartes\n",
    "#Pocisiones = 0: idProducto, 1:Descripción, 2: Numero de parte, 3: cantidad vendida, 4: stock\n",
    "a = [\n",
    "    (0, 'camisa', 'ABC123', 2, 10),\n",
    "    (1, 'pantalon', 'DEF954', 5, 15),\n",
    "    (0, 'camisa', 'ABC123', 3, 7),\n",
    "    (2, 'calcetines', 'HIJ625', 10, 100)\n",
    "    ]"
   ]
  },
  {
   "cell_type": "markdown",
   "metadata": {},
   "source": [
    "### Llamamos la función y le pasamos la lista de tuplas"
   ]
  },
  {
   "cell_type": "code",
   "execution_count": 76,
   "metadata": {},
   "outputs": [
    {
     "data": {
      "text/plain": [
       "{0: [(0, 'camisa', 'ABC123', 2, 10)],\n",
       " 1: [(1, 'pantalon', 'DEF954', 5, 15)],\n",
       " 2: [(0, 'camisa', 'ABC123', 3, 7)],\n",
       " 3: [(2, 'calcetines', 'HIJ625', 10, 100)]}"
      ]
     },
     "execution_count": 76,
     "metadata": {},
     "output_type": "execute_result"
    }
   ],
   "source": [
    "#Pasar la lista de tuplas a la función\n",
    "AutoPartes(a)"
   ]
  },
  {
   "cell_type": "markdown",
   "metadata": {},
   "source": [
    "### Iterar la lista de tuplas y guardar el restultado en un diccionario de lista de tuplas"
   ]
  },
  {
   "cell_type": "markdown",
   "metadata": {},
   "source": [
    "- `range(len(ventas))`: range(len(4)) = range(0 , 4-1): 0, 1, 2, 3\n",
    "    - `range()`: Se usa ya que un sólo entero no se puede iterar. Si se pone len(ventas) retorna 4, ya que hay 4 elementos o tuplas en la lista, la función de range sería dar el rango de elementos a iterar (0, 4).\n",
    "    - `len(ventas)`: Numero de elementos dentro de la lista.\n",
    "\n",
    "- `resultado[x]=[ventas[x]]`\n",
    "    - `resultado[x]`: Guarda la posición del elementos, es decir, se almacena la **key** del diccionario\n",
    "    - `[ventas[x]]`: Guarda los elementos, es decir, el valor del diccionario."
   ]
  },
  {
   "cell_type": "code",
   "execution_count": 74,
   "metadata": {},
   "outputs": [
    {
     "name": "stdout",
     "output_type": "stream",
     "text": [
      "{0: [1], 1: [True], 2: ['Hola'], 3: [1.005]}\n"
     ]
    }
   ],
   "source": [
    "def AutoPartes (ventas):\n",
    "    resultado={}\n",
    "    for x in range(len(ventas)):\n",
    "        resultado[x]=[ventas[x]]\n",
    "    return resultado\n",
    "\n",
    "print(AutoPartes(a))"
   ]
  },
  {
   "cell_type": "markdown",
   "metadata": {},
   "source": [
    "### Traer una pocición del diccionario de lista de tuplas"
   ]
  },
  {
   "cell_type": "markdown",
   "metadata": {},
   "source": [
    "- `r = AutoPartes(a)`: Se guarda el llamado de la función en una variable\n",
    "- `print(r[3])`: Se imprime r y se le indica que posición quiere imprimir. El primer [] llama al diccionario en la posición que se le indique, en ese caso imprime la posición 3 en el que se ubican los calcetines.\n",
    "- `print(r[3][0])` El segundo [] llama a la lista correspondiente, en este caso sólo hay una lista por en ese diccionario, así que se llama la posición 0.\n",
    "- `print(r[3][0][0])` El tercer [] llama a la posición correspondiente en la tupla, la posición 0: es el id del producto; la posición 2: es la descripción del producto; etc...\n",
    "\n",
    "<img src=\"img/Screenshot_2.png\">\n",
    "\n",
    "\n",
    "<img src=\"img/Screenshot_1.png\">"
   ]
  },
  {
   "cell_type": "code",
   "execution_count": 28,
   "metadata": {},
   "outputs": [
    {
     "name": "stdout",
     "output_type": "stream",
     "text": [
      "2\n"
     ]
    }
   ],
   "source": [
    "r = AutoPartes(a)\n",
    "#consultaRegistro(ventas, idProducto)\n",
    "#AutoPartes(a): Diccionario de lista de tuplas que retornó la función AutoPartes\n",
    "#0: idProducto de la lista de tuplas a\n",
    "consultaRegistro(AutoPartes(a), 0) #Se pasa la función `AutoPartes` con la lista de tuplas `a` y el idProducto (0)\n",
    "''' Llamar o imprimir las posiciones en el diccionario\n",
    "print(r[3][0][0]) '''"
   ]
  },
  {
   "cell_type": "markdown",
   "metadata": {},
   "source": [
    "### Aclaración con el ciclo for en Python"
   ]
  },
  {
   "cell_type": "markdown",
   "metadata": {},
   "source": [
    "#### Recorrido con variables\n",
    "Si se tiene una variable que guarda una palabra, el for lo que hace es recorrer esa palabra y tomar caracter por caracter:"
   ]
  },
  {
   "cell_type": "code",
   "execution_count": 29,
   "metadata": {},
   "outputs": [
    {
     "name": "stdout",
     "output_type": "stream",
     "text": [
      "H\n",
      "o\n",
      "l\n",
      "a\n"
     ]
    }
   ],
   "source": [
    "a = \"Hola\"\n",
    "for i in a:\n",
    "    print(i)"
   ]
  },
  {
   "cell_type": "markdown",
   "metadata": {},
   "source": [
    "#### Recorrido con listas\n",
    "\n",
    "Con las listas en vez de recorrer caracter por caracter, lo que hace el for es recorrer por la posición:"
   ]
  },
  {
   "cell_type": "code",
   "execution_count": 30,
   "metadata": {},
   "outputs": [
    {
     "name": "stdout",
     "output_type": "stream",
     "text": [
      "1\n",
      "True\n",
      "Hola\n",
      "1.005\n"
     ]
    }
   ],
   "source": [
    "a = [1, True, \"Hola\", 1.005]\n",
    "for i in a:\n",
    "    print(i)"
   ]
  },
  {
   "cell_type": "markdown",
   "metadata": {},
   "source": [
    "#### Recorrido con tuplas\n",
    "\n",
    "El recorrido en las tuplas funciona de la misma manera que con las listas:"
   ]
  },
  {
   "cell_type": "code",
   "execution_count": null,
   "metadata": {},
   "outputs": [],
   "source": [
    "a = (1, True, \"Hola\", 1.005)\n",
    "for i in a:\n",
    "    print(i)"
   ]
  },
  {
   "cell_type": "markdown",
   "metadata": {},
   "source": [
    "#### Recorrido con diccionarios\n",
    "\n",
    "Con los diccionarios funciona de una manera diferente. Se va a tomar las **Keys**"
   ]
  },
  {
   "cell_type": "code",
   "execution_count": null,
   "metadata": {},
   "outputs": [],
   "source": [
    "b={'nombre': 'Luis',\n",
    "    'apellido': 'Salas',\n",
    "    'edad': 25}\n",
    "\n",
    "for i in b:\n",
    "    print(i)"
   ]
  },
  {
   "cell_type": "markdown",
   "metadata": {},
   "source": [
    "Si se quiere recorrer los valores se usa el .values():"
   ]
  },
  {
   "cell_type": "code",
   "execution_count": null,
   "metadata": {},
   "outputs": [],
   "source": [
    "for i in b.values():\n",
    "    print(i)"
   ]
  },
  {
   "cell_type": "markdown",
   "metadata": {},
   "source": [
    "Si se quiere traer las **Keys** y los **values** se usa `.items()`. Nos va a dar como resultado una tupla con los elementos."
   ]
  },
  {
   "cell_type": "code",
   "execution_count": null,
   "metadata": {},
   "outputs": [],
   "source": [
    "for i in b.items():\n",
    "    print(i)"
   ]
  },
  {
   "cell_type": "markdown",
   "metadata": {},
   "source": [
    "Por si no se quiere una tupla se puede asignar otra variable al for para que en la variable `i` almacene las **keys** y en la variable `j` los **values**"
   ]
  },
  {
   "cell_type": "code",
   "execution_count": null,
   "metadata": {},
   "outputs": [],
   "source": [
    "for i, j in b.items():\n",
    "    print(i,\": \",j)"
   ]
  },
  {
   "cell_type": "markdown",
   "metadata": {},
   "source": [
    "### Crear la función `def consultaRegistro(ventas, idproducto)`"
   ]
  },
  {
   "cell_type": "markdown",
   "metadata": {},
   "source": [
    "Primero se tiene que preguntar si el idProducto si se encuentra en el diccionario que retornó la función AutoPartes, para ello se necesita de un `for` que itere el diccionario"
   ]
  },
  {
   "cell_type": "markdown",
   "metadata": {},
   "source": [
    "#### Explicación paso a paso\n",
    "\n",
    "- `resultado={}`: Diccionario vacío que retornará las ventas que coinciden con el idProducto\n",
    "- `for i in ventas:`: Se itera el diccionario de lista de tuplas que retornó la función `AutoPartes`, esto con el fin de obtener las ventas que hubo de cada producto, también para retornar únicamente esos elementos (ventas que coinciden con el idProducto).. En `i` se guarda la key del diccionario.\n",
    "- `if idProducto == ventas[i][0][0]:`: Si el idProducto es igual a algún idProducto dentro de el diccionario retornado por la función `AutoPartes` se guardan los datos en el diccionario vacío.\n",
    "    - `ventas[i][0][0]`\n",
    "        - `ventas`: Es el argumento o parámetro que se le pasó a la función `consultaRegistro`, en este caso se le pasó el diccionario que fue retornado por la función `AutoPartes`.\n",
    "        - `[i][0][0]`: Se recorren las posiciones hasta llegar a la posición del idProducto del registro de ventas.\n",
    "- `resultado[i]=ventas[i]`: Se guardan las ventas que coincidieron con el idProducto y el diccionario que retornó la función `AutoPartes`.\n",
    "    - `resultado[i]`: Se guarda la key.\n",
    "    - `ventas[i]`: Se guardan los valores, es decir la lista de tuplas con la tupla que coincide con el idProducto.\n",
    "- `if len(resultado) == 0:`: Se hace la condición con el fin de dar como salida el mensaje \"No hay registro de ventas de ese producto\" si el diccionario `resultado={}` (diccionario vacío) está vacío. Si el diccionario se encuentra vacío ( `0` ), es decir, no hay ninguna lista de tupla, se guarda el mensaje en la variable resultado.\n",
    "    - `len(resultado)`: Obtiene el número o \"longitud\" de elementos que tiene el diccionario.\n",
    "- `consultaRegistro(AutoPartes(a), 0)` Se llama la función `consultaRegistro` y se le pasan los argumentos `ventas`: `AutoPartes(a)` y `idProducto`: 0."
   ]
  },
  {
   "cell_type": "code",
   "execution_count": 115,
   "metadata": {},
   "outputs": [
    {
     "data": {
      "text/plain": [
       "{0: [(0, 'camisa', 'ABC123', 2, 10)], 2: [(0, 'camisa', 'ABC123', 3, 7)]}"
      ]
     },
     "execution_count": 115,
     "metadata": {},
     "output_type": "execute_result"
    }
   ],
   "source": [
    "def consultaRegistro(ventas, idProducto):\n",
    "    resultado={}\n",
    "    for i in ventas:\n",
    "        if idProducto == ventas[i][0][0]:\n",
    "            resultado[i]=ventas[i]\n",
    "    if len(resultado) == 0:\n",
    "        resultado = 'No hay registro de ventas de ese producto'\n",
    "    return resultado\n",
    "\n",
    "\n",
    "consultaRegistro(AutoPartes(a), 0)"
   ]
  },
  {
   "cell_type": "code",
   "execution_count": 86,
   "metadata": {},
   "outputs": [
    {
     "name": "stdout",
     "output_type": "stream",
     "text": [
      "qa\n"
     ]
    }
   ],
   "source": [
    "resultado = 0\n",
    "idProducto = 1\n",
    "\n",
    "if resultado == idProducto:\n",
    "    print(\"hola\")\n",
    "else:\n",
    "    print(\"qa\")"
   ]
  }
 ],
 "metadata": {
  "interpreter": {
   "hash": "2dd544e7fba02639034cb698fd41c551b886976fe883b63cb379cd69a3c56f89"
  },
  "kernelspec": {
   "display_name": "Python 3.9.7 ('base')",
   "language": "python",
   "name": "python3"
  },
  "language_info": {
   "codemirror_mode": {
    "name": "ipython",
    "version": 3
   },
   "file_extension": ".py",
   "mimetype": "text/x-python",
   "name": "python",
   "nbconvert_exporter": "python",
   "pygments_lexer": "ipython3",
   "version": "3.9.7"
  },
  "orig_nbformat": 4
 },
 "nbformat": 4,
 "nbformat_minor": 2
}
