{
 "cells": [
  {
   "cell_type": "markdown",
   "metadata": {},
   "source": [
    "## Funciones anonimas (lambda)"
   ]
  },
  {
   "cell_type": "markdown",
   "metadata": {},
   "source": [
    "La función `apply` recibe un número y otra función, en la función `double` recibe un numero, y lo retorna * 2.\n",
    "Ahora en vez de pasarle como argumento la función `double`, se va a pasar un lambda: `lambda num: num *2`"
   ]
  },
  {
   "cell_type": "code",
   "execution_count": 35,
   "metadata": {},
   "outputs": [
    {
     "name": "stdout",
     "output_type": "stream",
     "text": [
      "10\n"
     ]
    }
   ],
   "source": [
    "def apply(num, funcion):\n",
    "    return funcion(num)\n",
    "\n",
    "def double(num):\n",
    "    return num * 2\n",
    "\n",
    "#Pasar como argumento double\n",
    "#print(apply(5, double))\n",
    "\n",
    "#Pasar como argumento lambda\n",
    "print(apply(5, lambda num: num *2))\n"
   ]
  },
  {
   "cell_type": "code",
   "execution_count": null,
   "metadata": {},
   "outputs": [],
   "source": [
    "dollars = [\"32$\",\"15$\",\"12$\",\"17$\",\"20$\"]\n",
    "\n",
    "map()"
   ]
  }
 ],
 "metadata": {
  "interpreter": {
   "hash": "dd5b2693a84d0c8290bdbefedc4c1333bd0ae1351e4e5e2274916304a4fbdf23"
  },
  "kernelspec": {
   "display_name": "Python 3.9.5 64-bit",
   "language": "python",
   "name": "python3"
  },
  "language_info": {
   "codemirror_mode": {
    "name": "ipython",
    "version": 3
   },
   "file_extension": ".py",
   "mimetype": "text/x-python",
   "name": "python",
   "nbconvert_exporter": "python",
   "pygments_lexer": "ipython3",
   "version": "3.9.5"
  },
  "orig_nbformat": 4
 },
 "nbformat": 4,
 "nbformat_minor": 2
}
